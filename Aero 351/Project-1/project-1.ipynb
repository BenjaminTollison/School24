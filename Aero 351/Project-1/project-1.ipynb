{
 "cells": [
  {
   "cell_type": "code",
   "execution_count": 1,
   "metadata": {},
   "outputs": [],
   "source": [
    "### Benjamin Tollison ###\n",
    "import matplotlib.pyplot as plt\n",
    "import numpy as np\n",
    "import pandas as pd\n",
    "import scipy\n",
    "import sympy as sp\n",
    "from IPython.display import Latex, Math, display\n",
    "from sympy import (\n",
    "    Eq,\n",
    "    Function,\n",
    "    Matrix,\n",
    "    cos,\n",
    "    cosh,\n",
    "    exp,\n",
    "    integrate,\n",
    "    lambdify,\n",
    "    pi,\n",
    "    sin,\n",
    "    sinh,\n",
    "    symbols,\n",
    ")\n",
    "from decimal import Decimal\n",
    "from sympy.solvers.pde import pdsolve\n",
    "from sympy.solvers.solveset import linsolve\n",
    "def displayEquations(LHS,RHS):\n",
    "    left = sp.latex(LHS)\n",
    "    right = sp.latex(RHS)\n",
    "    display(Math(left + '=' + right))\n",
    "    np.set_printoptions(suppress=True)\n",
    "def displayVariable(variable:str,RHS):\n",
    "    left = sp.latex(symbols(variable))\n",
    "    right = sp.latex(RHS)\n",
    "    display(Math(left + '=' + right))\n",
    "def displayVariableWithUnits(variable:str,RHS,units):\n",
    "    left = sp.latex(symbols(variable))\n",
    "    right = sp.latex(RHS)\n",
    "    latexUnit = sp.latex(symbols(units))\n",
    "    display(Math(left + '=' + right + '\\\\;' +'\\\\left['+ latexUnit + '\\\\right]'))\n",
    "def format_scientific(number:float):\n",
    "    a = '%E' % number\n",
    "    return a.split('E')[0].rstrip('0').rstrip('.') + 'E' + a.split('E')[1]\n",
    "deg2rad = np.pi/180\n",
    "rad2deg = 180/np.pi"
   ]
  },
  {
   "cell_type": "code",
   "execution_count": 6,
   "metadata": {},
   "outputs": [
    {
     "data": {
      "text/latex": [
       "$\\displaystyle r_{throat}=0.115624457705622\\;\\left[m\\right]$"
      ],
      "text/plain": [
       "<IPython.core.display.Math object>"
      ]
     },
     "metadata": {},
     "output_type": "display_data"
    },
    {
     "data": {
      "text/latex": [
       "$\\displaystyle r_{exit}=1.25016060614723\\;\\left[m\\right]$"
      ],
      "text/plain": [
       "<IPython.core.display.Math object>"
      ]
     },
     "metadata": {},
     "output_type": "display_data"
    },
    {
     "name": "stdout",
     "output_type": "stream",
     "text": [
      "4.914000000000001\n"
     ]
    }
   ],
   "source": [
    "area_throat = 0.042\n",
    "area_exit = 4.91\n",
    "radius_throat = (area_throat/np.pi)**0.5\n",
    "radius_exit = (area_exit/np.pi)**0.5\n",
    "displayVariableWithUnits('r_{throat}',radius_throat,'m')\n",
    "displayVariableWithUnits('r_{exit}',radius_exit,'m')\n"
   ]
  },
  {
   "cell_type": "markdown",
   "metadata": {},
   "source": [
    "### Here is how I can find all the mach values from the area equation\n",
    "$$\\frac{\\sigma}{\\sigma_{cr}} = \n",
    "\\frac{1}{M} \\left[\\frac{2}{\\gamma+1}\\left(1+\\frac{\\gamma-1}{2}M^2\\right)\\right]^\\frac{\\gamma+1}{2(\\gamma-1)}$$\n",
    "We can us Householder's second order root method from the nasa report:\\\n",
    "https://www.grc.nasa.gov/www/winddocs/utilities/b4wind_guide/mach.html\n",
    "$$ x_{i+1} = x_i - \\frac{2f}{f'-\\sqrt{f'^2-ff''}}$$\n",
    "With the subsonic regime being defined by:\n",
    "$$f = (P+QX)^\\frac{1}{Q} - RX = 0$$\n",
    "$$f' = (P+QX)^{\\frac{1}{Q}-1} - R$$\n",
    "$$f'' = P(P+QX)^{\\frac{1}{Q}-2}$$\n",
    "and the supersonic regime can be found with the following:\n",
    "$$f = (PX+Q)^\\frac{1}{P} - RX = 0$$\n",
    "$$f' = (PX+Q)^{\\frac{1}{P}-1} - R$$\n",
    "$$f'' = Q(PX+Q)^{\\frac{1}{P}-2}$$\n",
    "And the Coefficients can be defined by:\n",
    "$$P=\\frac{2}{\\gamma+1}$$\n",
    "$$Q = \\frac{\\gamma-1}{\\gamma+1}=1-P $$\n",
    "$$X_{subsonic} = M^2$$\n",
    "$$X_{supersonic} = \\frac{1}{M^2}$$\n",
    "$$R_{subsonic} = \\left(\\frac{\\sigma}{\\sigma_{cr}}\\right)^2$$\n",
    "$$R_{supersonic} = \\left(\\frac{\\sigma}{\\sigma_{cr}}\\right)^\\frac{2Q}{P}$$\n",
    "Therefore we can have 4 possible solutions. Subsonic->subsonic, subsonic->supersonic, supersonic->subsonic, or supersonic->supersonic"
   ]
  },
  {
   "cell_type": "code",
   "execution_count": 8,
   "metadata": {},
   "outputs": [],
   "source": [
    "def HouseholdP2(x_intial:float,scheme_function,scheme_prime,scheme_double_prime)->float:\n",
    "  max_iterations = 1000\n",
    "  while abs(scheme_function(x_intial)) > 1e-8:\n",
    "    x_intial = x_intial - ((2*scheme_function(x_intial))/(scheme_prime(x_intial) - (scheme_prime(x_intial)**2-scheme_function(x_intial)*scheme_double_prime(x_intial))**0.5))\n",
    "    max_iterations -=1\n",
    "    if max_iterations ==0:\n",
    "      print('The scheme didn\\'t converge')\n",
    "      break\n",
    "  return x_intial\n",
    "def Householder(x_position:float,section_supersonic:bool,area_function)->float:\n",
    "  P = 2/2.4\n",
    "  Q = 1-P\n",
    "  if section_supersonic==False:\n",
    "    R = (area_function(x_position))**2\n",
    "    a = P**(1/Q)\n",
    "    r = (R-1)/(2*a)\n",
    "    x_intial = 1 / ((1+r)+np.sqrt(r*(r+2)))\n",
    "    f = lambda X : (P+Q*X)**(1/Q) - R*X\n",
    "    f_prime = lambda X: (P+Q*X)**((1/Q)-1) - R\n",
    "    f_double_prime = lambda X: P*(P+Q*X)**((1/Q)-2)\n",
    "    x_final = HouseholdP2(x_intial,f,f_prime,f_double_prime)\n",
    "    return (x_final)**0.5\n",
    "  if section_supersonic == True:\n",
    "    R = (area_function(x_position))**(2*Q/P)\n",
    "    a = Q**(1/P)\n",
    "    r = (R-1)/(2*a)\n",
    "    x_intial = 1 / ((1+r)+np.sqrt(r*(r+2)))\n",
    "    f = lambda X : (P*X+Q)**(1/P) - R*X\n",
    "    f_prime = lambda X: (P*X+Q)**((1/P)-1) - R\n",
    "    f_double_prime = lambda X: Q*(P*X+Q)**((1/P)-2)\n",
    "    x_final = abs(HouseholdP2(x_intial,f,f_prime,f_double_prime))\n",
    "    return 1/(x_final)**0.5\n",
    "original_geometry = lambda x:2-np.cos(np.pi*x)\n",
    "mach_values = {'SubsonicOnly':[],'Subsonic/Supersonic':[],'Supersonic/Subsonic':[],'SupersonicOnly':[]}\n",
    "area_ratio = {'Area/Area_cr':[]}\n",
    "x_values_section_1 = np.linspace(-0.25,0,200)\n",
    "x_values_section_2 = np.linspace(0,1,800)\n",
    "area_ratio['Area/Area_cr'] = [original_geometry(x) for x in x_values_section_1] + [2-np.cos(np.pi*x) for x in x_values_section_2]\n",
    "mach_values['SubsonicOnly'] = [Householder(x,False,original_geometry)for x in x_values_section_1] + [Householder(x,False,original_geometry)for x in x_values_section_2]\n",
    "mach_values['Subsonic/Supersonic'] = [Householder(x,False,original_geometry)for x in x_values_section_1] + [Householder(x,True,original_geometry)for x in x_values_section_2]\n",
    "mach_values['Supersonic/Subsonic'] = [Householder(x,True,original_geometry)for x in x_values_section_1] + [Householder(x,False,original_geometry)for x in x_values_section_2]\n",
    "mach_values['SupersonicOnly'] = [Householder(x,True,original_geometry)for x in x_values_section_1] + [Householder(x,True,original_geometry)for x in x_values_section_2]"
   ]
  }
 ],
 "metadata": {
  "kernelspec": {
   "display_name": "Python 3",
   "language": "python",
   "name": "python3"
  },
  "language_info": {
   "codemirror_mode": {
    "name": "ipython",
    "version": 3
   },
   "file_extension": ".py",
   "mimetype": "text/x-python",
   "name": "python",
   "nbconvert_exporter": "python",
   "pygments_lexer": "ipython3",
   "version": "3.11.2"
  }
 },
 "nbformat": 4,
 "nbformat_minor": 2
}

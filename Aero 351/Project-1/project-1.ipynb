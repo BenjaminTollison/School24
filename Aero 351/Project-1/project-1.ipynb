{
 "cells": [
  {
   "cell_type": "code",
   "execution_count": 168,
   "metadata": {},
   "outputs": [],
   "source": [
    "### Benjamin Tollison ###\n",
    "import matplotlib.pyplot as plt\n",
    "import numpy as np\n",
    "import pandas as pd\n",
    "import scipy\n",
    "import sympy as sp\n",
    "from IPython.display import Latex, Math, display\n",
    "from scipy.optimize import curve_fit\n",
    "from sympy import (\n",
    "    Eq,\n",
    "    Function,\n",
    "    Matrix,\n",
    "    cos,\n",
    "    cosh,\n",
    "    exp,\n",
    "    integrate,\n",
    "    lambdify,\n",
    "    pi,\n",
    "    sin,\n",
    "    sinh,\n",
    "    symbols,\n",
    ")\n",
    "from decimal import Decimal\n",
    "from sympy.solvers.pde import pdsolve\n",
    "from sympy.solvers.solveset import linsolve\n",
    "def displayEquations(LHS,RHS):\n",
    "    left = sp.latex(LHS)\n",
    "    right = sp.latex(RHS)\n",
    "    display(Math(left + '=' + right))\n",
    "    np.set_printoptions(suppress=True)\n",
    "def displayVariable(variable:str,RHS):\n",
    "    left = sp.latex(symbols(variable))\n",
    "    right = sp.latex(RHS)\n",
    "    display(Math(left + '=' + right))\n",
    "def displayVariableWithUnits(variable:str,RHS,units):\n",
    "    left = sp.latex(symbols(variable))\n",
    "    right = sp.latex(RHS)\n",
    "    latexUnit = sp.latex(symbols(units))\n",
    "    display(Math(left + '=' + right + '\\\\;' +'\\\\left['+ latexUnit + '\\\\right]'))\n",
    "def format_scientific(number:float):\n",
    "    a = '%E' % number\n",
    "    return a.split('E')[0].rstrip('0').rstrip('.') + 'E' + a.split('E')[1]\n",
    "deg2rad = np.pi/180\n",
    "rad2deg = 180/np.pi"
   ]
  },
  {
   "cell_type": "code",
   "execution_count": 169,
   "metadata": {},
   "outputs": [
    {
     "data": {
      "text/latex": [
       "$\\displaystyle r_{throat}=0.115624457705622\\;\\left[m\\right]$"
      ],
      "text/plain": [
       "<IPython.core.display.Math object>"
      ]
     },
     "metadata": {},
     "output_type": "display_data"
    },
    {
     "data": {
      "text/latex": [
       "$\\displaystyle r_{exit}=1.25016060614723\\;\\left[m\\right]$"
      ],
      "text/plain": [
       "<IPython.core.display.Math object>"
      ]
     },
     "metadata": {},
     "output_type": "display_data"
    }
   ],
   "source": [
    "area_throat = 0.042\n",
    "area_exit = 4.91\n",
    "radius_throat = (area_throat/np.pi)**0.5\n",
    "radius_exit = (area_exit/np.pi)**0.5\n",
    "displayVariableWithUnits('r_{throat}',radius_throat,'m')\n",
    "displayVariableWithUnits('r_{exit}',radius_exit,'m')\n",
    "scaling_factor = radius_throat/17"
   ]
  },
  {
   "cell_type": "code",
   "execution_count": 170,
   "metadata": {},
   "outputs": [
    {
     "name": "stdout",
     "output_type": "stream",
     "text": [
      "0.041999999999999996\n",
      "4.900214208477508\n",
      "0.0\n",
      "2.4077092957523676\n"
     ]
    },
    {
     "data": {
      "text/latex": [
       "$\\displaystyle a=-0.0054014212031556$"
      ],
      "text/plain": [
       "<IPython.core.display.Math object>"
      ]
     },
     "metadata": {},
     "output_type": "display_data"
    },
    {
     "data": {
      "text/latex": [
       "$\\displaystyle b=0.0678090067545791$"
      ],
      "text/plain": [
       "<IPython.core.display.Math object>"
      ]
     },
     "metadata": {},
     "output_type": "display_data"
    },
    {
     "data": {
      "text/latex": [
       "$\\displaystyle c=-0.339235691213313$"
      ],
      "text/plain": [
       "<IPython.core.display.Math object>"
      ]
     },
     "metadata": {},
     "output_type": "display_data"
    },
    {
     "data": {
      "text/latex": [
       "$\\displaystyle d=0.969793321238205$"
      ],
      "text/plain": [
       "<IPython.core.display.Math object>"
      ]
     },
     "metadata": {},
     "output_type": "display_data"
    },
    {
     "data": {
      "text/latex": [
       "$\\displaystyle e=0.115791849168724$"
      ],
      "text/plain": [
       "<IPython.core.display.Math object>"
      ]
     },
     "metadata": {},
     "output_type": "display_data"
    },
    {
     "data": {
      "image/png": "[encoded data removed]",
      "text/plain": [
       "<Figure size 640x480 with 1 Axes>"
      ]
     },
     "metadata": {},
     "output_type": "display_data"
    }
   ],
   "source": [
    "# Define your data points (x, y)\n",
    "scaling_factor = radius_throat/17\n",
    "x_data = (np.array([210,306,355,420,479,519,564]) - 210)*scaling_factor\n",
    "y_data = np.array([17,65*1.4125,83*1.4125,103*1.4125,115*1.4125,123*1.4125,130*1.4125])*scaling_factor\n",
    "print(np.pi*y_data[0]**2)\n",
    "print(np.pi*y_data[-1]**2)\n",
    "print(x_data[0])\n",
    "print(x_data[-1])\n",
    "# Define the 4th order polynomial function\n",
    "def fourth_order_poly(x, a, b, c, d, e):\n",
    "    return a * x**4 + b * x**3 + c * x**2 + d * x + e\n",
    "\n",
    "params, covariance = curve_fit(fourth_order_poly, x_data, y_data)\n",
    "a_fit, b_fit, c_fit, d_fit, e_fit = params\n",
    "x_fit = np.linspace(min(x_data), max(x_data), 100)\n",
    "y_fit = fourth_order_poly(x_fit, a_fit, b_fit, c_fit, d_fit, e_fit)\n",
    "figure,axis = plt.subplots()\n",
    "plt.plot(x_fit, y_fit, color='red', label='Fitted Curve')\n",
    "plt.scatter(x_data, y_data, label='Data')\n",
    "plt.xlabel('x')\n",
    "plt.ylabel('radius [m]')\n",
    "plt.title('4th Order Polynomial Fit from Nozzle picture')\n",
    "plt.grid(True)\n",
    "axis.set_aspect('equal')\n",
    "displayVariable('a',a_fit)\n",
    "displayVariable('b',b_fit)\n",
    "displayVariable('c',c_fit)\n",
    "displayVariable('d',d_fit)\n",
    "displayVariable('e',e_fit)"
   ]
  },
  {
   "cell_type": "markdown",
   "metadata": {},
   "source": [
    "### Here is how I can find all the mach values from the area equation\n",
    "$$\\frac{\\sigma}{\\sigma_{cr}} = \n",
    "\\frac{1}{M} \\left[\\frac{2}{\\gamma+1}\\left(1+\\frac{\\gamma-1}{2}M^2\\right)\\right]^\\frac{\\gamma+1}{2(\\gamma-1)}$$\n",
    "We can us Householder's second order root method from the nasa report:\\\n",
    "https://www.grc.nasa.gov/www/winddocs/utilities/b4wind_guide/mach.html\n",
    "$$ x_{i+1} = x_i - \\frac{2f}{f'-\\sqrt{f'^2-ff''}}$$\n",
    "With the subsonic regime being defined by:\n",
    "$$f = (P+QX)^\\frac{1}{Q} - RX = 0$$\n",
    "$$f' = (P+QX)^{\\frac{1}{Q}-1} - R$$\n",
    "$$f'' = P(P+QX)^{\\frac{1}{Q}-2}$$\n",
    "and the supersonic regime can be found with the following:\n",
    "$$f = (PX+Q)^\\frac{1}{P} - RX = 0$$\n",
    "$$f' = (PX+Q)^{\\frac{1}{P}-1} - R$$\n",
    "$$f'' = Q(PX+Q)^{\\frac{1}{P}-2}$$\n",
    "And the Coefficients can be defined by:\n",
    "$$P=\\frac{2}{\\gamma+1}$$\n",
    "$$Q = \\frac{\\gamma-1}{\\gamma+1}=1-P $$\n",
    "$$X_{subsonic} = M^2$$\n",
    "$$X_{supersonic} = \\frac{1}{M^2}$$\n",
    "$$R_{subsonic} = \\left(\\frac{\\sigma}{\\sigma_{cr}}\\right)^2$$\n",
    "$$R_{supersonic} = \\left(\\frac{\\sigma}{\\sigma_{cr}}\\right)^\\frac{2Q}{P}$$\n",
    "Therefore we can have 4 possible solutions. Subsonic->subsonic, subsonic->supersonic, supersonic->subsonic, or supersonic->supersonic"
   ]
  },
  {
   "cell_type": "code",
   "execution_count": 171,
   "metadata": {},
   "outputs": [
    {
     "data": {
      "text/html": [
       "<div>\n",
       "<style scoped>\n",
       "    .dataframe tbody tr th:only-of-type {\n",
       "        vertical-align: middle;\n",
       "    }\n",
       "\n",
       "    .dataframe tbody tr th {\n",
       "        vertical-align: top;\n",
       "    }\n",
       "\n",
       "    .dataframe thead th {\n",
       "        text-align: right;\n",
       "    }\n",
       "</style>\n",
       "<table border=\"1\" class=\"dataframe\">\n",
       "  <thead>\n",
       "    <tr style=\"text-align: right;\">\n",
       "      <th></th>\n",
       "      <th>Area/Area_cr</th>\n",
       "    </tr>\n",
       "  </thead>\n",
       "  <tbody>\n",
       "    <tr>\n",
       "      <th>0</th>\n",
       "      <td>1.002898</td>\n",
       "    </tr>\n",
       "    <tr>\n",
       "      <th>1</th>\n",
       "      <td>1.448908</td>\n",
       "    </tr>\n",
       "    <tr>\n",
       "      <th>2</th>\n",
       "      <td>1.967129</td>\n",
       "    </tr>\n",
       "    <tr>\n",
       "      <th>3</th>\n",
       "      <td>2.553639</td>\n",
       "    </tr>\n",
       "    <tr>\n",
       "      <th>4</th>\n",
       "      <td>3.204665</td>\n",
       "    </tr>\n",
       "    <tr>\n",
       "      <th>...</th>\n",
       "      <td>...</td>\n",
       "    </tr>\n",
       "    <tr>\n",
       "      <th>95</th>\n",
       "      <td>112.788530</td>\n",
       "    </tr>\n",
       "    <tr>\n",
       "      <th>96</th>\n",
       "      <td>113.776514</td>\n",
       "    </tr>\n",
       "    <tr>\n",
       "      <th>97</th>\n",
       "      <td>114.759831</td>\n",
       "    </tr>\n",
       "    <tr>\n",
       "      <th>98</th>\n",
       "      <td>115.738639</td>\n",
       "    </tr>\n",
       "    <tr>\n",
       "      <th>99</th>\n",
       "      <td>116.713095</td>\n",
       "    </tr>\n",
       "  </tbody>\n",
       "</table>\n",
       "<p>100 rows × 1 columns</p>\n",
       "</div>"
      ],
      "text/plain": [
       "    Area/Area_cr\n",
       "0       1.002898\n",
       "1       1.448908\n",
       "2       1.967129\n",
       "3       2.553639\n",
       "4       3.204665\n",
       "..           ...\n",
       "95    112.788530\n",
       "96    113.776514\n",
       "97    114.759831\n",
       "98    115.738639\n",
       "99    116.713095\n",
       "\n",
       "[100 rows x 1 columns]"
      ]
     },
     "metadata": {},
     "output_type": "display_data"
    },
    {
     "data": {
      "text/latex": [
       "$\\displaystyle M^{*}=1.05769849137892$"
      ],
      "text/plain": [
       "<IPython.core.display.Math object>"
      ]
     },
     "metadata": {},
     "output_type": "display_data"
    },
    {
     "data": {
      "text/latex": [
       "$\\displaystyle M_{e}=5.36277889150424$"
      ],
      "text/plain": [
       "<IPython.core.display.Math object>"
      ]
     },
     "metadata": {},
     "output_type": "display_data"
    }
   ],
   "source": [
    "def HouseholdP2(x_intial:float,scheme_function,scheme_prime,scheme_double_prime)->float:\n",
    "  max_iterations = 1000\n",
    "  while abs(scheme_function(x_intial)) > 1e-8:\n",
    "    x_intial = x_intial - ((2*scheme_function(x_intial))/(scheme_prime(x_intial) - (scheme_prime(x_intial)**2-scheme_function(x_intial)*scheme_double_prime(x_intial))**0.5))\n",
    "    max_iterations -=1\n",
    "    if max_iterations ==0:\n",
    "      print('The scheme didn\\'t converge')\n",
    "      break\n",
    "  return x_intial\n",
    "def Householder(x_position:float,section_supersonic:bool,area_function)->float:\n",
    "  gamma = 1.24\n",
    "  P = 2/(gamma+1)\n",
    "  Q = 1-P\n",
    "  if section_supersonic==False:\n",
    "    R = (area_function(x_position))**2\n",
    "    a = P**(1/Q)\n",
    "    r = (R-1)/(2*a)\n",
    "    x_intial = 1 / ((1+r)+np.sqrt(r*(r+2)))\n",
    "    f = lambda X : (P+Q*X)**(1/Q) - R*X\n",
    "    f_prime = lambda X: (P+Q*X)**((1/Q)-1) - R\n",
    "    f_double_prime = lambda X: P*(P+Q*X)**((1/Q)-2)\n",
    "    x_final = HouseholdP2(x_intial,f,f_prime,f_double_prime)\n",
    "    return (x_final)**0.5\n",
    "  if section_supersonic == True:\n",
    "    R = (area_function(x_position))**(2*Q/P)\n",
    "    a = Q**(1/P)\n",
    "    r = (R-1)/(2*a)\n",
    "    x_intial = 1 / ((1+r)+np.sqrt(r*(r+2)))\n",
    "    f = lambda X : (P*X+Q)**(1/P) - R*X\n",
    "    f_prime = lambda X: (P*X+Q)**((1/P)-1) - R\n",
    "    f_double_prime = lambda X: Q*(P*X+Q)**((1/P)-2)\n",
    "    x_final = abs(HouseholdP2(x_intial,f,f_prime,f_double_prime))\n",
    "    return 1/(x_final)**0.5\n",
    "original_geometry = lambda x: (np.pi*(a_fit*x**4 + b_fit*x**3 + c_fit*x**2 + d_fit*x + e_fit)**2)/(np.pi*radius_throat**2)\n",
    "mach_values = {'SubsonicOnly':[],'Subsonic/Supersonic':[],'Supersonic/Subsonic':[],'SupersonicOnly':[]}\n",
    "area_ratio = {'Area/Area_cr':[]}\n",
    "x_values = np.linspace(min(x_data),max(x_data),100)\n",
    "area_ratio['Area/Area_cr'] = [original_geometry(x) for x in x_values]\n",
    "mach_values['SubsonicOnly'] = [Householder(x,False,original_geometry)for x in x_values]\n",
    "mach_values['Subsonic/Supersonic'] = [Householder(x,False,original_geometry)for x in x_values]\n",
    "mach_values['Supersonic/Subsonic'] = [Householder(x,True,original_geometry)for x in x_values]\n",
    "mach_values['SupersonicOnly'] = [Householder(x,True,original_geometry)for x in x_values]\n",
    "display(pd.DataFrame(area_ratio))\n",
    "displayVariable('M^*',mach_values['SupersonicOnly'][0])\n",
    "displayVariable('M_e',mach_values['SupersonicOnly'][-1])"
   ]
  },
  {
   "cell_type": "code",
   "execution_count": 172,
   "metadata": {},
   "outputs": [
    {
     "data": {
      "image/png": "[encoded data removed]",
      "text/plain": [
       "<Figure size 640x480 with 1 Axes>"
      ]
     },
     "metadata": {},
     "output_type": "display_data"
    }
   ],
   "source": [
    "plt.plot(x_values,mach_values['SupersonicOnly'])\n",
    "plt.title('Mach Values')\n",
    "plt.ylabel('Mach')\n",
    "plt.xlabel('postion in nozzle from the throat [m]')\n",
    "plt.show()"
   ]
  },
  {
   "cell_type": "markdown",
   "metadata": {},
   "source": [
    "To find the stagnation pressure ratio as a function of mach, I used the following equation:\n",
    "$$\\frac{P_0}{P} = \\left(1+\\frac{\\gamma-1}{2}M^2\\right)^\\frac{\\gamma}{\\gamma-1}$$\n",
    "$$\\Rightarrow \\frac{P}{P_0} = \\left(1+\\frac{\\gamma-1}{2}M^2\\right)^\\frac{\\gamma}{1-\\gamma}$$"
   ]
  }
 ],
 "metadata": {
  "kernelspec": {
   "display_name": "Python 3",
   "language": "python",
   "name": "python3"
  },
  "language_info": {
   "codemirror_mode": {
    "name": "ipython",
    "version": 3
   },
   "file_extension": ".py",
   "mimetype": "text/x-python",
   "name": "python",
   "nbconvert_exporter": "python",
   "pygments_lexer": "ipython3",
   "version": "3.11.2"
  }
 },
 "nbformat": 4,
 "nbformat_minor": 2
}

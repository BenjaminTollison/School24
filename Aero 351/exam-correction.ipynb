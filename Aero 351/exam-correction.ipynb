{
 "cells": [
  {
   "cell_type": "code",
   "execution_count": 13,
   "metadata": {},
   "outputs": [],
   "source": [
    "import numpy as np\n",
    "import sympy as sp\n",
    "from sympy import symbols\n",
    "from IPython.display import Latex, Math, display\n",
    "def displayVariable(variable:str,RHS):\n",
    "    left = sp.latex(symbols(variable))\n",
    "    right = sp.latex(RHS)\n",
    "    display(Math(left + '=' + right))\n",
    "def displayVariableWithUnits(variable:str,RHS,units):\n",
    "    left = sp.latex(symbols(variable))\n",
    "    right = sp.latex(RHS)\n",
    "    latexUnit = sp.latex(symbols(units))\n",
    "    display(Math(left + '=' + right + '\\\\;' +'\\\\left['+ latexUnit + '\\\\right]'))\n",
    "def format_scientific(number:float):\n",
    "    a = '%E' % number\n",
    "    return a.split('E')[0].rstrip('0').rstrip('.') + 'E' + a.split('E')[1]\n",
    "deg2rad = np.pi/180\n",
    "rad2deg = 180/np.pi"
   ]
  },
  {
   "cell_type": "code",
   "execution_count": 16,
   "metadata": {},
   "outputs": [
    {
     "data": {
      "text/latex": [
       "$\\displaystyle \\sigma=0.25\\;\\left[m^{2}\\right]$"
      ],
      "text/plain": [
       "<IPython.core.display.Math object>"
      ]
     },
     "metadata": {},
     "output_type": "display_data"
    },
    {
     "data": {
      "text/latex": [
       "$\\displaystyle M \\left(M^{2} \\left(\\frac{\\gamma}{2} + \\frac{1}{2}\\right) + 1\\right)^{\\frac{- \\gamma - 1}{2 \\gamma - 2}} - \\kappa$"
      ],
      "text/plain": [
       "M*(M**2*(\\gamma/2 + 1/2) + 1)**((-\\gamma - 1)/(2*\\gamma - 2)) - \\kappa"
      ]
     },
     "metadata": {},
     "output_type": "display_data"
    },
    {
     "data": {
      "text/latex": [
       "$\\displaystyle \\frac{2 M^{2} \\left(- \\gamma - 1\\right) \\left(\\frac{\\gamma}{2} + \\frac{1}{2}\\right) \\left(M^{2} \\left(\\frac{\\gamma}{2} + \\frac{1}{2}\\right) + 1\\right)^{\\frac{- \\gamma - 1}{2 \\gamma - 2}}}{\\left(2 \\gamma - 2\\right) \\left(M^{2} \\left(\\frac{\\gamma}{2} + \\frac{1}{2}\\right) + 1\\right)} + \\left(M^{2} \\left(\\frac{\\gamma}{2} + \\frac{1}{2}\\right) + 1\\right)^{\\frac{- \\gamma - 1}{2 \\gamma - 2}}$"
      ],
      "text/plain": [
       "2*M**2*(-\\gamma - 1)*(\\gamma/2 + 1/2)*(M**2*(\\gamma/2 + 1/2) + 1)**((-\\gamma - 1)/(2*\\gamma - 2))/((2*\\gamma - 2)*(M**2*(\\gamma/2 + 1/2) + 1)) + (M**2*(\\gamma/2 + 1/2) + 1)**((-\\gamma - 1)/(2*\\gamma - 2))"
      ]
     },
     "metadata": {},
     "output_type": "display_data"
    },
    {
     "data": {
      "text/latex": [
       "$\\displaystyle M=0.870767750792888$"
      ],
      "text/plain": [
       "<IPython.core.display.Math object>"
      ]
     },
     "metadata": {},
     "output_type": "display_data"
    }
   ],
   "source": [
    "inlet_area = 0.25\n",
    "displayVariableWithUnits('\\\\sigma',inlet_area,'m^2')\n",
    "inlet_total_pressure = 1.4*10**5 # Pa\n",
    "inlet_total_temperature = 900 # K\n",
    "mass_flow_rate = 6.34 # kg/s\n",
    "gamma_gas = 1.33\n",
    "dimensionaless_mass_flow = (mass_flow_rate*(294*inlet_total_temperature)**0.5)/(inlet_total_pressure*inlet_area)\n",
    "M,gamma,kappa = symbols('M \\\\gamma \\\\kappa')\n",
    "objectivefunction_symbolic = M*(1+((gamma+1)/2)*M**2)**(-(gamma+1)/(2*(gamma-1))) - kappa\n",
    "display(objectivefunction_symbolic)\n",
    "objectivefunctionprime_symbolic = objectivefunction_symbolic.diff(M)\n",
    "display(objectivefunctionprime_symbolic)\n",
    "step_size_symbolic = objectivefunction_symbolic/objectivefunctionprime_symbolic\n",
    "ObjectFunctionNumeric = sp.lambdify((M,gamma,kappa),objectivefunction_symbolic)\n",
    "step_size_numeric = sp.lambdify((M,gamma,kappa),step_size_symbolic)\n",
    "intial_M = 1\n",
    "iteration_stop = 100\n",
    "iteration_count = 0\n",
    "while abs(ObjectFunctionNumeric(intial_M,gamma_gas,dimensionaless_mass_flow)) > 1e-8:\n",
    "  iteration_count += 1\n",
    "  intial_M = intial_M - step_size_numeric(intial_M,gamma_gas,dimensionaless_mass_flow)\n",
    "  if iteration_count == iteration_stop:\n",
    "    print('scheme did not converge')\n",
    "# print(abs(ObjectFunctionNumeric(intial_M,gamma_gas,dimensionaless_mass_flow)))\n",
    "# print(iteration_count)\n",
    "displayVariable('M',intial_M)"
   ]
  },
  {
   "cell_type": "code",
   "execution_count": 17,
   "metadata": {},
   "outputs": [
    {
     "data": {
      "text/latex": [
       "$\\displaystyle M_{i}=3.37366465829458$"
      ],
      "text/plain": [
       "<IPython.core.display.Math object>"
      ]
     },
     "metadata": {},
     "output_type": "display_data"
    },
    {
     "data": {
      "text/latex": [
       "$\\displaystyle e_{r}=\\mathtt{\\text{1.846343E-09}}$"
      ],
      "text/plain": [
       "<IPython.core.display.Math object>"
      ]
     },
     "metadata": {},
     "output_type": "display_data"
    },
    {
     "data": {
      "text/latex": [
       "$\\displaystyle i=8$"
      ],
      "text/plain": [
       "<IPython.core.display.Math object>"
      ]
     },
     "metadata": {},
     "output_type": "display_data"
    }
   ],
   "source": [
    "def MachFlow(machnumber):\n",
    "  kappa = dimensionaless_mass_flow\n",
    "  gamma = 1.33\n",
    "  M = machnumber\n",
    "  return (gamma)**0.5 * M * (1 + ((gamma-1)*M**2)/2 )**((-gamma-1)/(2*gamma-2)) - kappa\n",
    "def MachFlowPrime(machnumber):\n",
    "  gamma = 1.4\n",
    "  M = machnumber\n",
    "  first_part = (gamma)**0.5*(1 + ((gamma-1)*M**2)/2 )**((-gamma-1)/(2*gamma-2))\n",
    "  second_part = (gamma)**0.5 *M*((-gamma-1)/(2*gamma-2))*(1 + ((gamma-1)*M**2)/2 )**((-gamma-1)/(2*gamma-2)-1)*((gamma-1)*M)\n",
    "  return first_part + second_part\n",
    "intial_mach_guess = 2\n",
    "increment_cutoff = 100\n",
    "increment_count = 0\n",
    "while abs(MachFlow(intial_mach_guess))>1e-8:\n",
    "  increment_count += 1\n",
    "  if increment_count == increment_cutoff:\n",
    "    print('scheme didn\\'t converge')\n",
    "    displayVariable('e_r',format_scientific(abs(MachFlow(intial_mach_guess))))\n",
    "    break\n",
    "  intial_mach_guess = intial_mach_guess - MachFlow(intial_mach_guess)/MachFlowPrime(intial_mach_guess)\n",
    "final_mach = intial_mach_guess\n",
    "displayVariable('M_i',final_mach)\n",
    "displayVariable('e_r',format_scientific(abs(MachFlow(intial_mach_guess))))\n",
    "displayVariable('i',increment_count)"
   ]
  },
  {
   "cell_type": "code",
   "execution_count": 18,
   "metadata": {},
   "outputs": [
    {
     "name": "stdout",
     "output_type": "stream",
     "text": [
      "1\n",
      "2\n"
     ]
    },
    {
     "data": {
      "text/latex": [
       "$\\displaystyle M=1.52075976536793$"
      ],
      "text/plain": [
       "<IPython.core.display.Math object>"
      ]
     },
     "metadata": {},
     "output_type": "display_data"
    }
   ],
   "source": [
    "def HouseholdP2(x_intial:float,scheme_function,scheme_prime,scheme_double_prime)->float:\n",
    "  max_iterations = 1000\n",
    "  iteration_count = 0\n",
    "  while abs(scheme_function(x_intial)) > 1e-8:\n",
    "    iteration_count += 1\n",
    "    x_intial = x_intial - ((2*scheme_function(x_intial))/(scheme_prime(x_intial) - (scheme_prime(x_intial)**2-scheme_function(x_intial)*scheme_double_prime(x_intial))**0.5))\n",
    "    max_iterations -=1\n",
    "    if max_iterations ==0:\n",
    "      print('The scheme didn\\'t converge')\n",
    "      break\n",
    "    print(iteration_count)\n",
    "  return x_intial\n",
    "def Householder(section_supersonic:bool,area_ratio)->float:\n",
    "  P = 2/2.4\n",
    "  Q = 1-P\n",
    "  if section_supersonic==False:\n",
    "    R = (area_ratio)**2\n",
    "    a = P**(1/Q)\n",
    "    r = (R-1)/(2*a)\n",
    "    x_intial = 1 / ((1+r)+np.sqrt(r*(r+2)))\n",
    "    f = lambda X : (P+Q*X)**(1/Q) - R*X\n",
    "    f_prime = lambda X: (P+Q*X)**((1/Q)-1) - R\n",
    "    f_double_prime = lambda X: P*(P+Q*X)**((1/Q)-2)\n",
    "    x_final = HouseholdP2(x_intial,f,f_prime,f_double_prime)\n",
    "    return (x_final)**0.5\n",
    "  if section_supersonic == True:\n",
    "    R = (area_ratio)**(2*Q/P)\n",
    "    a = Q**(1/P)\n",
    "    r = (R-1)/(2*a)\n",
    "    x_intial = 1 / ((1+r)+np.sqrt(r*(r+2)))\n",
    "    f = lambda X : (P*X+Q)**(1/P) - R*X\n",
    "    f_prime = lambda X: (P*X+Q)**((1/P)-1) - R\n",
    "    f_double_prime = lambda X: Q*(P*X+Q)**((1/P)-2)\n",
    "    x_final = abs(HouseholdP2(x_intial,f,f_prime,f_double_prime))\n",
    "    return 1/(x_final)**0.5\n",
    "area_ratio = inlet_area / 0.21\n",
    "displayVariable('M',Householder(True,area_ratio))"
   ]
  }
 ],
 "metadata": {
  "kernelspec": {
   "display_name": "Python 3",
   "language": "python",
   "name": "python3"
  },
  "language_info": {
   "codemirror_mode": {
    "name": "ipython",
    "version": 3
   },
   "file_extension": ".py",
   "mimetype": "text/x-python",
   "name": "python",
   "nbconvert_exporter": "python",
   "pygments_lexer": "ipython3",
   "version": "3.12.5"
  }
 },
 "nbformat": 4,
 "nbformat_minor": 2
}

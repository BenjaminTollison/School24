{
 "cells": [
  {
   "cell_type": "code",
   "execution_count": 1,
   "metadata": {},
   "outputs": [],
   "source": [
    "### Benjamin Tollison ###\n",
    "import matplotlib.pyplot as plt\n",
    "import numpy as np\n",
    "import pandas as pd\n",
    "import scipy\n",
    "import sympy as sp\n",
    "from IPython.display import Latex, Math, display\n",
    "from sympy import (\n",
    "    Eq,\n",
    "    Function,\n",
    "    Matrix,\n",
    "    cos,\n",
    "    cosh,\n",
    "    exp,\n",
    "    integrate,\n",
    "    lambdify,\n",
    "    pi,\n",
    "    sin,\n",
    "    sinh,\n",
    "    symbols,\n",
    ")\n",
    "from decimal import Decimal\n",
    "from sympy.solvers.pde import pdsolve\n",
    "from sympy.solvers.solveset import linsolve, nonlinsolve\n",
    "def displayEquations(LHS,RHS):\n",
    "    left = sp.latex(LHS)\n",
    "    right = sp.latex(RHS)\n",
    "    display(Math(left + '=' + right))\n",
    "    np.set_printoptions(suppress=True)\n",
    "def displayVariable(variable:str,RHS):\n",
    "    left = sp.latex(symbols(variable))\n",
    "    right = sp.latex(RHS)\n",
    "    display(Math(left + '=' + right))\n",
    "def displayVariableWithUnits(variable:str,RHS,units):\n",
    "    left = sp.latex(symbols(variable))\n",
    "    right = sp.latex(RHS)\n",
    "    latexUnit = sp.latex(symbols(units))\n",
    "    display(Math(left + '=' + right + '\\\\;' +'\\\\left['+ latexUnit + '\\\\right]'))\n",
    "def format_scientific(number:float):\n",
    "    a = '%E' % number\n",
    "    return a.split('E')[0].rstrip('0').rstrip('.') + 'E' + a.split('E')[1]\n",
    "deg2rad = np.pi/180\n",
    "rad2deg = 180/np.pi"
   ]
  },
  {
   "cell_type": "code",
   "execution_count": 2,
   "metadata": {},
   "outputs": [
    {
     "data": {
      "text/latex": [
       "$\\displaystyle v_{2}=134.585903453311\\;\\left[\\frac{m}{s}\\right]$"
      ],
      "text/plain": [
       "<IPython.core.display.Math object>"
      ]
     },
     "metadata": {},
     "output_type": "display_data"
    },
    {
     "data": {
      "text/latex": [
       "$\\displaystyle v_{3}=106.914416314975\\;\\left[\\frac{m}{s}\\right]$"
      ],
      "text/plain": [
       "<IPython.core.display.Math object>"
      ]
     },
     "metadata": {},
     "output_type": "display_data"
    }
   ],
   "source": [
    "A_1 = 0.12\n",
    "A_2 = 0.03\n",
    "v1 = 130\n",
    "beta = 15*deg2rad\n",
    "v2 = ((A_1/A_2)*v1**2*np.tan(beta))**0.5\n",
    "v3 = (v1**2*A_1)/((v1*A_1+v2*A_2)*np.cos(beta))\n",
    "displayVariableWithUnits('v_2',v2,'\\\\frac{m}{s}')\n",
    "displayVariableWithUnits('v_3',v3,'\\\\frac{m}{s}')"
   ]
  },
  {
   "cell_type": "code",
   "execution_count": 3,
   "metadata": {},
   "outputs": [
    {
     "data": {
      "text/latex": [
       "$\\displaystyle \\mathcal{P}=12.1916666666667\\;\\left[{MW}\\right]$"
      ],
      "text/plain": [
       "<IPython.core.display.Math object>"
      ]
     },
     "metadata": {},
     "output_type": "display_data"
    },
    {
     "data": {
      "text/latex": [
       "$\\displaystyle T_{\\mathcal{P}=0}=623.076923076923\\;\\left[K\\right]$"
      ],
      "text/plain": [
       "<IPython.core.display.Math object>"
      ]
     },
     "metadata": {},
     "output_type": "display_data"
    }
   ],
   "source": [
    "# question 2\n",
    "v1,v2 = 70,220\n",
    "sigma1,sigma2 = 0.15,0.25\n",
    "T1,T2,T3 = 900,300,550\n",
    "P1,P2 = 2.2*10**6,0.12*10**6\n",
    "rho1 = P1/(287*T1)\n",
    "rho2 = P2/(287*T2)\n",
    "specific_heat_P = 1004.5\n",
    "h1,h2,h3 = specific_heat_P*T1, specific_heat_P*T2, specific_heat_P*T3\n",
    "mass_flow_rate_1 = rho1*v1*sigma1\n",
    "mass_flow_rate_2 = rho2*v2*sigma2\n",
    "mass_flow_rate_3 = mass_flow_rate_1 + mass_flow_rate_2\n",
    "power = mass_flow_rate_1*h1 + mass_flow_rate_2*h2 - mass_flow_rate_3*h3\n",
    "displayVariableWithUnits('\\\\mathcal{P}',power*10**-6,'{MW}')\n",
    "T3_with_no_power = (mass_flow_rate_1*h1+mass_flow_rate_2*h2)/(specific_heat_P*mass_flow_rate_3)\n",
    "displayVariableWithUnits('T_{\\\\mathcal{P}=0}',T3_with_no_power,'K')"
   ]
  },
  {
   "cell_type": "code",
   "execution_count": 4,
   "metadata": {},
   "outputs": [
    {
     "data": {
      "text/latex": [
       "$\\displaystyle T_{2}=681.378420729483\\;\\left[K\\right]$"
      ],
      "text/plain": [
       "<IPython.core.display.Math object>"
      ]
     },
     "metadata": {},
     "output_type": "display_data"
    },
    {
     "data": {
      "text/latex": [
       "$\\displaystyle T_{2}=653.677054516588\\;\\left[K\\right]$"
      ],
      "text/plain": [
       "<IPython.core.display.Math object>"
      ]
     },
     "metadata": {},
     "output_type": "display_data"
    }
   ],
   "source": [
    "# question 3\n",
    "T1 = 1400\n",
    "delta_s = 45\n",
    "R = 287\n",
    "gamma = 1.36\n",
    "T2 = T1*np.exp((delta_s+R*np.log(1.01325/18))*((gamma-1)/(gamma*R)))\n",
    "displayVariableWithUnits('T_2',T2,'K')\n",
    "T2 = T1*np.exp((np.log(1.01325/18))*((gamma-1)/(gamma)))\n",
    "displayVariableWithUnits('T_2',T2,'K')"
   ]
  },
  {
   "cell_type": "markdown",
   "metadata": {},
   "source": [
    "### Question 4\n",
    "I am reusing the householder method that I used to solve the general problem in 303 and below I describe how it works:\\\n",
    "$$\\frac{\\sigma}{\\sigma_{cr}} = \n",
    "\\frac{1}{M} \\left[\\frac{2}{\\gamma+1}\\left(1+\\frac{\\gamma-1}{2}M^2\\right)\\right]^\\frac{\\gamma+1}{2(\\gamma-1)}$$\n",
    "We can us Householder's second order root method from the nasa report:\\\n",
    "https://www.grc.nasa.gov/www/winddocs/utilities/b4wind_guide/mach.html\n",
    "$$ x_{i+1} = x_i - \\frac{2f}{f'-\\sqrt{f'^2-ff''}}$$\n",
    "With the subsonic regime being defined by:\n",
    "$$f = (P+QX)^\\frac{1}{Q} - RX = 0$$\n",
    "$$f' = (P+QX)^{\\frac{1}{Q}-1} - R$$\n",
    "$$f'' = P(P+QX)^{\\frac{1}{Q}-2}$$\n",
    "and the supersonic regime can be found with the following:\n",
    "$$f = (PX+Q)^\\frac{1}{P} - RX = 0$$\n",
    "$$f' = (PX+Q)^{\\frac{1}{P}-1} - R$$\n",
    "$$f'' = Q(PX+Q)^{\\frac{1}{P}-2}$$\n",
    "And the Coefficients can be defined by:\n",
    "$$P=\\frac{2}{\\gamma+1}$$\n",
    "$$Q = \\frac{\\gamma-1}{\\gamma+1}=1-P $$\n",
    "$$X_{subsonic} = M^2$$\n",
    "$$X_{supersonic} = \\frac{1}{M^2}$$\n",
    "$$R_{subsonic} = \\left(\\frac{\\sigma}{\\sigma_{cr}}\\right)^2$$\n",
    "$$R_{supersonic} = \\left(\\frac{\\sigma}{\\sigma_{cr}}\\right)^\\frac{2Q}{P}$$\n",
    "Therefore we can have 4 possible solutions. Subsonic->subsonic, subsonic->supersonic, supersonic->subsonic, or supersonic->supersonic"
   ]
  },
  {
   "cell_type": "code",
   "execution_count": 5,
   "metadata": {},
   "outputs": [
    {
     "data": {
      "text/latex": [
       "$\\displaystyle M_{subsonic}=0.419622205170642$"
      ],
      "text/plain": [
       "<IPython.core.display.Math object>"
      ]
     },
     "metadata": {},
     "output_type": "display_data"
    },
    {
     "data": {
      "text/latex": [
       "$\\displaystyle M_{supersonic}=1.87937032054407$"
      ],
      "text/plain": [
       "<IPython.core.display.Math object>"
      ]
     },
     "metadata": {},
     "output_type": "display_data"
    },
    {
     "data": {
      "text/latex": [
       "$\\displaystyle P_{subsonic}=0.885912366796255\\;\\left[bar\\right]$"
      ],
      "text/plain": [
       "<IPython.core.display.Math object>"
      ]
     },
     "metadata": {},
     "output_type": "display_data"
    },
    {
     "data": {
      "text/latex": [
       "$\\displaystyle P_{supersonic}=0.154067561069612\\;\\left[bar\\right]$"
      ],
      "text/plain": [
       "<IPython.core.display.Math object>"
      ]
     },
     "metadata": {},
     "output_type": "display_data"
    }
   ],
   "source": [
    "def HouseholdP2(x_intial:float,scheme_function,scheme_prime,scheme_double_prime)->float:\n",
    "  max_iterations = 1000\n",
    "  while abs(scheme_function(x_intial)) > 1e-8:\n",
    "    x_intial = x_intial - ((2*scheme_function(x_intial))/(scheme_prime(x_intial) - (scheme_prime(x_intial)**2-scheme_function(x_intial)*scheme_double_prime(x_intial))**0.5))\n",
    "    max_iterations -=1\n",
    "    if max_iterations ==0:\n",
    "      print('The scheme didn\\'t converge')\n",
    "      break\n",
    "  return x_intial\n",
    "def Householder(section_supersonic:bool,area_ratio)->float:\n",
    "  P = 2/2.4\n",
    "  Q = 1-P\n",
    "  if section_supersonic==False:\n",
    "    R = (area_ratio)**2\n",
    "    a = P**(1/Q)\n",
    "    r = (R-1)/(2*a)\n",
    "    x_intial = 1 / ((1+r)+np.sqrt(r*(r+2)))\n",
    "    f = lambda X : (P+Q*X)**(1/Q) - R*X\n",
    "    f_prime = lambda X: (P+Q*X)**((1/Q)-1) - R\n",
    "    f_double_prime = lambda X: P*(P+Q*X)**((1/Q)-2)\n",
    "    x_final = HouseholdP2(x_intial,f,f_prime,f_double_prime)\n",
    "    return (x_final)**0.5\n",
    "  if section_supersonic == True:\n",
    "    R = (area_ratio)**(2*Q/P)\n",
    "    a = Q**(1/P)\n",
    "    r = (R-1)/(2*a)\n",
    "    x_intial = 1 / ((1+r)+np.sqrt(r*(r+2)))\n",
    "    f = lambda X : (P*X+Q)**(1/P) - R*X\n",
    "    f_prime = lambda X: (P*X+Q)**((1/P)-1) - R\n",
    "    f_double_prime = lambda X: Q*(P*X+Q)**((1/P)-2)\n",
    "    x_final = abs(HouseholdP2(x_intial,f,f_prime,f_double_prime))\n",
    "    return 1/(x_final)**0.5\n",
    "pressure_over_stagnation_function = lambda Mach_number: (1+.2*Mach_number**2)**(1.4/0.4)\n",
    "area_exit = 1.53\n",
    "M_subsonic = Householder(False,area_exit)\n",
    "M_supersonic = Householder(True,area_exit)\n",
    "displayVariable('M_{subsonic}',M_subsonic)\n",
    "displayVariable('M_{supersonic}',M_supersonic)\n",
    "P_subsonic = 1/pressure_over_stagnation_function(M_subsonic)\n",
    "P_supersonic = 1/pressure_over_stagnation_function(M_supersonic)\n",
    "displayVariableWithUnits('P_{subsonic}',P_subsonic,'bar')\n",
    "displayVariableWithUnits('P_{supersonic}',P_supersonic,'bar')"
   ]
  },
  {
   "cell_type": "code",
   "execution_count": 6,
   "metadata": {},
   "outputs": [
    {
     "data": {
      "text/latex": [
       "$\\displaystyle P^{*}=0.528281787717174$"
      ],
      "text/plain": [
       "<IPython.core.display.Math object>"
      ]
     },
     "metadata": {},
     "output_type": "display_data"
    },
    {
     "data": {
      "text/latex": [
       "$\\displaystyle P_{subsonic}=0.885722373779462\\;\\left[bar\\right]$"
      ],
      "text/plain": [
       "<IPython.core.display.Math object>"
      ]
     },
     "metadata": {},
     "output_type": "display_data"
    },
    {
     "data": {
      "text/latex": [
       "$\\displaystyle P_{supersonic}=0.153918044160936\\;\\left[bar\\right]$"
      ],
      "text/plain": [
       "<IPython.core.display.Math object>"
      ]
     },
     "metadata": {},
     "output_type": "display_data"
    }
   ],
   "source": [
    "# method 2\n",
    "Pressure_critical = (1 +.2)**(-1.4/.4)\n",
    "displayVariable('P^*',Pressure_critical)\n",
    "Pressure_exit_1 = 0.886\n",
    "Pressure_exit_2 = 0.154\n",
    "P_subsonic = 1/pressure_over_stagnation_function(0.42)\n",
    "P_supersonic = 1/pressure_over_stagnation_function(1.88)\n",
    "displayVariableWithUnits('P_{subsonic}',P_subsonic,'bar')\n",
    "displayVariableWithUnits('P_{supersonic}',P_supersonic,'bar')"
   ]
  }
 ],
 "metadata": {
  "kernelspec": {
   "display_name": "Python 3",
   "language": "python",
   "name": "python3"
  },
  "language_info": {
   "codemirror_mode": {
    "name": "ipython",
    "version": 3
   },
   "file_extension": ".py",
   "mimetype": "text/x-python",
   "name": "python",
   "nbconvert_exporter": "python",
   "pygments_lexer": "ipython3",
   "version": "3.12.1"
  }
 },
 "nbformat": 4,
 "nbformat_minor": 2
}

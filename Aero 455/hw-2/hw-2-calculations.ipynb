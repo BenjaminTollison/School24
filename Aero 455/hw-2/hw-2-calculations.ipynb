{
 "cells": [
  {
   "cell_type": "code",
   "execution_count": 16,
   "metadata": {},
   "outputs": [],
   "source": [
    "### Benjamin Tollison ###\n",
    "import math\n",
    "import matplotlib.pyplot as plt\n",
    "import numpy as np\n",
    "import pandas as pd\n",
    "import scipy\n",
    "import sympy as sp\n",
    "import time\n",
    "from IPython.display import Latex, Math, display\n",
    "from sympy import (\n",
    "    Eq,\n",
    "    Function,\n",
    "    Matrix,\n",
    "    cos,\n",
    "    cosh,\n",
    "    exp,\n",
    "    integrate,\n",
    "    lambdify,\n",
    "    pi,\n",
    "    sin,\n",
    "    sinh,\n",
    "    symbols,\n",
    ")\n",
    "from decimal import Decimal\n",
    "from sympy.solvers.pde import pdsolve\n",
    "from sympy.solvers.solveset import linsolve\n",
    "import ExponentialDecayModel as edm\n",
    "def displayEquations(LHS,RHS):\n",
    "    left = sp.latex(LHS)\n",
    "    right = sp.latex(RHS)\n",
    "    display(Math(left + '=' + right))\n",
    "    np.set_printoptions(suppress=True)\n",
    "def displayVariable(variable:str,RHS):\n",
    "    left = sp.latex(symbols(variable))\n",
    "    right = sp.latex(RHS)\n",
    "    display(Math(left + '=' + right))\n",
    "def displayVariableWithUnits(variable:str,RHS,units):\n",
    "    left = sp.latex(symbols(variable))\n",
    "    right = sp.latex(RHS)\n",
    "    latexUnit = sp.latex(symbols(units))\n",
    "    display(Math(left + '=' + right + '\\\\;' +'\\\\left['+ latexUnit + '\\\\right]'))\n",
    "def format_scientific(number:float):\n",
    "    a = '%E' % number\n",
    "    return a.split('E')[0].rstrip('0').rstrip('.') + 'E' + a.split('E')[1]\n",
    "deg2rad = np.pi/180\n",
    "rad2deg = 180/np.pi\n",
    "def timeit_decorator(func):\n",
    "    def wrapper(*args, **kwargs):\n",
    "        start_time = time.time()\n",
    "        result = func(*args, **kwargs)\n",
    "        end_time = time.time()\n",
    "        execution_time = end_time - start_time\n",
    "        print(f\"{func.__name__} took {execution_time:.5f} seconds to run.\")\n",
    "        return result\n",
    "    return wrapper"
   ]
  },
  {
   "cell_type": "markdown",
   "metadata": {},
   "source": [
    "### 1)"
   ]
  },
  {
   "cell_type": "code",
   "execution_count": 17,
   "metadata": {},
   "outputs": [
    {
     "data": {
      "text/latex": [
       "$\\displaystyle v_{h}=9.20054589481442$"
      ],
      "text/plain": [
       "<IPython.core.display.Math object>"
      ]
     },
     "metadata": {},
     "output_type": "display_data"
    },
    {
     "data": {
      "text/latex": [
       "$\\displaystyle \\left( P_{c(v_c=0, \\  \\rho=1.225)}\\right)=327464.327358293$"
      ],
      "text/plain": [
       "<IPython.core.display.Math object>"
      ]
     },
     "metadata": {},
     "output_type": "display_data"
    },
    {
     "data": {
      "text/latex": [
       "$\\displaystyle P_{h(v c=0)}=327464.327358293$"
      ],
      "text/plain": [
       "<IPython.core.display.Math object>"
      ]
     },
     "metadata": {},
     "output_type": "display_data"
    }
   ],
   "source": [
    "ft2km = 0.000305\n",
    "ft2m = 0.3048\n",
    "mass = 6000 / 2.205\n",
    "figure_of_merit = 0.75\n",
    "thrust_req = mass * 9.81\n",
    "density_sea_level, density_5k_ft, density_10k_ft = edm.Density(0), edm.Density(5000*ft2km), edm.Density(10000*ft2km)\n",
    "density_list = [density_sea_level,density_5k_ft,density_10k_ft]\n",
    "rotor_area = np.pi*(21*ft2m)**2\n",
    "velocity_climb_list = [(ft2m/60)*i for i in [-600,-300,0,300,600]]\n",
    "def PowerHover(density:float):\n",
    "  power_ideal = thrust_req**1.5 / (2*density*rotor_area)**0.5\n",
    "  return power_ideal/figure_of_merit\n",
    "def VelocityHover(density:float):\n",
    "  return (thrust_req / (2*density*rotor_area))**0.5\n",
    "def NegativeVelocityInducedRatio(velocity_climb:float, velocity_hover:float):\n",
    "  alef = velocity_climb/velocity_hover\n",
    "  k1,k2,k3,k4 = -1.125,-1.372,-1.718,-0.655\n",
    "  return 1 + k1*alef + k2*alef**2 + k3*alef**3 + k4*alef**4\n",
    "def PowerClimb(velocity_climb:float,density:float):\n",
    "  velocity_hover = VelocityHover(density)\n",
    "  if velocity_climb/velocity_hover >= -2 and velocity_climb/velocity_hover <= 0:\n",
    "    velocity_induced = NegativeVelocityInducedRatio(velocity_climb,velocity_hover)*velocity_hover\n",
    "  else:\n",
    "    alef = (-1/2)*(velocity_climb/(2*velocity_hover)) + ((velocity_climb/(2*velocity_hover))**2 + 1)**0.5\n",
    "    velocity_induced = alef*velocity_hover\n",
    "  power_climb_ideal = thrust_req*(velocity_climb + velocity_induced)\n",
    "  return power_climb_ideal / figure_of_merit\n",
    "# sanity check\n",
    "displayVariable('v_h',VelocityHover(density_sea_level))\n",
    "displayVariable('P_{c(v_c=0,\\\\rho=1.225)}',PowerClimb(0,density_sea_level))\n",
    "displayVariable('P_h(v_c=0)',PowerHover(density_sea_level))"
   ]
  },
  {
   "cell_type": "code",
   "execution_count": 18,
   "metadata": {},
   "outputs": [
    {
     "data": {
      "text/html": [
       "<div>\n",
       "<style scoped>\n",
       "    .dataframe tbody tr th:only-of-type {\n",
       "        vertical-align: middle;\n",
       "    }\n",
       "\n",
       "    .dataframe tbody tr th {\n",
       "        vertical-align: top;\n",
       "    }\n",
       "\n",
       "    .dataframe thead th {\n",
       "        text-align: right;\n",
       "    }\n",
       "</style>\n",
       "<table border=\"1\" class=\"dataframe\">\n",
       "  <thead>\n",
       "    <tr style=\"text-align: right;\">\n",
       "      <th></th>\n",
       "      <th>sea_level</th>\n",
       "      <th>5k</th>\n",
       "      <th>10k</th>\n",
       "    </tr>\n",
       "  </thead>\n",
       "  <tbody>\n",
       "    <tr>\n",
       "      <th>0</th>\n",
       "      <td>309587.523820</td>\n",
       "      <td>347650.955681</td>\n",
       "      <td>389798.612630</td>\n",
       "    </tr>\n",
       "    <tr>\n",
       "      <th>1</th>\n",
       "      <td>324312.831175</td>\n",
       "      <td>361424.002900</td>\n",
       "      <td>402521.238559</td>\n",
       "    </tr>\n",
       "    <tr>\n",
       "      <th>2</th>\n",
       "      <td>327464.327358</td>\n",
       "      <td>363786.096301</td>\n",
       "      <td>404136.612161</td>\n",
       "    </tr>\n",
       "    <tr>\n",
       "      <th>3</th>\n",
       "      <td>369266.973064</td>\n",
       "      <td>405477.126429</td>\n",
       "      <td>445727.082650</td>\n",
       "    </tr>\n",
       "    <tr>\n",
       "      <th>4</th>\n",
       "      <td>413289.249616</td>\n",
       "      <td>449170.652123</td>\n",
       "      <td>489123.397163</td>\n",
       "    </tr>\n",
       "  </tbody>\n",
       "</table>\n",
       "</div>"
      ],
      "text/plain": [
       "       sea_level             5k            10k\n",
       "0  309587.523820  347650.955681  389798.612630\n",
       "1  324312.831175  361424.002900  402521.238559\n",
       "2  327464.327358  363786.096301  404136.612161\n",
       "3  369266.973064  405477.126429  445727.082650\n",
       "4  413289.249616  449170.652123  489123.397163"
      ]
     },
     "metadata": {},
     "output_type": "display_data"
    },
    {
     "data": {
      "image/png": "[encoded data removed]",
      "text/plain": [
       "<Figure size 640x480 with 1 Axes>"
      ]
     },
     "metadata": {},
     "output_type": "display_data"
    }
   ],
   "source": [
    "power_dict = {}\n",
    "power_dict['sea_level'] = [PowerClimb(i,density_sea_level) for i in velocity_climb_list]\n",
    "power_dict['5k'] = [PowerClimb(i,density_5k_ft) for i in velocity_climb_list]\n",
    "power_dict['10k'] = [PowerClimb(i,density_10k_ft) for i in velocity_climb_list]\n",
    "display(pd.DataFrame(power_dict))\n",
    "for i in power_dict.keys():\n",
    "  plt.plot(velocity_climb_list,power_dict[str(i)],label=i)\n",
    "plt.title('Power required')\n",
    "plt.xlabel('V_c [m/s]')\n",
    "plt.ylabel('P(rho,v_c) [W]')\n",
    "plt.legend()\n",
    "plt.show()"
   ]
  },
  {
   "cell_type": "code",
   "execution_count": 19,
   "metadata": {},
   "outputs": [
    {
     "data": {
      "image/png": "[encoded data removed]",
      "text/plain": [
       "<Figure size 640x480 with 1 Axes>"
      ]
     },
     "metadata": {},
     "output_type": "display_data"
    }
   ],
   "source": [
    "# making smoother curves\n",
    "power_function_dict = {}\n",
    "for altitude in np.linspace(0, 10000*ft2km, 10):\n",
    "  power_function_dict[str(altitude)] = [PowerClimb(velocity,edm.Density(altitude))*10**-3 for velocity in np.linspace(velocity_climb_list[0],velocity_climb_list[-1],50)]\n",
    "for i in power_function_dict.keys():\n",
    "  plt.plot(np.linspace(velocity_climb_list[0],velocity_climb_list[-1],50),power_function_dict[i],label=str(round(float(i),3)))\n",
    "plt.title('Power required')\n",
    "plt.xlabel('V_c [m/s]')\n",
    "plt.ylabel('P(rho,v_c) [kW]')\n",
    "plt.legend()\n",
    "plt.show()"
   ]
  },
  {
   "cell_type": "markdown",
   "metadata": {},
   "source": [
    "### 2)\n",
    "Using the same helicopter to for finding induced flow"
   ]
  },
  {
   "cell_type": "code",
   "execution_count": 20,
   "metadata": {},
   "outputs": [
    {
     "data": {
      "text/latex": [
       "$\\displaystyle \\frac{C_{T}}{2 \\left(\\lambda_{i}^{2} + \\mu^{2}\\right)^{0.5}} - \\lambda_{i} + \\mu \\tan{\\left(\\alpha \\right)}$"
      ],
      "text/plain": [
       "C_T/(2*(\\lambda_i**2 + \\mu**2)**0.5) - \\lambda_i + \\mu*tan(\\alpha)"
      ]
     },
     "metadata": {},
     "output_type": "display_data"
    },
    {
     "data": {
      "text/latex": [
       "$\\displaystyle - \\frac{0.5 C_{T} \\lambda_{i}}{\\left(\\lambda_{i}^{2} + \\mu^{2}\\right)^{1.5}} - 1$"
      ],
      "text/plain": [
       "-0.5*C_T*\\lambda_i/(\\lambda_i**2 + \\mu**2)**1.5 - 1"
      ]
     },
     "metadata": {},
     "output_type": "display_data"
    },
    {
     "data": {
      "text/latex": [
       "$\\displaystyle C_{T} \\left(\\frac{1.5 \\lambda_{i}^{2}}{\\left(\\lambda_{i}^{2} + \\mu^{2}\\right)^{2.5}} - \\frac{0.5}{\\left(\\lambda_{i}^{2} + \\mu^{2}\\right)^{1.5}}\\right)$"
      ],
      "text/plain": [
       "C_T*(1.5*\\lambda_i**2/(\\lambda_i**2 + \\mu**2)**2.5 - 0.5/(\\lambda_i**2 + \\mu**2)**1.5)"
      ]
     },
     "metadata": {},
     "output_type": "display_data"
    },
    {
     "data": {
      "text/latex": [
       "$\\displaystyle \\Omega{R}=130.115367856827\\;\\left[\\frac{m}{s}\\right]$"
      ],
      "text/plain": [
       "<IPython.core.display.Math object>"
      ]
     },
     "metadata": {},
     "output_type": "display_data"
    },
    {
     "data": {
      "text/latex": [
       "$\\displaystyle \\alef=\\mathtt{\\text{[ 4.99950010e-05 -5.00049995e-01]}}$"
      ],
      "text/plain": [
       "<IPython.core.display.Math object>"
      ]
     },
     "metadata": {},
     "output_type": "display_data"
    },
    {
     "data": {
      "text/latex": [
       "$\\displaystyle \\lambda_{0}=\\mathtt{\\text{[[ 0.00707071+0.j          0.        +0.70714213j]\n",
       " [-0.00707071-0.j         -0.        -0.70714213j]]}}$"
      ],
      "text/plain": [
       "<IPython.core.display.Math object>"
      ]
     },
     "metadata": {},
     "output_type": "display_data"
    },
    {
     "data": {
      "text/latex": [
       "$\\displaystyle \\lambda_{\\alpha=0}=0.00707071432033039$"
      ],
      "text/plain": [
       "<IPython.core.display.Math object>"
      ]
     },
     "metadata": {},
     "output_type": "display_data"
    }
   ],
   "source": [
    "lambda_i, mu, alpha, C_T = sp.symbols('\\\\lambda_i, \\\\mu, \\\\alpha, C_T')\n",
    "objective_symbolic = mu*sp.tan(alpha) + C_T / (2*(mu**2+lambda_i**2)**0.5) - lambda_i\n",
    "display(objective_symbolic)\n",
    "objective_symbolic_prime = objective_symbolic.diff(lambda_i)\n",
    "objective_symbolic_doubleprime = objective_symbolic.diff(lambda_i,2)\n",
    "display(objective_symbolic_prime)\n",
    "display(objective_symbolic_doubleprime)\n",
    "coefficient_thrust = 0.01\n",
    "velocity_tip = lambda rho: (thrust_req/(rho*rotor_area*coefficient_thrust))**0.5\n",
    "displayVariableWithUnits('\\\\Omega{R}',velocity_tip(density_sea_level),'\\\\frac{m}{s}')\n",
    "def AdvanceRatio(\n",
    "  rotor_tip_velocity:float,\n",
    "  freestream_velocity:float,\n",
    "  angle_of_attack:float\n",
    ")->float:\n",
    "  v_tip = rotor_tip_velocity\n",
    "  v_infty = freestream_velocity\n",
    "  alpha = angle_of_attack\n",
    "  mu = v_infty * np.cos(alpha) / v_tip\n",
    "  return mu\n",
    "mu_sea_level = AdvanceRatio(velocity_tip(density_sea_level),VelocityHover(density_sea_level)*10,0)\n",
    "alef = np.array([-0.5 * mu_sea_level**2 + 0.5*(mu_sea_level**4 + coefficient_thrust**2)**0.5,\n",
    "                -0.5 * mu_sea_level**2 - 0.5*(mu_sea_level**4 + coefficient_thrust**2)**0.5])\n",
    "displayVariable('\\\\alef',alef)\n",
    "inflow_zero = np.array([\n",
    "  np.emath.sqrt(alef),\n",
    "  -np.emath.sqrt(alef)\n",
    "])\n",
    "displayVariable('\\\\lambda_0',inflow_zero)\n",
    "for i in inflow_zero.real:\n",
    "  if i[0] > 0.0:\n",
    "    displayVariable('\\\\lambda_{\\\\alpha=0}',i[0])"
   ]
  },
  {
   "cell_type": "code",
   "execution_count": 21,
   "metadata": {},
   "outputs": [
    {
     "data": {
      "text/latex": [
       "$\\displaystyle \\lambda_{\\alpha=0}=0.00707071432033039$"
      ],
      "text/plain": [
       "<IPython.core.display.Math object>"
      ]
     },
     "metadata": {},
     "output_type": "display_data"
    },
    {
     "data": {
      "text/latex": [
       "$\\displaystyle \\lambda_{i=0}=0.0707106781186548$"
      ],
      "text/plain": [
       "<IPython.core.display.Math object>"
      ]
     },
     "metadata": {},
     "output_type": "display_data"
    },
    {
     "name": "stdout",
     "output_type": "stream",
     "text": [
      "Fixed Point iterations\n"
     ]
    },
    {
     "data": {
      "text/html": [
       "<div>\n",
       "<style scoped>\n",
       "    .dataframe tbody tr th:only-of-type {\n",
       "        vertical-align: middle;\n",
       "    }\n",
       "\n",
       "    .dataframe tbody tr th {\n",
       "        vertical-align: top;\n",
       "    }\n",
       "\n",
       "    .dataframe thead th {\n",
       "        text-align: right;\n",
       "    }\n",
       "</style>\n",
       "<table border=\"1\" class=\"dataframe\">\n",
       "  <thead>\n",
       "    <tr style=\"text-align: right;\">\n",
       "      <th></th>\n",
       "      <th>error_i</th>\n",
       "      <th>lambda_i</th>\n",
       "      <th>step</th>\n",
       "      <th>lambda_i+1</th>\n",
       "      <th>error_i+1</th>\n",
       "    </tr>\n",
       "  </thead>\n",
       "  <tbody>\n",
       "    <tr>\n",
       "      <th>0</th>\n",
       "      <td>6.367470e-02</td>\n",
       "      <td>0.070711</td>\n",
       "      <td>-6.367470e-02</td>\n",
       "      <td>0.007036</td>\n",
       "      <td>3.474234e-05</td>\n",
       "    </tr>\n",
       "    <tr>\n",
       "      <th>1</th>\n",
       "      <td>3.474234e-05</td>\n",
       "      <td>0.007036</td>\n",
       "      <td>3.474234e-05</td>\n",
       "      <td>0.007071</td>\n",
       "      <td>3.465010e-09</td>\n",
       "    </tr>\n",
       "    <tr>\n",
       "      <th>2</th>\n",
       "      <td>3.465010e-09</td>\n",
       "      <td>0.007071</td>\n",
       "      <td>-3.465010e-09</td>\n",
       "      <td>0.007071</td>\n",
       "      <td>3.464321e-13</td>\n",
       "    </tr>\n",
       "  </tbody>\n",
       "</table>\n",
       "</div>"
      ],
      "text/plain": [
       "        error_i  lambda_i          step  lambda_i+1     error_i+1\n",
       "0  6.367470e-02  0.070711 -6.367470e-02    0.007036  3.474234e-05\n",
       "1  3.474234e-05  0.007036  3.474234e-05    0.007071  3.465010e-09\n",
       "2  3.465010e-09  0.007071 -3.465010e-09    0.007071  3.464321e-13"
      ]
     },
     "metadata": {},
     "output_type": "display_data"
    },
    {
     "data": {
      "text/latex": [
       "$\\displaystyle \\lambda_{FP}=0.00707071431998575$"
      ],
      "text/plain": [
       "<IPython.core.display.Math object>"
      ]
     },
     "metadata": {},
     "output_type": "display_data"
    },
    {
     "name": "stdout",
     "output_type": "stream",
     "text": [
      "Took 0.01705 seconds to run\n",
      "Newton-Raphson iterations\n"
     ]
    },
    {
     "data": {
      "text/html": [
       "<div>\n",
       "<style scoped>\n",
       "    .dataframe tbody tr th:only-of-type {\n",
       "        vertical-align: middle;\n",
       "    }\n",
       "\n",
       "    .dataframe tbody tr th {\n",
       "        vertical-align: top;\n",
       "    }\n",
       "\n",
       "    .dataframe thead th {\n",
       "        text-align: right;\n",
       "    }\n",
       "</style>\n",
       "<table border=\"1\" class=\"dataframe\">\n",
       "  <thead>\n",
       "    <tr style=\"text-align: right;\">\n",
       "      <th></th>\n",
       "      <th>error_i</th>\n",
       "      <th>lambda_i</th>\n",
       "      <th>step</th>\n",
       "      <th>lambda_i+1</th>\n",
       "      <th>error_i+1</th>\n",
       "    </tr>\n",
       "  </thead>\n",
       "  <tbody>\n",
       "    <tr>\n",
       "      <th>0</th>\n",
       "      <td>6.367470e-02</td>\n",
       "      <td>0.070711</td>\n",
       "      <td>6.361203e-02</td>\n",
       "      <td>0.007099</td>\n",
       "      <td>2.793357e-05</td>\n",
       "    </tr>\n",
       "    <tr>\n",
       "      <th>1</th>\n",
       "      <td>2.793357e-05</td>\n",
       "      <td>0.007099</td>\n",
       "      <td>2.793076e-05</td>\n",
       "      <td>0.007071</td>\n",
       "      <td>5.513840e-12</td>\n",
       "    </tr>\n",
       "    <tr>\n",
       "      <th>2</th>\n",
       "      <td>5.513840e-12</td>\n",
       "      <td>0.007071</td>\n",
       "      <td>5.513289e-12</td>\n",
       "      <td>0.007071</td>\n",
       "      <td>8.673617e-19</td>\n",
       "    </tr>\n",
       "  </tbody>\n",
       "</table>\n",
       "</div>"
      ],
      "text/plain": [
       "        error_i  lambda_i          step  lambda_i+1     error_i+1\n",
       "0  6.367470e-02  0.070711  6.361203e-02    0.007099  2.793357e-05\n",
       "1  2.793357e-05  0.007099  2.793076e-05    0.007071  5.513840e-12\n",
       "2  5.513840e-12  0.007071  5.513289e-12    0.007071  8.673617e-19"
      ]
     },
     "metadata": {},
     "output_type": "display_data"
    },
    {
     "data": {
      "text/latex": [
       "$\\displaystyle \\lambda_{NR}=0.00707071432033215$"
      ],
      "text/plain": [
       "<IPython.core.display.Math object>"
      ]
     },
     "metadata": {},
     "output_type": "display_data"
    },
    {
     "name": "stdout",
     "output_type": "stream",
     "text": [
      "Took 0.01202 seconds to run\n",
      "Halley's Method iterations\n"
     ]
    },
    {
     "data": {
      "text/html": [
       "<div>\n",
       "<style scoped>\n",
       "    .dataframe tbody tr th:only-of-type {\n",
       "        vertical-align: middle;\n",
       "    }\n",
       "\n",
       "    .dataframe tbody tr th {\n",
       "        vertical-align: top;\n",
       "    }\n",
       "\n",
       "    .dataframe thead th {\n",
       "        text-align: right;\n",
       "    }\n",
       "</style>\n",
       "<table border=\"1\" class=\"dataframe\">\n",
       "  <thead>\n",
       "    <tr style=\"text-align: right;\">\n",
       "      <th></th>\n",
       "      <th>error_i</th>\n",
       "      <th>lambda_i</th>\n",
       "      <th>step</th>\n",
       "      <th>lambda_i+1</th>\n",
       "      <th>error_i+1</th>\n",
       "    </tr>\n",
       "  </thead>\n",
       "  <tbody>\n",
       "    <tr>\n",
       "      <th>0</th>\n",
       "      <td>0.063675</td>\n",
       "      <td>0.070711</td>\n",
       "      <td>0.063626</td>\n",
       "      <td>0.007085</td>\n",
       "      <td>1.426388e-05</td>\n",
       "    </tr>\n",
       "    <tr>\n",
       "      <th>1</th>\n",
       "      <td>0.000014</td>\n",
       "      <td>0.007085</td>\n",
       "      <td>0.000014</td>\n",
       "      <td>0.007071</td>\n",
       "      <td>7.188651e-13</td>\n",
       "    </tr>\n",
       "  </tbody>\n",
       "</table>\n",
       "</div>"
      ],
      "text/plain": [
       "    error_i  lambda_i      step  lambda_i+1     error_i+1\n",
       "0  0.063675  0.070711  0.063626    0.007085  1.426388e-05\n",
       "1  0.000014  0.007085  0.000014    0.007071  7.188651e-13"
      ]
     },
     "metadata": {},
     "output_type": "display_data"
    },
    {
     "data": {
      "text/latex": [
       "$\\displaystyle \\lambda_{HM}=0.00707071432105094$"
      ],
      "text/plain": [
       "<IPython.core.display.Math object>"
      ]
     },
     "metadata": {},
     "output_type": "display_data"
    },
    {
     "name": "stdout",
     "output_type": "stream",
     "text": [
      "Took 0.01283 seconds to run\n"
     ]
    }
   ],
   "source": [
    "ObjectiveFunction = lambdify((lambda_i,mu,alpha,C_T),objective_symbolic,'numpy')\n",
    "ObjectiveFunction_prime = lambdify((lambda_i,mu,alpha,C_T),objective_symbolic_prime,'numpy')\n",
    "ObjectiveFunction_doubleprime = lambdify((lambda_i,mu,alpha,C_T),objective_symbolic_doubleprime,'numpy')\n",
    "inflow_0 = np.sqrt(coefficient_thrust / 2)\n",
    "tolerance = 1e-12\n",
    "def FixedPoint(inflow_ratio,angle_of_attack,advanvce_ratio):\n",
    "  mu = advanvce_ratio\n",
    "  alpha = angle_of_attack\n",
    "  lambda_i = inflow_ratio\n",
    "  C_T_given = coefficient_thrust\n",
    "  fixed_point_dict = {\n",
    "    'error_i':[],\n",
    "    'lambda_i':[],\n",
    "    'step' : [],\n",
    "    'lambda_i+1':[],\n",
    "    'error_i+1':[]\n",
    "  }\n",
    "  iteration_count = 0\n",
    "  while abs(ObjectiveFunction(lambda_i,mu,alpha,C_T_given)) > tolerance and iteration_count < 30:\n",
    "    iteration_count += 1\n",
    "    fixed_point_dict['error_i'].append(abs(ObjectiveFunction(lambda_i,mu,alpha,C_T_given)))\n",
    "    fixed_point_dict['lambda_i'].append(lambda_i)\n",
    "    fixed_point_dict['step'].append(ObjectiveFunction(lambda_i,mu,alpha,C_T_given))\n",
    "    lambda_i = lambda_i + ObjectiveFunction(lambda_i,mu,alpha,C_T_given)\n",
    "    fixed_point_dict['lambda_i+1'].append(lambda_i)\n",
    "    fixed_point_dict['error_i+1'].append(abs(ObjectiveFunction(lambda_i,mu,alpha,C_T_given)))\n",
    "  return fixed_point_dict\n",
    "def NewtonRaphson(inflow_ratio,angle_of_attack,advanvce_ratio):\n",
    "  mu = advanvce_ratio\n",
    "  alpha = angle_of_attack\n",
    "  lambda_i = inflow_ratio\n",
    "  C_T_given = coefficient_thrust\n",
    "  newton_raphson_dict = {\n",
    "    'error_i':[],\n",
    "    'lambda_i':[],\n",
    "    'step': [],\n",
    "    'lambda_i+1':[],\n",
    "    'error_i+1':[]\n",
    "  }\n",
    "  iteration_count = 0\n",
    "  while abs(ObjectiveFunction(lambda_i,mu,alpha,C_T_given)) > tolerance and iteration_count < 30:\n",
    "    iteration_count += 1\n",
    "    newton_raphson_dict['error_i'].append(abs(ObjectiveFunction(lambda_i,mu,alpha,C_T_given)))\n",
    "    newton_raphson_dict['lambda_i'].append(lambda_i)\n",
    "    newton_raphson_dict['step'].append(ObjectiveFunction(lambda_i,mu,alpha,C_T_given)/ObjectiveFunction_prime(lambda_i,mu,alpha,C_T_given))\n",
    "    lambda_i = lambda_i - ObjectiveFunction(lambda_i,mu,alpha,C_T_given)/ObjectiveFunction_prime(lambda_i,mu,alpha,C_T_given)\n",
    "    newton_raphson_dict['lambda_i+1'].append(lambda_i)\n",
    "    newton_raphson_dict['error_i+1'].append(abs(ObjectiveFunction(lambda_i,mu,alpha,C_T_given)))\n",
    "  return newton_raphson_dict\n",
    "def HalleysMethod(inflow_ratio,angle_of_attack,advanvce_ratio):\n",
    "  mu = advanvce_ratio\n",
    "  alpha = angle_of_attack\n",
    "  lambda_i = inflow_ratio\n",
    "  C_T_given = coefficient_thrust\n",
    "  halley_dict = {\n",
    "    'error_i':[],\n",
    "    'lambda_i':[],\n",
    "    'step': [],\n",
    "    'lambda_i+1':[],\n",
    "    'error_i+1':[]\n",
    "  }\n",
    "  iteration_count = 0\n",
    "  while abs(ObjectiveFunction(lambda_i,mu,alpha,C_T_given)) > tolerance and iteration_count < 30:\n",
    "    iteration_count += 1\n",
    "    halley_dict['error_i'].append(abs(ObjectiveFunction(lambda_i,mu,alpha,C_T_given)))\n",
    "    halley_dict['lambda_i'].append(lambda_i)\n",
    "    f = ObjectiveFunction(lambda_i,mu,alpha,C_T_given)\n",
    "    f_prime = ObjectiveFunction_prime(lambda_i,mu,alpha,C_T_given)\n",
    "    f_doubleprime = ObjectiveFunction_doubleprime(lambda_i,mu,alpha,C_T_given)\n",
    "    step_size = 2*f / (f_prime - np.sqrt(f_prime**2 -f*f_doubleprime))\n",
    "    halley_dict['step'].append(step_size)\n",
    "    lambda_i = lambda_i - step_size\n",
    "    halley_dict['lambda_i+1'].append(lambda_i)\n",
    "    halley_dict['error_i+1'].append(abs(ObjectiveFunction(lambda_i,mu,alpha,C_T_given)))\n",
    "  return halley_dict\n",
    "for i in inflow_zero.real:\n",
    "  if i[0] > 0.0:\n",
    "    displayVariable('\\\\lambda_{\\\\alpha=0}',i[0])\n",
    "displayVariable('\\\\lambda_{i=0}',inflow_0)\n",
    "print('Fixed Point iterations')\n",
    "start_time = time.time()\n",
    "display(pd.DataFrame(FixedPoint(inflow_0,0,mu_sea_level)))\n",
    "displayVariable('\\\\lambda_{FP}',FixedPoint(inflow_0,0,mu_sea_level)['lambda_i+1'][-1])\n",
    "end_time = time.time()\n",
    "print(f\"Took {end_time-start_time:.5f} seconds to run\")\n",
    "print('Newton-Raphson iterations')\n",
    "start_time = time.time()\n",
    "display(pd.DataFrame(NewtonRaphson(inflow_0,0,mu_sea_level)))\n",
    "displayVariable('\\\\lambda_{NR}',NewtonRaphson(inflow_0,0,mu_sea_level)['lambda_i+1'][-1])\n",
    "end_time = time.time()\n",
    "print(f\"Took {end_time-start_time:.5f} seconds to run\")\n",
    "print('Halley\\'s Method iterations')\n",
    "start_time = time.time()\n",
    "display(pd.DataFrame(HalleysMethod(inflow_0,0,mu_sea_level)))\n",
    "displayVariable('\\\\lambda_{HM}',HalleysMethod(inflow_0,0,mu_sea_level)['lambda_i+1'][-1])\n",
    "end_time = time.time()\n",
    "print(f\"Took {end_time-start_time:.5f} seconds to run\")"
   ]
  },
  {
   "cell_type": "code",
   "execution_count": 22,
   "metadata": {},
   "outputs": [
    {
     "name": "stdout",
     "output_type": "stream",
     "text": [
      "Took 0.00496 seconds to run analytical solution\n"
     ]
    },
    {
     "name": "stdout",
     "output_type": "stream",
     "text": [
      "Took 0.47211 seconds to run FP solution\n",
      "Took 0.06736 seconds to run NR solution\n",
      "Took 0.06738 seconds to run Halley's solution\n"
     ]
    },
    {
     "data": {
      "image/png": "[encoded data removed]",
      "text/plain": [
       "<Figure size 640x480 with 1 Axes>"
      ]
     },
     "metadata": {},
     "output_type": "display_data"
    }
   ],
   "source": [
    "### analytical inflow ratio\n",
    "inflow_hover = np.sqrt(coefficient_thrust/2)\n",
    "def AnalyticalInflowRatio(advance_ratio,inflow_hover):\n",
    "  variable_ratio = advance_ratio/inflow_hover\n",
    "  return np.sqrt(-0.5*variable_ratio**2 + np.sqrt(0.25*variable_ratio**4 + 1))\n",
    "advance_ratio_values = np.linspace(0.0001,inflow_hover*1.5,1000)\n",
    "start_time = time.time()\n",
    "analytical_inflow_ratio_values = [AnalyticalInflowRatio(float(i),inflow_hover) for i in advance_ratio_values]\n",
    "end_time = time.time()\n",
    "analytical_runtime = end_time-start_time\n",
    "print(f\"Took {end_time-start_time:.5f} seconds to run analytical solution\")\n",
    "start_time = time.time()\n",
    "fixed_point_inflow_ratio_values = [FixedPoint(inflow_0,0,float(i))['lambda_i+1'][-1]/inflow_hover for i in advance_ratio_values]\n",
    "end_time = time.time()\n",
    "fixed_point_runtime = end_time-start_time\n",
    "print(f\"Took {end_time-start_time:.5f} seconds to run FP solution\")\n",
    "start_time = time.time()\n",
    "newton_raphson_inflow_ratio_values = [NewtonRaphson(inflow_0,0,float(i))['lambda_i+1'][-1]/inflow_hover for i in advance_ratio_values]\n",
    "end_time = time.time()\n",
    "newton_raphson_runtime = end_time-start_time\n",
    "print(f\"Took {end_time-start_time:.5f} seconds to run NR solution\")\n",
    "start_time = time.time()\n",
    "halley_inflow_ratio_values = [HalleysMethod(inflow_0,0,float(i))['lambda_i+1'][-1]/inflow_hover for i in advance_ratio_values]\n",
    "end_time = time.time()\n",
    "halley_runtime = end_time-start_time\n",
    "print(f\"Took {end_time-start_time:.5f} seconds to run Halley\\'s solution\")\n",
    "\n",
    "\n",
    "\n",
    "# plotting\n",
    "input_ratio = advance_ratio_values/inflow_hover\n",
    "plt.plot(input_ratio,analytical_inflow_ratio_values,label='Analytical')\n",
    "plt.plot(input_ratio,fixed_point_inflow_ratio_values,label='FP')\n",
    "plt.plot(input_ratio,newton_raphson_inflow_ratio_values,label='NR')\n",
    "plt.plot(input_ratio,halley_inflow_ratio_values,label='Halley\\'s')\n",
    "plt.legend()\n",
    "plt.title('Induced over Hover Inflow')\n",
    "plt.xlabel(r'$ \\frac{\\mu}{\\lambda_h} $',fontsize=14)\n",
    "plt.ylabel('lambda_i/lambda_h')\n",
    "plt.show()\n",
    "\n",
    "# runtimes = [analytical_runtime,fixed_point_runtime,newton_raphson_runtime,halley_runtime]\n",
    "# plt.hist(runtimes[1:],bins=3,edgecolor='black')\n",
    "# plt.show()"
   ]
  },
  {
   "cell_type": "code",
   "execution_count": 27,
   "metadata": {},
   "outputs": [
    {
     "name": "stdout",
     "output_type": "stream",
     "text": [
      "2.5365428924560547\n"
     ]
    },
    {
     "data": {
      "image/png": "[encoded data removed]",
      "text/plain": [
       "<Figure size 1000x800 with 6 Axes>"
      ]
     },
     "metadata": {},
     "output_type": "display_data"
    }
   ],
   "source": [
    "angle_of_attack_values = range(-4,9,2)\n",
    "start_time = time.time()\n",
    "fixed_point_func_mu = {}\n",
    "for alpha in angle_of_attack_values:\n",
    "  fixed_point_func_mu[f'{alpha}'] =  [FixedPoint(inflow_hover,alpha,mu) for mu in advance_ratio_values]\n",
    "end_time = time.time()\n",
    "fixed_point_runtime = end_time - start_time\n",
    "rint(f\"Took {end_time-start_time:.5f} seconds to run FP solution\")\n",
    "\n",
    "# Plotting\n",
    "fig,axis = plt.subplots(int(len(angle_of_attack_values)/2),2, figsize=(10,8))\n",
    "axis = axis.flatten()\n",
    "\n",
    "\n",
    "plt.tight_layout()\n",
    "plt.show()"
   ]
  },
  {
   "cell_type": "code",
   "execution_count": 24,
   "metadata": {},
   "outputs": [
    {
     "name": "stdout",
     "output_type": "stream",
     "text": [
      "Results for Angle of Attack: -4.0 degrees\n"
     ]
    },
    {
     "data": {
      "text/html": [
       "<div>\n",
       "<style scoped>\n",
       "    .dataframe tbody tr th:only-of-type {\n",
       "        vertical-align: middle;\n",
       "    }\n",
       "\n",
       "    .dataframe tbody tr th {\n",
       "        vertical-align: top;\n",
       "    }\n",
       "\n",
       "    .dataframe thead th {\n",
       "        text-align: right;\n",
       "    }\n",
       "</style>\n",
       "<table border=\"1\" class=\"dataframe\">\n",
       "  <thead>\n",
       "    <tr style=\"text-align: right;\">\n",
       "      <th></th>\n",
       "      <th>error</th>\n",
       "      <th>inflow_i</th>\n",
       "      <th>inflow_i+1</th>\n",
       "    </tr>\n",
       "  </thead>\n",
       "  <tbody>\n",
       "    <tr>\n",
       "      <th>0</th>\n",
       "      <td>-1.131204e-01</td>\n",
       "      <td>0.070711</td>\n",
       "      <td>-0.042410</td>\n",
       "    </tr>\n",
       "    <tr>\n",
       "      <th>1</th>\n",
       "      <td>2.240865e-05</td>\n",
       "      <td>-0.042410</td>\n",
       "      <td>-0.042387</td>\n",
       "    </tr>\n",
       "    <tr>\n",
       "      <th>2</th>\n",
       "      <td>1.336422e-08</td>\n",
       "      <td>-0.042387</td>\n",
       "      <td>-0.042387</td>\n",
       "    </tr>\n",
       "  </tbody>\n",
       "</table>\n",
       "</div>"
      ],
      "text/plain": [
       "          error  inflow_i  inflow_i+1\n",
       "0 -1.131204e-01  0.070711   -0.042410\n",
       "1  2.240865e-05 -0.042410   -0.042387\n",
       "2  1.336422e-08 -0.042387   -0.042387"
      ]
     },
     "metadata": {},
     "output_type": "display_data"
    },
    {
     "name": "stdout",
     "output_type": "stream",
     "text": [
      "\n",
      "\n",
      "Results for Angle of Attack: -2.0 degrees\n"
     ]
    },
    {
     "data": {
      "text/html": [
       "<div>\n",
       "<style scoped>\n",
       "    .dataframe tbody tr th:only-of-type {\n",
       "        vertical-align: middle;\n",
       "    }\n",
       "\n",
       "    .dataframe tbody tr th {\n",
       "        vertical-align: top;\n",
       "    }\n",
       "\n",
       "    .dataframe thead th {\n",
       "        text-align: right;\n",
       "    }\n",
       "</style>\n",
       "<table border=\"1\" class=\"dataframe\">\n",
       "  <thead>\n",
       "    <tr style=\"text-align: right;\">\n",
       "      <th></th>\n",
       "      <th>error</th>\n",
       "      <th>inflow_i</th>\n",
       "      <th>inflow_i+1</th>\n",
       "    </tr>\n",
       "  </thead>\n",
       "  <tbody>\n",
       "    <tr>\n",
       "      <th>0</th>\n",
       "      <td>-0.088367</td>\n",
       "      <td>0.070711</td>\n",
       "      <td>-0.017657</td>\n",
       "    </tr>\n",
       "    <tr>\n",
       "      <th>1</th>\n",
       "      <td>0.000033</td>\n",
       "      <td>-0.017657</td>\n",
       "      <td>-0.017624</td>\n",
       "    </tr>\n",
       "  </tbody>\n",
       "</table>\n",
       "</div>"
      ],
      "text/plain": [
       "      error  inflow_i  inflow_i+1\n",
       "0 -0.088367  0.070711   -0.017657\n",
       "1  0.000033 -0.017657   -0.017624"
      ]
     },
     "metadata": {},
     "output_type": "display_data"
    },
    {
     "name": "stdout",
     "output_type": "stream",
     "text": [
      "\n",
      "\n",
      "Results for Angle of Attack: 0.0 degrees\n"
     ]
    },
    {
     "data": {
      "text/html": [
       "<div>\n",
       "<style scoped>\n",
       "    .dataframe tbody tr th:only-of-type {\n",
       "        vertical-align: middle;\n",
       "    }\n",
       "\n",
       "    .dataframe tbody tr th {\n",
       "        vertical-align: top;\n",
       "    }\n",
       "\n",
       "    .dataframe thead th {\n",
       "        text-align: right;\n",
       "    }\n",
       "</style>\n",
       "<table border=\"1\" class=\"dataframe\">\n",
       "  <thead>\n",
       "    <tr style=\"text-align: right;\">\n",
       "      <th></th>\n",
       "      <th>error</th>\n",
       "      <th>inflow_i</th>\n",
       "      <th>inflow_i+1</th>\n",
       "    </tr>\n",
       "  </thead>\n",
       "  <tbody>\n",
       "    <tr>\n",
       "      <th>0</th>\n",
       "      <td>-0.063675</td>\n",
       "      <td>0.070711</td>\n",
       "      <td>0.007036</td>\n",
       "    </tr>\n",
       "    <tr>\n",
       "      <th>1</th>\n",
       "      <td>0.000035</td>\n",
       "      <td>0.007036</td>\n",
       "      <td>0.007071</td>\n",
       "    </tr>\n",
       "  </tbody>\n",
       "</table>\n",
       "</div>"
      ],
      "text/plain": [
       "      error  inflow_i  inflow_i+1\n",
       "0 -0.063675  0.070711    0.007036\n",
       "1  0.000035  0.007036    0.007071"
      ]
     },
     "metadata": {},
     "output_type": "display_data"
    },
    {
     "name": "stdout",
     "output_type": "stream",
     "text": [
      "\n",
      "\n",
      "Results for Angle of Attack: 2.0 degrees\n"
     ]
    },
    {
     "data": {
      "text/html": [
       "<div>\n",
       "<style scoped>\n",
       "    .dataframe tbody tr th:only-of-type {\n",
       "        vertical-align: middle;\n",
       "    }\n",
       "\n",
       "    .dataframe tbody tr th {\n",
       "        vertical-align: top;\n",
       "    }\n",
       "\n",
       "    .dataframe thead th {\n",
       "        text-align: right;\n",
       "    }\n",
       "</style>\n",
       "<table border=\"1\" class=\"dataframe\">\n",
       "  <thead>\n",
       "    <tr style=\"text-align: right;\">\n",
       "      <th></th>\n",
       "      <th>error</th>\n",
       "      <th>inflow_i</th>\n",
       "      <th>inflow_i+1</th>\n",
       "    </tr>\n",
       "  </thead>\n",
       "  <tbody>\n",
       "    <tr>\n",
       "      <th>0</th>\n",
       "      <td>-3.898199e-02</td>\n",
       "      <td>0.070711</td>\n",
       "      <td>0.031729</td>\n",
       "    </tr>\n",
       "    <tr>\n",
       "      <th>1</th>\n",
       "      <td>2.798458e-05</td>\n",
       "      <td>0.031729</td>\n",
       "      <td>0.031757</td>\n",
       "    </tr>\n",
       "    <tr>\n",
       "      <th>2</th>\n",
       "      <td>-1.252466e-08</td>\n",
       "      <td>0.031757</td>\n",
       "      <td>0.031757</td>\n",
       "    </tr>\n",
       "  </tbody>\n",
       "</table>\n",
       "</div>"
      ],
      "text/plain": [
       "          error  inflow_i  inflow_i+1\n",
       "0 -3.898199e-02  0.070711    0.031729\n",
       "1  2.798458e-05  0.031729    0.031757\n",
       "2 -1.252466e-08  0.031757    0.031757"
      ]
     },
     "metadata": {},
     "output_type": "display_data"
    },
    {
     "name": "stdout",
     "output_type": "stream",
     "text": [
      "\n",
      "\n",
      "Results for Angle of Attack: 4.0 degrees\n"
     ]
    },
    {
     "data": {
      "text/html": [
       "<div>\n",
       "<style scoped>\n",
       "    .dataframe tbody tr th:only-of-type {\n",
       "        vertical-align: middle;\n",
       "    }\n",
       "\n",
       "    .dataframe tbody tr th {\n",
       "        vertical-align: top;\n",
       "    }\n",
       "\n",
       "    .dataframe thead th {\n",
       "        text-align: right;\n",
       "    }\n",
       "</style>\n",
       "<table border=\"1\" class=\"dataframe\">\n",
       "  <thead>\n",
       "    <tr style=\"text-align: right;\">\n",
       "      <th></th>\n",
       "      <th>error</th>\n",
       "      <th>inflow_i</th>\n",
       "      <th>inflow_i+1</th>\n",
       "    </tr>\n",
       "  </thead>\n",
       "  <tbody>\n",
       "    <tr>\n",
       "      <th>0</th>\n",
       "      <td>-1.422898e-02</td>\n",
       "      <td>0.070711</td>\n",
       "      <td>0.056482</td>\n",
       "    </tr>\n",
       "    <tr>\n",
       "      <th>1</th>\n",
       "      <td>1.264174e-05</td>\n",
       "      <td>0.056482</td>\n",
       "      <td>0.056494</td>\n",
       "    </tr>\n",
       "    <tr>\n",
       "      <th>2</th>\n",
       "      <td>-1.000309e-08</td>\n",
       "      <td>0.056494</td>\n",
       "      <td>0.056494</td>\n",
       "    </tr>\n",
       "  </tbody>\n",
       "</table>\n",
       "</div>"
      ],
      "text/plain": [
       "          error  inflow_i  inflow_i+1\n",
       "0 -1.422898e-02  0.070711    0.056482\n",
       "1  1.264174e-05  0.056482    0.056494\n",
       "2 -1.000309e-08  0.056494    0.056494"
      ]
     },
     "metadata": {},
     "output_type": "display_data"
    },
    {
     "name": "stdout",
     "output_type": "stream",
     "text": [
      "\n",
      "\n",
      "Results for Angle of Attack: 6.0 degrees\n"
     ]
    },
    {
     "data": {
      "text/html": [
       "<div>\n",
       "<style scoped>\n",
       "    .dataframe tbody tr th:only-of-type {\n",
       "        vertical-align: middle;\n",
       "    }\n",
       "\n",
       "    .dataframe tbody tr th {\n",
       "        vertical-align: top;\n",
       "    }\n",
       "\n",
       "    .dataframe thead th {\n",
       "        text-align: right;\n",
       "    }\n",
       "</style>\n",
       "<table border=\"1\" class=\"dataframe\">\n",
       "  <thead>\n",
       "    <tr style=\"text-align: right;\">\n",
       "      <th></th>\n",
       "      <th>error</th>\n",
       "      <th>inflow_i</th>\n",
       "      <th>inflow_i+1</th>\n",
       "    </tr>\n",
       "  </thead>\n",
       "  <tbody>\n",
       "    <tr>\n",
       "      <th>0</th>\n",
       "      <td>1.064521e-02</td>\n",
       "      <td>0.070711</td>\n",
       "      <td>0.081356</td>\n",
       "    </tr>\n",
       "    <tr>\n",
       "      <th>1</th>\n",
       "      <td>-1.124990e-05</td>\n",
       "      <td>0.081356</td>\n",
       "      <td>0.081345</td>\n",
       "    </tr>\n",
       "    <tr>\n",
       "      <th>2</th>\n",
       "      <td>1.268986e-08</td>\n",
       "      <td>0.081345</td>\n",
       "      <td>0.081345</td>\n",
       "    </tr>\n",
       "  </tbody>\n",
       "</table>\n",
       "</div>"
      ],
      "text/plain": [
       "          error  inflow_i  inflow_i+1\n",
       "0  1.064521e-02  0.070711    0.081356\n",
       "1 -1.124990e-05  0.081356    0.081345\n",
       "2  1.268986e-08  0.081345    0.081345"
      ]
     },
     "metadata": {},
     "output_type": "display_data"
    },
    {
     "name": "stdout",
     "output_type": "stream",
     "text": [
      "\n",
      "\n",
      "Results for Angle of Attack: 8.0 degrees\n"
     ]
    },
    {
     "data": {
      "text/html": [
       "<div>\n",
       "<style scoped>\n",
       "    .dataframe tbody tr th:only-of-type {\n",
       "        vertical-align: middle;\n",
       "    }\n",
       "\n",
       "    .dataframe tbody tr th {\n",
       "        vertical-align: top;\n",
       "    }\n",
       "\n",
       "    .dataframe thead th {\n",
       "        text-align: right;\n",
       "    }\n",
       "</style>\n",
       "<table border=\"1\" class=\"dataframe\">\n",
       "  <thead>\n",
       "    <tr style=\"text-align: right;\">\n",
       "      <th></th>\n",
       "      <th>error</th>\n",
       "      <th>inflow_i</th>\n",
       "      <th>inflow_i+1</th>\n",
       "    </tr>\n",
       "  </thead>\n",
       "  <tbody>\n",
       "    <tr>\n",
       "      <th>0</th>\n",
       "      <td>3.570267e-02</td>\n",
       "      <td>0.070711</td>\n",
       "      <td>0.106413</td>\n",
       "    </tr>\n",
       "    <tr>\n",
       "      <th>1</th>\n",
       "      <td>-4.364411e-05</td>\n",
       "      <td>0.106413</td>\n",
       "      <td>0.106370</td>\n",
       "    </tr>\n",
       "    <tr>\n",
       "      <th>2</th>\n",
       "      <td>6.349866e-08</td>\n",
       "      <td>0.106370</td>\n",
       "      <td>0.106370</td>\n",
       "    </tr>\n",
       "  </tbody>\n",
       "</table>\n",
       "</div>"
      ],
      "text/plain": [
       "          error  inflow_i  inflow_i+1\n",
       "0  3.570267e-02  0.070711    0.106413\n",
       "1 -4.364411e-05  0.106413    0.106370\n",
       "2  6.349866e-08  0.106370    0.106370"
      ]
     },
     "metadata": {},
     "output_type": "display_data"
    },
    {
     "name": "stdout",
     "output_type": "stream",
     "text": [
      "\n",
      "\n"
     ]
    }
   ],
   "source": [
    "### fixed point\n",
    "fixed_point_dict = {}\n",
    "def FixedPointError(inflow_ratio,advance_ratio,angle_of_attack):\n",
    "  mu = advance_ratio\n",
    "  alpha = angle_of_attack\n",
    "  error = mu*np.tan(alpha) + coefficient_thrust / (2*np.sqrt(inflow_ratio**2 + mu**2)) - inflow_ratio\n",
    "  return float(error)\n",
    "def FixedPointNumeric(angle_of_attack):\n",
    "  inflow_hover = (coefficient_thrust/2)**0.5\n",
    "  iteration_count = 0\n",
    "  inflow_fixed_point = inflow_hover\n",
    "  advance_fixed = mu_sea_level\n",
    "  alpha = angle_of_attack\n",
    "  fixed_point_dict[f'{alpha}'] = {\n",
    "    'error':[],\n",
    "    'inflow_i':[],\n",
    "    'inflow_i+1':[]\n",
    "  }\n",
    "  while abs(FixedPointError(inflow_fixed_point,advance_fixed,alpha)) > 1e-8:\n",
    "    iteration_count += 1\n",
    "    fixed_point_dict[f'{alpha}']['error'].append(FixedPointError(inflow_fixed_point,advance_fixed,alpha))\n",
    "    fixed_point_dict[f'{alpha}']['inflow_i'].append(inflow_fixed_point)\n",
    "    inflow_fixed_point = float(advance_fixed*np.tan(alpha) + coefficient_thrust/(2*np.sqrt(inflow_fixed_point**2+advance_fixed**2)))\n",
    "    fixed_point_dict[f'{alpha}']['inflow_i+1'].append(inflow_fixed_point)\n",
    "  # display(pd.DataFrame(fixed_point_dict))\n",
    "for i in range(-4,9,2):\n",
    "  FixedPointNumeric(i*deg2rad)\n",
    "for alpha, values in fixed_point_dict.items():\n",
    "    df = pd.DataFrame(values)\n",
    "    print(f\"Results for Angle of Attack: {round(float(alpha)*rad2deg,2)} degrees\")\n",
    "    display(df)  # Display each DataFrame for each angle of attack\n",
    "    print(\"\\n\")"
   ]
  },
  {
   "cell_type": "code",
   "execution_count": 25,
   "metadata": {},
   "outputs": [
    {
     "name": "stdout",
     "output_type": "stream",
     "text": [
      "Results for Angle of Attack: -4.0 degrees\n"
     ]
    },
    {
     "data": {
      "text/html": [
       "<div>\n",
       "<style scoped>\n",
       "    .dataframe tbody tr th:only-of-type {\n",
       "        vertical-align: middle;\n",
       "    }\n",
       "\n",
       "    .dataframe tbody tr th {\n",
       "        vertical-align: top;\n",
       "    }\n",
       "\n",
       "    .dataframe thead th {\n",
       "        text-align: right;\n",
       "    }\n",
       "</style>\n",
       "<table border=\"1\" class=\"dataframe\">\n",
       "  <thead>\n",
       "    <tr style=\"text-align: right;\">\n",
       "      <th></th>\n",
       "      <th>error</th>\n",
       "      <th>inflow_i</th>\n",
       "      <th>inflow_i+1</th>\n",
       "    </tr>\n",
       "  </thead>\n",
       "  <tbody>\n",
       "    <tr>\n",
       "      <th>0</th>\n",
       "      <td>-1.131204e-01</td>\n",
       "      <td>0.070711</td>\n",
       "      <td>-0.042387</td>\n",
       "    </tr>\n",
       "    <tr>\n",
       "      <th>1</th>\n",
       "      <td>-1.325577e-04</td>\n",
       "      <td>-0.042255</td>\n",
       "      <td>-0.042387</td>\n",
       "    </tr>\n",
       "    <tr>\n",
       "      <th>2</th>\n",
       "      <td>3.194618e-08</td>\n",
       "      <td>-0.042387</td>\n",
       "      <td>-0.042387</td>\n",
       "    </tr>\n",
       "  </tbody>\n",
       "</table>\n",
       "</div>"
      ],
      "text/plain": [
       "          error  inflow_i  inflow_i+1\n",
       "0 -1.131204e-01  0.070711   -0.042387\n",
       "1 -1.325577e-04 -0.042255   -0.042387\n",
       "2  3.194618e-08 -0.042387   -0.042387"
      ]
     },
     "metadata": {},
     "output_type": "display_data"
    },
    {
     "name": "stdout",
     "output_type": "stream",
     "text": [
      "\n",
      "\n",
      "Results for Angle of Attack: -2.0 degrees\n"
     ]
    },
    {
     "data": {
      "text/html": [
       "<div>\n",
       "<style scoped>\n",
       "    .dataframe tbody tr th:only-of-type {\n",
       "        vertical-align: middle;\n",
       "    }\n",
       "\n",
       "    .dataframe tbody tr th {\n",
       "        vertical-align: top;\n",
       "    }\n",
       "\n",
       "    .dataframe thead th {\n",
       "        text-align: right;\n",
       "    }\n",
       "</style>\n",
       "<table border=\"1\" class=\"dataframe\">\n",
       "  <thead>\n",
       "    <tr style=\"text-align: right;\">\n",
       "      <th></th>\n",
       "      <th>error</th>\n",
       "      <th>inflow_i</th>\n",
       "      <th>inflow_i+1</th>\n",
       "    </tr>\n",
       "  </thead>\n",
       "  <tbody>\n",
       "    <tr>\n",
       "      <th>0</th>\n",
       "      <td>-0.088367</td>\n",
       "      <td>0.070711</td>\n",
       "      <td>-0.017624</td>\n",
       "    </tr>\n",
       "    <tr>\n",
       "      <th>1</th>\n",
       "      <td>-0.000088</td>\n",
       "      <td>-0.017536</td>\n",
       "      <td>-0.017624</td>\n",
       "    </tr>\n",
       "  </tbody>\n",
       "</table>\n",
       "</div>"
      ],
      "text/plain": [
       "      error  inflow_i  inflow_i+1\n",
       "0 -0.088367  0.070711   -0.017624\n",
       "1 -0.000088 -0.017536   -0.017624"
      ]
     },
     "metadata": {},
     "output_type": "display_data"
    },
    {
     "name": "stdout",
     "output_type": "stream",
     "text": [
      "\n",
      "\n",
      "Results for Angle of Attack: 0.0 degrees\n"
     ]
    },
    {
     "data": {
      "text/html": [
       "<div>\n",
       "<style scoped>\n",
       "    .dataframe tbody tr th:only-of-type {\n",
       "        vertical-align: middle;\n",
       "    }\n",
       "\n",
       "    .dataframe tbody tr th {\n",
       "        vertical-align: top;\n",
       "    }\n",
       "\n",
       "    .dataframe thead th {\n",
       "        text-align: right;\n",
       "    }\n",
       "</style>\n",
       "<table border=\"1\" class=\"dataframe\">\n",
       "  <thead>\n",
       "    <tr style=\"text-align: right;\">\n",
       "      <th></th>\n",
       "      <th>error</th>\n",
       "      <th>inflow_i</th>\n",
       "      <th>inflow_i+1</th>\n",
       "    </tr>\n",
       "  </thead>\n",
       "  <tbody>\n",
       "    <tr>\n",
       "      <th>0</th>\n",
       "      <td>-0.063675</td>\n",
       "      <td>0.070711</td>\n",
       "      <td>0.007071</td>\n",
       "    </tr>\n",
       "    <tr>\n",
       "      <th>1</th>\n",
       "      <td>-0.000053</td>\n",
       "      <td>0.007123</td>\n",
       "      <td>0.007071</td>\n",
       "    </tr>\n",
       "  </tbody>\n",
       "</table>\n",
       "</div>"
      ],
      "text/plain": [
       "      error  inflow_i  inflow_i+1\n",
       "0 -0.063675  0.070711    0.007071\n",
       "1 -0.000053  0.007123    0.007071"
      ]
     },
     "metadata": {},
     "output_type": "display_data"
    },
    {
     "name": "stdout",
     "output_type": "stream",
     "text": [
      "\n",
      "\n",
      "Results for Angle of Attack: 2.0 degrees\n"
     ]
    },
    {
     "data": {
      "text/html": [
       "<div>\n",
       "<style scoped>\n",
       "    .dataframe tbody tr th:only-of-type {\n",
       "        vertical-align: middle;\n",
       "    }\n",
       "\n",
       "    .dataframe tbody tr th {\n",
       "        vertical-align: top;\n",
       "    }\n",
       "\n",
       "    .dataframe thead th {\n",
       "        text-align: right;\n",
       "    }\n",
       "</style>\n",
       "<table border=\"1\" class=\"dataframe\">\n",
       "  <thead>\n",
       "    <tr style=\"text-align: right;\">\n",
       "      <th></th>\n",
       "      <th>error</th>\n",
       "      <th>inflow_i</th>\n",
       "      <th>inflow_i+1</th>\n",
       "    </tr>\n",
       "  </thead>\n",
       "  <tbody>\n",
       "    <tr>\n",
       "      <th>0</th>\n",
       "      <td>-0.038982</td>\n",
       "      <td>0.070711</td>\n",
       "      <td>0.031757</td>\n",
       "    </tr>\n",
       "    <tr>\n",
       "      <th>1</th>\n",
       "      <td>-0.000025</td>\n",
       "      <td>0.031782</td>\n",
       "      <td>0.031757</td>\n",
       "    </tr>\n",
       "  </tbody>\n",
       "</table>\n",
       "</div>"
      ],
      "text/plain": [
       "      error  inflow_i  inflow_i+1\n",
       "0 -0.038982  0.070711    0.031757\n",
       "1 -0.000025  0.031782    0.031757"
      ]
     },
     "metadata": {},
     "output_type": "display_data"
    },
    {
     "name": "stdout",
     "output_type": "stream",
     "text": [
      "\n",
      "\n",
      "Results for Angle of Attack: 4.0 degrees\n"
     ]
    },
    {
     "data": {
      "text/html": [
       "<div>\n",
       "<style scoped>\n",
       "    .dataframe tbody tr th:only-of-type {\n",
       "        vertical-align: middle;\n",
       "    }\n",
       "\n",
       "    .dataframe tbody tr th {\n",
       "        vertical-align: top;\n",
       "    }\n",
       "\n",
       "    .dataframe thead th {\n",
       "        text-align: right;\n",
       "    }\n",
       "</style>\n",
       "<table border=\"1\" class=\"dataframe\">\n",
       "  <thead>\n",
       "    <tr style=\"text-align: right;\">\n",
       "      <th></th>\n",
       "      <th>error</th>\n",
       "      <th>inflow_i</th>\n",
       "      <th>inflow_i+1</th>\n",
       "    </tr>\n",
       "  </thead>\n",
       "  <tbody>\n",
       "    <tr>\n",
       "      <th>0</th>\n",
       "      <td>-0.014229</td>\n",
       "      <td>0.070711</td>\n",
       "      <td>0.056494</td>\n",
       "    </tr>\n",
       "    <tr>\n",
       "      <th>1</th>\n",
       "      <td>-0.000007</td>\n",
       "      <td>0.056501</td>\n",
       "      <td>0.056494</td>\n",
       "    </tr>\n",
       "  </tbody>\n",
       "</table>\n",
       "</div>"
      ],
      "text/plain": [
       "      error  inflow_i  inflow_i+1\n",
       "0 -0.014229  0.070711    0.056494\n",
       "1 -0.000007  0.056501    0.056494"
      ]
     },
     "metadata": {},
     "output_type": "display_data"
    },
    {
     "name": "stdout",
     "output_type": "stream",
     "text": [
      "\n",
      "\n",
      "Results for Angle of Attack: 6.0 degrees\n"
     ]
    },
    {
     "data": {
      "text/html": [
       "<div>\n",
       "<style scoped>\n",
       "    .dataframe tbody tr th:only-of-type {\n",
       "        vertical-align: middle;\n",
       "    }\n",
       "\n",
       "    .dataframe tbody tr th {\n",
       "        vertical-align: top;\n",
       "    }\n",
       "\n",
       "    .dataframe thead th {\n",
       "        text-align: right;\n",
       "    }\n",
       "</style>\n",
       "<table border=\"1\" class=\"dataframe\">\n",
       "  <thead>\n",
       "    <tr style=\"text-align: right;\">\n",
       "      <th></th>\n",
       "      <th>error</th>\n",
       "      <th>inflow_i</th>\n",
       "      <th>inflow_i+1</th>\n",
       "    </tr>\n",
       "  </thead>\n",
       "  <tbody>\n",
       "    <tr>\n",
       "      <th>0</th>\n",
       "      <td>0.010645</td>\n",
       "      <td>0.070711</td>\n",
       "      <td>0.081345</td>\n",
       "    </tr>\n",
       "    <tr>\n",
       "      <th>1</th>\n",
       "      <td>0.000003</td>\n",
       "      <td>0.081341</td>\n",
       "      <td>0.081345</td>\n",
       "    </tr>\n",
       "  </tbody>\n",
       "</table>\n",
       "</div>"
      ],
      "text/plain": [
       "      error  inflow_i  inflow_i+1\n",
       "0  0.010645  0.070711    0.081345\n",
       "1  0.000003  0.081341    0.081345"
      ]
     },
     "metadata": {},
     "output_type": "display_data"
    },
    {
     "name": "stdout",
     "output_type": "stream",
     "text": [
      "\n",
      "\n",
      "Results for Angle of Attack: 8.0 degrees\n"
     ]
    },
    {
     "data": {
      "text/html": [
       "<div>\n",
       "<style scoped>\n",
       "    .dataframe tbody tr th:only-of-type {\n",
       "        vertical-align: middle;\n",
       "    }\n",
       "\n",
       "    .dataframe tbody tr th {\n",
       "        vertical-align: top;\n",
       "    }\n",
       "\n",
       "    .dataframe thead th {\n",
       "        text-align: right;\n",
       "    }\n",
       "</style>\n",
       "<table border=\"1\" class=\"dataframe\">\n",
       "  <thead>\n",
       "    <tr style=\"text-align: right;\">\n",
       "      <th></th>\n",
       "      <th>error</th>\n",
       "      <th>inflow_i</th>\n",
       "      <th>inflow_i+1</th>\n",
       "    </tr>\n",
       "  </thead>\n",
       "  <tbody>\n",
       "    <tr>\n",
       "      <th>0</th>\n",
       "      <td>0.035703</td>\n",
       "      <td>0.070711</td>\n",
       "      <td>0.10637</td>\n",
       "    </tr>\n",
       "    <tr>\n",
       "      <th>1</th>\n",
       "      <td>0.000005</td>\n",
       "      <td>0.106364</td>\n",
       "      <td>0.10637</td>\n",
       "    </tr>\n",
       "  </tbody>\n",
       "</table>\n",
       "</div>"
      ],
      "text/plain": [
       "      error  inflow_i  inflow_i+1\n",
       "0  0.035703  0.070711     0.10637\n",
       "1  0.000005  0.106364     0.10637"
      ]
     },
     "metadata": {},
     "output_type": "display_data"
    },
    {
     "name": "stdout",
     "output_type": "stream",
     "text": [
      "\n",
      "\n"
     ]
    }
   ],
   "source": [
    "# Newton-Raphson\n",
    "newton_raphson_dict = {}\n",
    "def Error(inflow_ratio,advance_ratio,angle_of_attack):\n",
    "  mu = advance_ratio\n",
    "  alpha = angle_of_attack\n",
    "  error = mu*np.tan(alpha) + coefficient_thrust / (2*np.sqrt(inflow_ratio**2 + mu**2)) - inflow_ratio\n",
    "  return float(error)\n",
    "def NewtonRaphon(angle_of_attack):\n",
    "  tolerance = 1e-8\n",
    "  inflow_hover = (coefficient_thrust/2)**0.5\n",
    "  iteration_count = 0\n",
    "  inflow_newton = inflow_hover\n",
    "  advance_newton = mu_sea_level\n",
    "  alpha = angle_of_attack\n",
    "  newton_raphson_dict[f'{alpha}'] = {\n",
    "    'error':[],\n",
    "    'inflow_i':[],\n",
    "    'inflow_i+1':[]\n",
    "  }\n",
    "  while abs(Error(inflow_newton,advance_newton,alpha)) >= tolerance and iteration_count < 30:\n",
    "    iteration_count += 1\n",
    "    newton_raphson_dict[f'{alpha}']['error'].append(Error(inflow_newton,advance_newton,alpha))\n",
    "    newton_raphson_dict[f'{alpha}']['inflow_i'].append(inflow_newton)\n",
    "    f =  Error(inflow_newton,advance_newton,alpha)\n",
    "    f_prime = 1 + (coefficient_thrust/2)*(advance_newton**2+inflow_newton**2)**-3/2 * inflow_newton\n",
    "    inflow_newton = inflow_newton + f/f_prime\n",
    "    newton_raphson_dict[f'{alpha}']['inflow_i+1'] = inflow_newton\n",
    "for i in range(-4,9,2):\n",
    "  NewtonRaphon(i*deg2rad)\n",
    "for alpha, values in newton_raphson_dict.items():\n",
    "    df = pd.DataFrame(values)\n",
    "    print(f\"Results for Angle of Attack: {round(float(alpha)*rad2deg,2)} degrees\")\n",
    "    display(df)  # Display each DataFrame for each angle of attack\n",
    "    print(\"\\n\")"
   ]
  },
  {
   "cell_type": "code",
   "execution_count": 26,
   "metadata": {},
   "outputs": [
    {
     "name": "stdout",
     "output_type": "stream",
     "text": [
      "failed second order\n",
      "failed second order\n",
      "failed second order\n",
      "failed second order\n",
      "failed second order\n",
      "failed second order\n",
      "failed second order\n",
      "failed second order\n",
      "failed second order\n",
      "failed second order\n",
      "failed second order\n",
      "failed second order\n",
      "failed second order\n",
      "failed second order\n",
      "failed second order\n",
      "Results for Angle of Attack: -4.0 degrees\n"
     ]
    },
    {
     "data": {
      "text/html": [
       "<div>\n",
       "<style scoped>\n",
       "    .dataframe tbody tr th:only-of-type {\n",
       "        vertical-align: middle;\n",
       "    }\n",
       "\n",
       "    .dataframe tbody tr th {\n",
       "        vertical-align: top;\n",
       "    }\n",
       "\n",
       "    .dataframe thead th {\n",
       "        text-align: right;\n",
       "    }\n",
       "</style>\n",
       "<table border=\"1\" class=\"dataframe\">\n",
       "  <thead>\n",
       "    <tr style=\"text-align: right;\">\n",
       "      <th></th>\n",
       "      <th>error</th>\n",
       "      <th>inflow_i</th>\n",
       "      <th>inflow_i+1</th>\n",
       "    </tr>\n",
       "  </thead>\n",
       "  <tbody>\n",
       "    <tr>\n",
       "      <th>0</th>\n",
       "      <td>-1.131204e-01</td>\n",
       "      <td>0.070711</td>\n",
       "      <td>-0.042387</td>\n",
       "    </tr>\n",
       "    <tr>\n",
       "      <th>1</th>\n",
       "      <td>-1.325577e-04</td>\n",
       "      <td>-0.042255</td>\n",
       "      <td>-0.042387</td>\n",
       "    </tr>\n",
       "    <tr>\n",
       "      <th>2</th>\n",
       "      <td>3.194618e-08</td>\n",
       "      <td>-0.042387</td>\n",
       "      <td>-0.042387</td>\n",
       "    </tr>\n",
       "  </tbody>\n",
       "</table>\n",
       "</div>"
      ],
      "text/plain": [
       "          error  inflow_i  inflow_i+1\n",
       "0 -1.131204e-01  0.070711   -0.042387\n",
       "1 -1.325577e-04 -0.042255   -0.042387\n",
       "2  3.194618e-08 -0.042387   -0.042387"
      ]
     },
     "metadata": {},
     "output_type": "display_data"
    },
    {
     "name": "stdout",
     "output_type": "stream",
     "text": [
      "\n",
      "\n",
      "Results for Angle of Attack: -2.0 degrees\n"
     ]
    },
    {
     "data": {
      "text/html": [
       "<div>\n",
       "<style scoped>\n",
       "    .dataframe tbody tr th:only-of-type {\n",
       "        vertical-align: middle;\n",
       "    }\n",
       "\n",
       "    .dataframe tbody tr th {\n",
       "        vertical-align: top;\n",
       "    }\n",
       "\n",
       "    .dataframe thead th {\n",
       "        text-align: right;\n",
       "    }\n",
       "</style>\n",
       "<table border=\"1\" class=\"dataframe\">\n",
       "  <thead>\n",
       "    <tr style=\"text-align: right;\">\n",
       "      <th></th>\n",
       "      <th>error</th>\n",
       "      <th>inflow_i</th>\n",
       "      <th>inflow_i+1</th>\n",
       "    </tr>\n",
       "  </thead>\n",
       "  <tbody>\n",
       "    <tr>\n",
       "      <th>0</th>\n",
       "      <td>-0.088367</td>\n",
       "      <td>0.070711</td>\n",
       "      <td>-0.017624</td>\n",
       "    </tr>\n",
       "    <tr>\n",
       "      <th>1</th>\n",
       "      <td>-0.000088</td>\n",
       "      <td>-0.017536</td>\n",
       "      <td>-0.017624</td>\n",
       "    </tr>\n",
       "  </tbody>\n",
       "</table>\n",
       "</div>"
      ],
      "text/plain": [
       "      error  inflow_i  inflow_i+1\n",
       "0 -0.088367  0.070711   -0.017624\n",
       "1 -0.000088 -0.017536   -0.017624"
      ]
     },
     "metadata": {},
     "output_type": "display_data"
    },
    {
     "name": "stdout",
     "output_type": "stream",
     "text": [
      "\n",
      "\n",
      "Results for Angle of Attack: 0.0 degrees\n"
     ]
    },
    {
     "data": {
      "text/html": [
       "<div>\n",
       "<style scoped>\n",
       "    .dataframe tbody tr th:only-of-type {\n",
       "        vertical-align: middle;\n",
       "    }\n",
       "\n",
       "    .dataframe tbody tr th {\n",
       "        vertical-align: top;\n",
       "    }\n",
       "\n",
       "    .dataframe thead th {\n",
       "        text-align: right;\n",
       "    }\n",
       "</style>\n",
       "<table border=\"1\" class=\"dataframe\">\n",
       "  <thead>\n",
       "    <tr style=\"text-align: right;\">\n",
       "      <th></th>\n",
       "      <th>error</th>\n",
       "      <th>inflow_i</th>\n",
       "      <th>inflow_i+1</th>\n",
       "    </tr>\n",
       "  </thead>\n",
       "  <tbody>\n",
       "    <tr>\n",
       "      <th>0</th>\n",
       "      <td>-0.063675</td>\n",
       "      <td>0.070711</td>\n",
       "      <td>0.007071</td>\n",
       "    </tr>\n",
       "    <tr>\n",
       "      <th>1</th>\n",
       "      <td>-0.000053</td>\n",
       "      <td>0.007123</td>\n",
       "      <td>0.007071</td>\n",
       "    </tr>\n",
       "  </tbody>\n",
       "</table>\n",
       "</div>"
      ],
      "text/plain": [
       "      error  inflow_i  inflow_i+1\n",
       "0 -0.063675  0.070711    0.007071\n",
       "1 -0.000053  0.007123    0.007071"
      ]
     },
     "metadata": {},
     "output_type": "display_data"
    },
    {
     "name": "stdout",
     "output_type": "stream",
     "text": [
      "\n",
      "\n",
      "Results for Angle of Attack: 2.0 degrees\n"
     ]
    },
    {
     "data": {
      "text/html": [
       "<div>\n",
       "<style scoped>\n",
       "    .dataframe tbody tr th:only-of-type {\n",
       "        vertical-align: middle;\n",
       "    }\n",
       "\n",
       "    .dataframe tbody tr th {\n",
       "        vertical-align: top;\n",
       "    }\n",
       "\n",
       "    .dataframe thead th {\n",
       "        text-align: right;\n",
       "    }\n",
       "</style>\n",
       "<table border=\"1\" class=\"dataframe\">\n",
       "  <thead>\n",
       "    <tr style=\"text-align: right;\">\n",
       "      <th></th>\n",
       "      <th>error</th>\n",
       "      <th>inflow_i</th>\n",
       "      <th>inflow_i+1</th>\n",
       "    </tr>\n",
       "  </thead>\n",
       "  <tbody>\n",
       "    <tr>\n",
       "      <th>0</th>\n",
       "      <td>-0.038982</td>\n",
       "      <td>0.070711</td>\n",
       "      <td>0.031757</td>\n",
       "    </tr>\n",
       "    <tr>\n",
       "      <th>1</th>\n",
       "      <td>-0.000025</td>\n",
       "      <td>0.031782</td>\n",
       "      <td>0.031757</td>\n",
       "    </tr>\n",
       "  </tbody>\n",
       "</table>\n",
       "</div>"
      ],
      "text/plain": [
       "      error  inflow_i  inflow_i+1\n",
       "0 -0.038982  0.070711    0.031757\n",
       "1 -0.000025  0.031782    0.031757"
      ]
     },
     "metadata": {},
     "output_type": "display_data"
    },
    {
     "name": "stdout",
     "output_type": "stream",
     "text": [
      "\n",
      "\n",
      "Results for Angle of Attack: 4.0 degrees\n"
     ]
    },
    {
     "data": {
      "text/html": [
       "<div>\n",
       "<style scoped>\n",
       "    .dataframe tbody tr th:only-of-type {\n",
       "        vertical-align: middle;\n",
       "    }\n",
       "\n",
       "    .dataframe tbody tr th {\n",
       "        vertical-align: top;\n",
       "    }\n",
       "\n",
       "    .dataframe thead th {\n",
       "        text-align: right;\n",
       "    }\n",
       "</style>\n",
       "<table border=\"1\" class=\"dataframe\">\n",
       "  <thead>\n",
       "    <tr style=\"text-align: right;\">\n",
       "      <th></th>\n",
       "      <th>error</th>\n",
       "      <th>inflow_i</th>\n",
       "      <th>inflow_i+1</th>\n",
       "    </tr>\n",
       "  </thead>\n",
       "  <tbody>\n",
       "    <tr>\n",
       "      <th>0</th>\n",
       "      <td>-0.014229</td>\n",
       "      <td>0.070711</td>\n",
       "      <td>0.056494</td>\n",
       "    </tr>\n",
       "    <tr>\n",
       "      <th>1</th>\n",
       "      <td>-0.000007</td>\n",
       "      <td>0.056501</td>\n",
       "      <td>0.056494</td>\n",
       "    </tr>\n",
       "  </tbody>\n",
       "</table>\n",
       "</div>"
      ],
      "text/plain": [
       "      error  inflow_i  inflow_i+1\n",
       "0 -0.014229  0.070711    0.056494\n",
       "1 -0.000007  0.056501    0.056494"
      ]
     },
     "metadata": {},
     "output_type": "display_data"
    },
    {
     "name": "stdout",
     "output_type": "stream",
     "text": [
      "\n",
      "\n",
      "Results for Angle of Attack: 6.0 degrees\n"
     ]
    },
    {
     "data": {
      "text/html": [
       "<div>\n",
       "<style scoped>\n",
       "    .dataframe tbody tr th:only-of-type {\n",
       "        vertical-align: middle;\n",
       "    }\n",
       "\n",
       "    .dataframe tbody tr th {\n",
       "        vertical-align: top;\n",
       "    }\n",
       "\n",
       "    .dataframe thead th {\n",
       "        text-align: right;\n",
       "    }\n",
       "</style>\n",
       "<table border=\"1\" class=\"dataframe\">\n",
       "  <thead>\n",
       "    <tr style=\"text-align: right;\">\n",
       "      <th></th>\n",
       "      <th>error</th>\n",
       "      <th>inflow_i</th>\n",
       "      <th>inflow_i+1</th>\n",
       "    </tr>\n",
       "  </thead>\n",
       "  <tbody>\n",
       "    <tr>\n",
       "      <th>0</th>\n",
       "      <td>0.010645</td>\n",
       "      <td>0.070711</td>\n",
       "      <td>0.081345</td>\n",
       "    </tr>\n",
       "    <tr>\n",
       "      <th>1</th>\n",
       "      <td>0.000003</td>\n",
       "      <td>0.081341</td>\n",
       "      <td>0.081345</td>\n",
       "    </tr>\n",
       "  </tbody>\n",
       "</table>\n",
       "</div>"
      ],
      "text/plain": [
       "      error  inflow_i  inflow_i+1\n",
       "0  0.010645  0.070711    0.081345\n",
       "1  0.000003  0.081341    0.081345"
      ]
     },
     "metadata": {},
     "output_type": "display_data"
    },
    {
     "name": "stdout",
     "output_type": "stream",
     "text": [
      "\n",
      "\n",
      "Results for Angle of Attack: 8.0 degrees\n"
     ]
    },
    {
     "data": {
      "text/html": [
       "<div>\n",
       "<style scoped>\n",
       "    .dataframe tbody tr th:only-of-type {\n",
       "        vertical-align: middle;\n",
       "    }\n",
       "\n",
       "    .dataframe tbody tr th {\n",
       "        vertical-align: top;\n",
       "    }\n",
       "\n",
       "    .dataframe thead th {\n",
       "        text-align: right;\n",
       "    }\n",
       "</style>\n",
       "<table border=\"1\" class=\"dataframe\">\n",
       "  <thead>\n",
       "    <tr style=\"text-align: right;\">\n",
       "      <th></th>\n",
       "      <th>error</th>\n",
       "      <th>inflow_i</th>\n",
       "      <th>inflow_i+1</th>\n",
       "    </tr>\n",
       "  </thead>\n",
       "  <tbody>\n",
       "    <tr>\n",
       "      <th>0</th>\n",
       "      <td>0.035703</td>\n",
       "      <td>0.070711</td>\n",
       "      <td>0.10637</td>\n",
       "    </tr>\n",
       "    <tr>\n",
       "      <th>1</th>\n",
       "      <td>0.000005</td>\n",
       "      <td>0.106364</td>\n",
       "      <td>0.10637</td>\n",
       "    </tr>\n",
       "  </tbody>\n",
       "</table>\n",
       "</div>"
      ],
      "text/plain": [
       "      error  inflow_i  inflow_i+1\n",
       "0  0.035703  0.070711     0.10637\n",
       "1  0.000005  0.106364     0.10637"
      ]
     },
     "metadata": {},
     "output_type": "display_data"
    },
    {
     "name": "stdout",
     "output_type": "stream",
     "text": [
      "\n",
      "\n"
     ]
    }
   ],
   "source": [
    "### Halley's Method\n",
    "halley_dict = {}\n",
    "def Halley(angle_of_attack):\n",
    "  tolerance = 1e-8\n",
    "  inflow_hover = (coefficient_thrust/2)**0.5\n",
    "  iteration_count = 0\n",
    "  inflow_halley = inflow_hover\n",
    "  advance_halley = mu_sea_level\n",
    "  alpha = angle_of_attack\n",
    "  halley_dict[f'{alpha}'] = {\n",
    "    'error':[],\n",
    "    'inflow_i':[],\n",
    "    'inflow_i+1':[]\n",
    "  }\n",
    "  while abs(Error(inflow_halley,advance_halley,alpha)) >= tolerance and iteration_count < 30:\n",
    "    iteration_count += 1\n",
    "    halley_dict[f'{alpha}']['error'].append(Error(inflow_halley,advance_halley,alpha))\n",
    "    halley_dict[f'{alpha}']['inflow_i'].append(inflow_halley)\n",
    "    f =  Error(inflow_halley,advance_halley,alpha)\n",
    "    f_prime = 1 + (coefficient_thrust/2)*(advance_halley**2+inflow_halley**2)**-3/2 * inflow_halley\n",
    "    f_double_prime = -1.5*coefficient_thrust*(advance_halley**2+inflow_halley**2)**(-5/2)*inflow_halley**2 + coefficient_thrust/2 * (advance_halley**2+inflow_halley**2)**(-3/2)\n",
    "    if f_prime - (f_prime**2 - f*f_double_prime)**0.5 == float:\n",
    "      print('success')\n",
    "      inflow_halley = inflow_halley - 2*f/(f_prime-(f_prime**2-f*f_double_prime)**0.5)\n",
    "    else:\n",
    "      print('failed second order')\n",
    "      inflow_halley = inflow_halley + f/f_prime\n",
    "    halley_dict[f'{alpha}']['inflow_i+1'] = inflow_halley\n",
    "    \n",
    "  \n",
    "for i in range(-4,9,2):\n",
    "  Halley(i*deg2rad)\n",
    "for alpha, values in halley_dict.items():\n",
    "    df = pd.DataFrame(values)\n",
    "    print(f\"Results for Angle of Attack: {round(float(alpha)*rad2deg,2)} degrees\")\n",
    "    display(df)  # Display each DataFrame for each angle of attack\n",
    "    print(\"\\n\")"
   ]
  }
 ],
 "metadata": {
  "kernelspec": {
   "display_name": "Python 3",
   "language": "python",
   "name": "python3"
  },
  "language_info": {
   "codemirror_mode": {
    "name": "ipython",
    "version": 3
   },
   "file_extension": ".py",
   "mimetype": "text/x-python",
   "name": "python",
   "nbconvert_exporter": "python",
   "pygments_lexer": "ipython3",
   "version": "3.12.5"
  }
 },
 "nbformat": 4,
 "nbformat_minor": 2
}

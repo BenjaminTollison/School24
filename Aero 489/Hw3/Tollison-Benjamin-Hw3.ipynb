{
 "cells": [
  {
   "cell_type": "markdown",
   "metadata": {},
   "source": [
    "# Inspiration for my 3am coding sessions\n",
    "https://youtu.be/1SB5lMyPmuk?si=7lrMy8keMWtSzojO\n",
    "$$\\partial_t u + u \\partial_x u - \\nu \\partial_{xx} u = 0 $$"
   ]
  },
  {
   "cell_type": "code",
   "execution_count": 1,
   "metadata": {},
   "outputs": [
    {
     "ename": "ModuleNotFoundError",
     "evalue": "No module named 'seaborn'",
     "output_type": "error",
     "traceback": [
      "\u001b[1;31m---------------------------------------------------------------------------\u001b[0m",
      "\u001b[1;31mModuleNotFoundError\u001b[0m                       Traceback (most recent call last)",
      "Cell \u001b[1;32mIn[1], line 4\u001b[0m\n\u001b[0;32m      2\u001b[0m \u001b[38;5;28;01mimport\u001b[39;00m \u001b[38;5;21;01mnumpy\u001b[39;00m \u001b[38;5;28;01mas\u001b[39;00m \u001b[38;5;21;01mnp\u001b[39;00m\n\u001b[0;32m      3\u001b[0m \u001b[38;5;28;01mimport\u001b[39;00m \u001b[38;5;21;01mscipy\u001b[39;00m \u001b[38;5;28;01mas\u001b[39;00m \u001b[38;5;21;01msp\u001b[39;00m\n\u001b[1;32m----> 4\u001b[0m \u001b[38;5;28;01mimport\u001b[39;00m \u001b[38;5;21;01mseaborn\u001b[39;00m \u001b[38;5;28;01mas\u001b[39;00m \u001b[38;5;21;01msns\u001b[39;00m\n\u001b[0;32m      5\u001b[0m \u001b[38;5;28;01mimport\u001b[39;00m \u001b[38;5;21;01mtorch\u001b[39;00m\n\u001b[0;32m      6\u001b[0m \u001b[38;5;28;01mimport\u001b[39;00m \u001b[38;5;21;01mtorch\u001b[39;00m\u001b[38;5;21;01m.\u001b[39;00m\u001b[38;5;21;01mnn\u001b[39;00m \u001b[38;5;28;01mas\u001b[39;00m \u001b[38;5;21;01mnn\u001b[39;00m\n",
      "\u001b[1;31mModuleNotFoundError\u001b[0m: No module named 'seaborn'"
     ]
    }
   ],
   "source": [
    "import matplotlib.pyplot as plt\n",
    "import numpy as np\n",
    "import scipy as sp\n",
    "import seaborn as sns\n",
    "import torch\n",
    "import torch.nn as nn\n",
    "from collections import OrderedDict\n",
    "from tqdm import tqdm\n",
    "\n",
    "class BasicNeuralNetwork(nn.Module):\n",
    "  def __init__(\n",
    "      self,\n",
    "      input_size,\n",
    "      output_size,\n",
    "      hidden_layer_size,\n",
    "      depth,\n",
    "      activation_layer = nn.Tanh\n",
    "  ):\n",
    "    super(BasicNeuralNetwork,self).__init__()\n",
    "    layers = [('input',nn.Linear(input_size,hidden_layer_size))]\n",
    "    layers.append(('input_activation',activation_layer()))\n",
    "    for index in range(depth):\n",
    "      layers.append(\n",
    "        ('hidden%d' % index, nn.Linear(hidden_layer_size,hidden_layer_size))\n",
    "      )\n",
    "      layers.append(('activation_%d' % index, activation_layer()))\n",
    "    layers.append(('output',nn.Linear(hidden_layer_size,output_size)))\n",
    "    layersDict = OrderedDict(layers)\n",
    "    self.layers = nn.Sequential(layersDict)\n",
    "  def forward(self,x):\n",
    "    output = self.layers(x)\n",
    "    return output"
   ]
  },
  {
   "cell_type": "markdown",
   "metadata": {},
   "source": [
    "# Building the Specific PINN"
   ]
  },
  {
   "cell_type": "code",
   "execution_count": null,
   "metadata": {},
   "outputs": [],
   "source": [
    "class BurgerPinn:\n",
    "  def __init__(self):\n",
    "    device = torch.device('cuda') if torch.cuda.is_available() else torch.device('cpu')\n",
    "    self.model = BasicNeuralNetwork(\n",
    "      input_size=2,\n",
    "      output_size=1,\n",
    "      hidden_layer_size=10,\n",
    "      depth=5,\n",
    "      activation_layer=nn.Tanh\n",
    "    ).to(device)\n",
    "    self.delta_x = 0.1\n",
    "    self.delta_time = 0.1\n",
    "    x = torch.arange(-1,1+self.delta_x,self.delta_x)\n",
    "    time = torch.arange(0,1+self.delta_time,self.delta_time)\n",
    "    self.exact_model = torch.stack(torch.meshgrid(x,time)).reshape(2,-1).T\n",
    "    boundary_condition_1 = torch.stack(torch.meshgrid(x[0],time)).reshape(2,-1).T\n",
    "    boundary_condition_2 = torch.stack(torch.meshgrid(x[-1],time)).reshape(2,-1).T\n",
    "    intial_time_condition = torch.stack(torch.meshgrid(x,time[0])).reshape(2,-1).T\n",
    "    self.train_exact_model = torch.cat([\n",
    "      boundary_condition_1,\n",
    "      boundary_condition_2,\n",
    "      intial_time_condition\n",
    "    ])\n",
    "    u_boundary_condition_1 = torch.zeros(len(boundary_condition_1))\n",
    "    u_boundary_condition_2 = torch.zeros(len(boundary_condition_2))\n",
    "    u_intial_condition = -torch.sin(np.pi*intial_time_condition[:,0])\n",
    "    self.u_train_exact_model = torch.cat([\n",
    "      u_boundary_condition_1,\n",
    "      u_boundary_condition_2,\n",
    "      u_intial_condition\n",
    "    ])\n",
    "    self.u_train_exact_model = self.u_train_exact_model.unsqueeze(1)\n",
    "    self.exact_model = self.exact_model.to(device)\n",
    "    self.train_exact_model = self.train_exact_model.to(device)\n",
    "    self.u_train_exact_model = self.u_train_exact_model.to(device)\n",
    "    self.exact_model.requires_grad = True\n",
    "    self.criteria = nn.MSELoss()\n",
    "    self.iteration = 1\n",
    "    self.optimizer = torch.optim.LBFGS(\n",
    "      params=self.model.parameters(),\n",
    "      lr=1.0,\n",
    "      max_iter=50000,\n",
    "      max_eval=50000,\n",
    "      history_size=50,\n",
    "      tolerance_grad=1e-7,\n",
    "      tolerance_change=1.0*np.finfo(float).eps,\n",
    "      line_search_fn=\"strong_wolfe\"\n",
    "    )\n",
    "    self.adam = torch.optim.Adam(self.model.parameters())\n",
    "  def loss_function(self):\n",
    "    self.adam.zero_grad()\n",
    "    self.optimizer.zero_grad()\n",
    "    u_prediction = self.model(self.train_exact_model)\n",
    "    data_loss = self.criteria(u_prediction, self.u_train_exact_model)\n",
    "    u = self.model(self.exact_model)\n",
    "\n",
    "    first_derivative = torch.autograd.grad(\n",
    "      inputs=self.exact_model, \n",
    "      outputs=u, \n",
    "      grad_outputs=torch.ones_like(u), \n",
    "      retain_graph=True, \n",
    "      create_graph=True\n",
    "    )[0]\n",
    "    u_t = first_derivative[:, 1]\n",
    "    u_x = first_derivative[:, 0]\n",
    "    u_xx = torch.autograd.grad(\n",
    "      inputs=self.exact_model, \n",
    "      outputs=first_derivative, \n",
    "      grad_outputs=torch.ones_like(first_derivative), \n",
    "      retain_graph=True, \n",
    "      create_graph=True\n",
    "    )[0][:, 0]\n",
    "    nu = 0.01/np.pi \n",
    "    pde_loss = self.criteria(u_t + u.squeeze() * u_x, nu * u_xx)\n",
    "    loss = pde_loss + data_loss\n",
    "    loss.backward()\n",
    "    if self.iteration % 1000 == 0: \n",
    "        print(f'Iteration Count: {self.iteration} Current error:{round(loss.item(),5)}')\n",
    "    self.iteration += 1\n",
    "    return loss\n",
    "  def train(self):\n",
    "    self.model.train()\n",
    "    for i in tqdm(range(self.iteration),desc=f\"Adam run {self.iteration}\"):\n",
    "      self.adam.step(self.loss_function)\n",
    "    print('Begining the LBFGS')\n",
    "    self.optimizer.step(self.loss_function)\n",
    "  def eval(self):\n",
    "      self.model.eval() "
   ]
  },
  {
   "cell_type": "markdown",
   "metadata": {},
   "source": [
    "# \"Time to Bleed\" -Ronnie Coleman"
   ]
  },
  {
   "cell_type": "code",
   "execution_count": null,
   "metadata": {},
   "outputs": [],
   "source": [
    "YouCanHasCheeseBorger = BurgerPinn()\n",
    "YouCanHasCheeseBorger.train()"
   ]
  },
  {
   "cell_type": "markdown",
   "metadata": {},
   "source": [
    "# Graphing the trained model"
   ]
  },
  {
   "cell_type": "code",
   "execution_count": null,
   "metadata": {},
   "outputs": [],
   "source": [
    "YouCanHasCheeseBorger.model.eval()\n",
    "delta_x = 0.01\n",
    "delta_time = 0.01\n",
    "x = torch.arange(-1,1,delta_x)\n",
    "time = torch.arange(0,1,delta_time)\n",
    "exact_solution = torch.stack(torch.meshgrid(x,time)).reshape(2,-1).T\n",
    "exact_solution = exact_solution.to(YouCanHasCheeseBorger.exact_model.device)\n",
    "final_model = YouCanHasCheeseBorger.model\n",
    "final_model.eval()\n",
    "with torch.no_grad():\n",
    "  u_predicted = final_model(exact_solution).reshape(len(x),len(time)).cpu().numpy()\n",
    "sns.set_style(\"white\")\n",
    "plt.figure(figsize=(5,3),dpi=3000)\n",
    "plt.title('Burger\\'s 1D solution')\n",
    "plt.xlabel('Time')\n",
    "plt.ylabel('x')\n",
    "sns.heatmap(u_predicted,cmap='jet')"
   ]
  }
 ],
 "metadata": {
  "kernelspec": {
   "display_name": "Python 3",
   "language": "python",
   "name": "python3"
  },
  "language_info": {
   "codemirror_mode": {
    "name": "ipython",
    "version": 3
   },
   "file_extension": ".py",
   "mimetype": "text/x-python",
   "name": "python",
   "nbconvert_exporter": "python",
   "pygments_lexer": "ipython3",
   "version": "3.11.2"
  }
 },
 "nbformat": 4,
 "nbformat_minor": 2
}

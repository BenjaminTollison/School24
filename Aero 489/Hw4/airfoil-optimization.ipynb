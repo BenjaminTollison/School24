{
 "cells": [
  {
   "cell_type": "markdown",
   "metadata": {},
   "source": [
    "# Benjamin Tollison"
   ]
  },
  {
   "cell_type": "code",
   "execution_count": 1,
   "metadata": {},
   "outputs": [
    {
     "ename": "ModuleNotFoundError",
     "evalue": "No module named 'matplotlib'",
     "output_type": "error",
     "traceback": [
      "\u001b[0;31m---------------------------------------------------------------------------\u001b[0m",
      "\u001b[0;31mModuleNotFoundError\u001b[0m                       Traceback (most recent call last)",
      "Cell \u001b[0;32mIn[1], line 3\u001b[0m\n\u001b[1;32m      1\u001b[0m \u001b[38;5;28;01mimport\u001b[39;00m \u001b[38;5;21;01mos\u001b[39;00m\n\u001b[1;32m      2\u001b[0m \u001b[38;5;28;01mimport\u001b[39;00m \u001b[38;5;21;01msubprocess\u001b[39;00m\n\u001b[0;32m----> 3\u001b[0m \u001b[38;5;28;01mimport\u001b[39;00m \u001b[38;5;21;01mmatplotlib\u001b[39;00m\u001b[38;5;21;01m.\u001b[39;00m\u001b[38;5;21;01mpyplot\u001b[39;00m \u001b[38;5;28;01mas\u001b[39;00m \u001b[38;5;21;01mplt\u001b[39;00m\n\u001b[1;32m      4\u001b[0m \u001b[38;5;28;01mimport\u001b[39;00m \u001b[38;5;21;01mnumpy\u001b[39;00m \u001b[38;5;28;01mas\u001b[39;00m \u001b[38;5;21;01mnp\u001b[39;00m\n\u001b[1;32m      5\u001b[0m \u001b[38;5;28;01mfrom\u001b[39;00m \u001b[38;5;21;01mGPyOpt\u001b[39;00m\u001b[38;5;21;01m.\u001b[39;00m\u001b[38;5;21;01mmethods\u001b[39;00m \u001b[38;5;28;01mimport\u001b[39;00m BayesianOptimization\n",
      "\u001b[0;31mModuleNotFoundError\u001b[0m: No module named 'matplotlib'"
     ]
    }
   ],
   "source": [
    "import os\n",
    "import subprocess\n",
    "import matplotlib.pyplot as plt\n",
    "import numpy as np\n",
    "from GPyOpt.methods import BayesianOptimization"
   ]
  },
  {
   "cell_type": "code",
   "execution_count": null,
   "metadata": {},
   "outputs": [
    {
     "ename": "",
     "evalue": "",
     "output_type": "error",
     "traceback": [
      "\u001b[1;31mRunning cells with 'Python 3.12.4' requires the ipykernel package.\n",
      "\u001b[1;31mRun the following command to install 'ipykernel' into the Python environment. \n",
      "\u001b[1;31mCommand: '/bin/python3.12 -m pip install ipykernel -U --user --force-reinstall'"
     ]
    }
   ],
   "source": [
    "def PrintAirfoil(cooridnates):\n",
    "  x_coords = cooridnates[:,0]\n",
    "  y_coords = cooridnates[:,1]\n",
    "  \n",
    "  # Print the extracted coordinates\n",
    "  # print(\"X coordinates:\", x_coords)\n",
    "  # print(\"Y coordinates:\", y_coords)\n",
    "\n",
    "  plt.figure(figsize=(8, 6))\n",
    "  plt.plot(x_coords, y_coords)\n",
    "  plt.gca().set_aspect('equal', adjustable='box')\n",
    "  plt.xlabel('x')\n",
    "  plt.ylabel('y')\n",
    "  plt.title('Modified NACA 0012')\n",
    "  plt.grid(True)\n",
    "  plt.show()\n",
    "  return None"
   ]
  },
  {
   "cell_type": "code",
   "execution_count": null,
   "metadata": {},
   "outputs": [
    {
     "ename": "",
     "evalue": "",
     "output_type": "error",
     "traceback": [
      "\u001b[1;31mRunning cells with 'Python 3.12.4' requires the ipykernel package.\n",
      "\u001b[1;31mRun the following command to install 'ipykernel' into the Python environment. \n",
      "\u001b[1;31mCommand: '/bin/python3.12 -m pip install ipykernel -U --user --force-reinstall'"
     ]
    }
   ],
   "source": [
    "def GenerateAirfoil(filename:str,thickness:float,camber:float)->list:\n",
    "  \"\"\"\n",
    "  Modify NACA airfoil coordinates in a .dat file based on new thickness and camber parameters.\n",
    "    \n",
    "  Parameters:\n",
    "      filename (str): Path to the .dat file containing NACA airfoil coordinates.\n",
    "      new_thickness (float): New maximum thickness as a fraction of chord length (0.01 to 0.99).\n",
    "      new_camber (float): New maximum camber as a fraction of chord length (0.0 to 0.05).\n",
    "    \n",
    "  Returns:\n",
    "      numpy.ndarray: Modified NACA airfoil coordinates (x, y).\n",
    "  \"\"\"\n",
    "  # Read existing airfoil coordinates from the .dat file\n",
    "  airfoil_coords = np.loadtxt(f\"{filename}.dat\")\n",
    "    \n",
    "  # Scale coordinates based on new thickness and camber parameters\n",
    "  x = airfoil_coords[:, 0]\n",
    "  y = airfoil_coords[:, 1]\n",
    "  x_scaled = x\n",
    "  y_scaled = y * (thickness / 0.12)  # Scale thickness\n",
    "  y_scaled += (camber / 0.02) * 0.12 * (0.2969 * np.sqrt(x) - 0.1260 * x - 0.3516 * x ** 2 + 0.2843 * x ** 3 - 0.1015 * x ** 4)  # Scale camber\n",
    "    \n",
    "  # Combine scaled coordinates into a new array\n",
    "  modified_airfoil_coords = np.column_stack([x_scaled, y_scaled])\n",
    "  # Save modified airfoil coordinates to a new .dat file\n",
    "  modified_filename = f\"modified_{filename}.dat\"\n",
    "  np.savetxt(modified_filename, modified_airfoil_coords, fmt=['    %1.6f','%1.6f'], delimiter='    ')#, header=f\"Modified Airfoil: {filename}\", comments='')\n",
    "  return modified_airfoil_coords"
   ]
  },
  {
   "cell_type": "code",
   "execution_count": null,
   "metadata": {},
   "outputs": [
    {
     "ename": "",
     "evalue": "",
     "output_type": "error",
     "traceback": [
      "\u001b[1;31mRunning cells with 'Python 3.12.4' requires the ipykernel package.\n",
      "\u001b[1;31mRun the following command to install 'ipykernel' into the Python environment. \n",
      "\u001b[1;31mCommand: '/bin/python3.12 -m pip install ipykernel -U --user --force-reinstall'"
     ]
    }
   ],
   "source": [
    "def LiftDragRatio(polar_input_dict):\n",
    "  alpha = polar_input_dict['alpha']\n",
    "  cl = polar_input_dict['CL']\n",
    "  cd = polar_input_dict['CD']\n",
    "  lift_over_drag_discrete = []\n",
    "  for index in range(len(cl)):\n",
    "    lift_over_drag_discrete.append(cl[index]/cd[index])\n",
    "  polyfit_coeffiecients = np.polyfit(alpha,lift_over_drag_discrete,5)\n",
    "  return np.poly1d(polyfit_coeffiecients)"
   ]
  },
  {
   "cell_type": "code",
   "execution_count": null,
   "metadata": {},
   "outputs": [
    {
     "ename": "",
     "evalue": "",
     "output_type": "error",
     "traceback": [
      "\u001b[1;31mRunning cells with 'Python 3.12.4' requires the ipykernel package.\n",
      "\u001b[1;31mRun the following command to install 'ipykernel' into the Python environment. \n",
      "\u001b[1;31mCommand: '/bin/python3.12 -m pip install ipykernel -U --user --force-reinstall'"
     ]
    }
   ],
   "source": [
    "### Reset modified Naca files\n",
    "try:\n",
    "  GenerateAirfoil('NACA0012',0.12,0).T\n",
    "  print('Successfully Reset Modified NACA0012.dat')\n",
    "except:\n",
    "  print('Failed to reset Modified NACA0012.dat')"
   ]
  },
  {
   "cell_type": "code",
   "execution_count": null,
   "metadata": {},
   "outputs": [
    {
     "ename": "",
     "evalue": "",
     "output_type": "error",
     "traceback": [
      "\u001b[1;31mRunning cells with 'Python 3.12.4' requires the ipykernel package.\n",
      "\u001b[1;31mRun the following command to install 'ipykernel' into the Python environment. \n",
      "\u001b[1;31mCommand: '/bin/python3.12 -m pip install ipykernel -U --user --force-reinstall'"
     ]
    }
   ],
   "source": [
    "def ObjectiveFunction(input_vector):\n",
    "  # thickness, camber = input_vector[0], input_vector[1]\n",
    "  thickness, camber = input_vector[:,0], input_vector[:,1]\n",
    "  design_angle_of_attack = input_vector[:,2] #degrees\n",
    "  # params for XFOIL\n",
    "  base_airfoil_file = 'NACA0012'\n",
    "  airfoil_name = 'modified_NACA0012'\n",
    "  #airfoil_name = 'NACA0012'\n",
    "  alpha_i = 0\n",
    "  alpha_f = 10\n",
    "  alpha_step = 0.25\n",
    "  Re = 2.74e7\n",
    "  Mach = 1.6\n",
    "  Type = int(1)\n",
    "  n_iter = 250\n",
    "\n",
    "  new_coords = GenerateAirfoil(base_airfoil_file,thickness,camber)\n",
    "  PrintAirfoil(new_coords)\n",
    "\n",
    "  if os.path.exists(\"polar_file.txt\"):\n",
    "    os.remove(\"polar_file.txt\")\n",
    "  input_file = open(\"input_file.in\", 'w')\n",
    "  input_file.write(\"LOAD {0}.dat\\n\".format(airfoil_name))\n",
    "  input_file.write(airfoil_name + '\\n')\n",
    "  input_file.write(\"PANE\\n\")\n",
    "  input_file.write(\"OPER\\n\")\n",
    "  input_file.write(\"Visc {0}\\n\".format(Re))\n",
    "  # input_file.write(\"Mach {0}\\n\".format(Mach))\n",
    "  input_file.write(\"Type {0}\\n\".format(Type))\n",
    "  input_file.write(\"PACC\\n\")\n",
    "  input_file.write(\"polar_file.txt\\n\\n\")\n",
    "  input_file.write(\"ITER {0}\\n\".format(n_iter))\n",
    "  input_file.write(\"ASeq {0} {1} {2}\\n\".format(alpha_i, alpha_f,alpha_step))\n",
    "  input_file.write(\"\\n\\n\")\n",
    "  input_file.write(\"quit\\n\")\n",
    "  input_file.close()\n",
    "  try:\n",
    "    output = subprocess.check_output(\"xfoil.exe < input_file.in\", shell=True, stderr=subprocess.STDOUT)\n",
    "    # print(\"XFOIL output:\", output)\n",
    "  except subprocess.CalledProcessError as e:\n",
    "    print(\"Error executing XFOIL command:\", e.output)\n",
    "\n",
    "  polar_data = np.loadtxt(\"polar_file.txt\", skiprows=12)\n",
    "  data = {}\n",
    "  data[\"alpha\"] = polar_data[:, 0]\n",
    "  data[\"CL\"] = polar_data[:, 1]\n",
    "  data[\"CD\"] = polar_data[:, 2]\n",
    "  data[\"CDp\"] = polar_data[:, 3]\n",
    "  data[\"CM\"] = polar_data[:, 4]\n",
    "  data[\"Top_Xtr\"] = polar_data[:, 5]\n",
    "  data[\"Bot_Xtr\"] = polar_data[:, 6]\n",
    "\n",
    "  lift_over_drag_function = LiftDragRatio(data)\n",
    "  lift_over_drag = lift_over_drag_function(design_angle_of_attack)\n",
    "  return lift_over_drag\n"
   ]
  },
  {
   "cell_type": "code",
   "execution_count": null,
   "metadata": {},
   "outputs": [
    {
     "ename": "",
     "evalue": "",
     "output_type": "error",
     "traceback": [
      "\u001b[1;31mRunning cells with 'Python 3.12.4' requires the ipykernel package.\n",
      "\u001b[1;31mRun the following command to install 'ipykernel' into the Python environment. \n",
      "\u001b[1;31mCommand: '/bin/python3.12 -m pip install ipykernel -U --user --force-reinstall'"
     ]
    }
   ],
   "source": [
    "bounds = [\n",
    "  {'name':'thickness','type':'continuous','domain':(0.1,0.2)},\n",
    "  {'name':'camber','type':'continuous','domain':(0.02,0.06)},\n",
    "  {'name':'aoa','type':'continuous','domain':(0.0,10.0)}\n",
    "]\n",
    "\n",
    "optimizer = BayesianOptimization(\n",
    "  f=ObjectiveFunction,\n",
    "  domain=bounds,\n",
    "  model_type='GP',\n",
    "  acquisition_type='EI',\n",
    "  exact_feval=True,\n",
    "  maximize=False\n",
    ")\n",
    "intial_number_data = 0\n",
    "max_iterations = 30\n",
    "optimizer.run_optimization(max_iter=max_iterations,verbosity=True)"
   ]
  },
  {
   "cell_type": "code",
   "execution_count": null,
   "metadata": {},
   "outputs": [
    {
     "ename": "",
     "evalue": "",
     "output_type": "error",
     "traceback": [
      "\u001b[1;31mRunning cells with 'Python 3.12.4' requires the ipykernel package.\n",
      "\u001b[1;31mRun the following command to install 'ipykernel' into the Python environment. \n",
      "\u001b[1;31mCommand: '/bin/python3.12 -m pip install ipykernel -U --user --force-reinstall'"
     ]
    }
   ],
   "source": [
    "print(\"Optimal Design: \\n Thickness={0} \\n Camber={1}\\n AoA={2} [deg]\".format(optimizer.x_opt[0],optimizer.x_opt[1],optimizer.x_opt[2]))\n",
    "PrintAirfoil(GenerateAirfoil('NACA0012',optimizer.x_opt[0],optimizer.x_opt[1]))\n",
    "optimizer.plot_convergence()"
   ]
  }
 ],
 "metadata": {
  "kernelspec": {
   "display_name": "Python 3",
   "language": "python",
   "name": "python3"
  },
  "language_info": {
   "codemirror_mode": {
    "name": "ipython",
    "version": 3
   },
   "file_extension": ".py",
   "mimetype": "text/x-python",
   "name": "python",
   "nbconvert_exporter": "python",
   "pygments_lexer": "ipython3",
   "version": "undefined.undefined.undefined"
  }
 },
 "nbformat": 4,
 "nbformat_minor": 2
}

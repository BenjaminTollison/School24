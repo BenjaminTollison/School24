{
 "cells": [
  {
   "cell_type": "markdown",
   "metadata": {},
   "source": [
    "# Benjamin Tollison"
   ]
  },
  {
   "cell_type": "code",
   "execution_count": 7,
   "metadata": {},
   "outputs": [],
   "source": [
    "import os\n",
    "import subprocess\n",
    "import matplotlib.pyplot as plt\n",
    "import numpy as np"
   ]
  },
  {
   "cell_type": "code",
   "execution_count": 8,
   "metadata": {},
   "outputs": [],
   "source": [
    "def PrintAirfoil(cooridnates):\n",
    "  x_coords = cooridnates[:,0]\n",
    "  y_coords = cooridnates[:,1]\n",
    "  \n",
    "  # Print the extracted coordinates\n",
    "  # print(\"X coordinates:\", x_coords)\n",
    "  # print(\"Y coordinates:\", y_coords)\n",
    "\n",
    "  plt.figure(figsize=(8, 6))\n",
    "  plt.plot(x_coords, y_coords)\n",
    "  plt.gca().set_aspect('equal', adjustable='box')\n",
    "  plt.xlabel('x')\n",
    "  plt.ylabel('y')\n",
    "  plt.title('Airfoil')\n",
    "  plt.grid(True)\n",
    "  plt.show()\n",
    "  return None"
   ]
  },
  {
   "cell_type": "code",
   "execution_count": 9,
   "metadata": {},
   "outputs": [],
   "source": [
    "def GenerateAirfoil(filename:str,thickness:float,camber:float)->list:\n",
    "  \"\"\"\n",
    "  Modify NACA airfoil coordinates in a .dat file based on new thickness and camber parameters.\n",
    "    \n",
    "  Parameters:\n",
    "      filename (str): Path to the .dat file containing NACA airfoil coordinates.\n",
    "      new_thickness (float): New maximum thickness as a fraction of chord length (0.01 to 0.99).\n",
    "      new_camber (float): New maximum camber as a fraction of chord length (0.0 to 0.05).\n",
    "    \n",
    "  Returns:\n",
    "      numpy.ndarray: Modified NACA airfoil coordinates (x, y).\n",
    "  \"\"\"\n",
    "  # Read existing airfoil coordinates from the .dat file\n",
    "  airfoil_coords = np.loadtxt(filename)\n",
    "    \n",
    "  # Scale coordinates based on new thickness and camber parameters\n",
    "  x = airfoil_coords[:, 0]\n",
    "  y = airfoil_coords[:, 1]\n",
    "  x_scaled = x\n",
    "  y_scaled = y * (thickness / 0.12)  # Scale thickness\n",
    "  y_scaled += (camber / 0.02) * 0.12 * (0.2969 * np.sqrt(x) - 0.1260 * x - 0.3516 * x ** 2 + 0.2843 * x ** 3 - 0.1015 * x ** 4)  # Scale camber\n",
    "    \n",
    "  # Combine scaled coordinates into a new array\n",
    "  modified_airfoil_coords = np.column_stack([x_scaled, y_scaled])\n",
    "  # Save modified airfoil coordinates to a new .dat file\n",
    "  modified_filename = f\"modified_{filename}\"\n",
    "  np.savetxt(modified_filename, modified_airfoil_coords, fmt='%1.6f', delimiter='\\t')#, header=f\"Modified Airfoil: {filename}\", comments='')\n",
    "  return modified_airfoil_coords"
   ]
  },
  {
   "cell_type": "code",
   "execution_count": null,
   "metadata": {},
   "outputs": [],
   "source": [
    "def RunXfoil()"
   ]
  },
  {
   "cell_type": "code",
   "execution_count": 10,
   "metadata": {},
   "outputs": [],
   "source": [
    "def LiftDragRatio(polar_input_dict):\n",
    "  alpha = polar_input_dict['alpha']\n",
    "  cl = polar_input_dict['CL']\n",
    "  cd = polar_input_dict['CD']\n",
    "  lift_over_drag_discrete = []\n",
    "  for index in range(len(cl)):\n",
    "    lift_over_drag_discrete.append(cl[index]/cd[index])\n",
    "  polyfit_coeffiecients = np.polyfit(alpha,lift_over_drag_discrete,5)\n",
    "  return np.poly1d(polyfit_coeffiecients)"
   ]
  },
  {
   "cell_type": "code",
   "execution_count": 11,
   "metadata": {},
   "outputs": [],
   "source": [
    "def ObjectiveFunction(input_vector):\n",
    "  thickness, camber = input_vector[0], input_vector[0]\n",
    "  # params for XFOIL\n",
    "  base_airfoil_file = 'NACA0012.dat'\n",
    "  airfoil_name = 'modified_NACA0012.dat'\n",
    "  alpha_i = 0\n",
    "  alpha_f = 10\n",
    "  alpha_step = 0.25\n",
    "  Re = 1000000\n",
    "  n_iter = 200\n",
    "\n",
    "  new_coords = GenerateAirfoil(base_airfoil_file,thickness,camber)\n",
    "  PrintAirfoil(new_coords)\n",
    "  # %% XFOIL input file writer \n",
    "\n",
    "  if os.path.exists(\"polar_file.txt\"):\n",
    "      os.remove(\"polar_file.txt\")\n",
    "\n",
    "  input_file = open(\"input_file.in\", 'w')\n",
    "  input_file.write(\"LOAD {0}.dat\\n\".format(airfoil_name))\n",
    "  input_file.write(airfoil_name + '\\n')\n",
    "  input_file.write(\"PANE\\n\")\n",
    "  input_file.write(\"OPER\\n\")\n",
    "  input_file.write(\"Visc {0}\\n\".format(Re))\n",
    "  input_file.write(\"PACC\\n\")\n",
    "  input_file.write(\"polar_file.txt\\n\\n\")\n",
    "  input_file.write(\"ITER {0}\\n\".format(n_iter))\n",
    "  input_file.write(\"ASeq {0} {1} {2}\\n\".format(alpha_i, alpha_f,alpha_step))\n",
    "  input_file.write(\"\\n\\n\")\n",
    "  input_file.write(\"quit\\n\")\n",
    "  input_file.close()\n",
    "  subprocess.call(\"xfoil.exe < input_file.in\", shell=True)\n",
    "  polar_data = np.loadtxt(\"polar_file.txt\", skiprows=12)\n",
    "\n",
    "  data = {\n",
    "      'alpha': [],\n",
    "      'CL': [],\n",
    "      'CD': [],\n",
    "      'CDp': [],\n",
    "      'CM': [],\n",
    "      'Top_Xtr': [],\n",
    "      'Bot_Xtr': []\n",
    "  }\n",
    "  # Open the file\n",
    "  with open('polar_file.txt', 'r') as file:\n",
    "  # Read each line in the file\n",
    "    for line in file:\n",
    "    # Split the line into words\n",
    "      words = line.split()\n",
    "      # Check if the line contains numerical data\n",
    "      if len(words) == 7 and all(word.replace('.', '').isdigit() for word in words[1:]):\n",
    "        # Extract the numerical data and convert to float\n",
    "        alpha, CL, CD, CDp, CM, Top_Xtr, Bot_Xtr = map(float, words)\n",
    "        # Append the data to the dictionary\n",
    "        data['alpha'].append(alpha)\n",
    "        data['CL'].append(CL)\n",
    "        data['CD'].append(CD)\n",
    "        data['CDp'].append(CDp)\n",
    "        data['CM'].append(CM)\n",
    "        data['Top_Xtr'].append(Top_Xtr)\n",
    "        data['Bot_Xtr'].append(Bot_Xtr)\n",
    "  lift_over_drag_function = LiftDragRatio(data)\n",
    "  design_angle_of_attack = 3 #degrees\n",
    "  lift_over_drag = lift_over_drag_function(design_angle_of_attack)\n",
    "  return lift_over_drag\n"
   ]
  },
  {
   "cell_type": "code",
   "execution_count": 12,
   "metadata": {},
   "outputs": [
    {
     "data": {
      "image/png": "[encoded data removed]",
      "text/plain": [
       "<Figure size 800x600 with 1 Axes>"
      ]
     },
     "metadata": {},
     "output_type": "display_data"
    },
    {
     "ename": "FileNotFoundError",
     "evalue": "polar_file.txt not found.",
     "output_type": "error",
     "traceback": [
      "\u001b[1;31m---------------------------------------------------------------------------\u001b[0m",
      "\u001b[1;31mFileNotFoundError\u001b[0m                         Traceback (most recent call last)",
      "Cell \u001b[1;32mIn[12], line 1\u001b[0m\n\u001b[1;32m----> 1\u001b[0m \u001b[43mObjectiveFunction\u001b[49m\u001b[43m(\u001b[49m\u001b[43m[\u001b[49m\u001b[38;5;241;43m0.13\u001b[39;49m\u001b[43m,\u001b[49m\u001b[38;5;241;43m0.03\u001b[39;49m\u001b[43m]\u001b[49m\u001b[43m)\u001b[49m\n",
      "Cell \u001b[1;32mIn[11], line 33\u001b[0m, in \u001b[0;36mObjectiveFunction\u001b[1;34m(input_vector)\u001b[0m\n\u001b[0;32m     31\u001b[0m input_file\u001b[38;5;241m.\u001b[39mclose()\n\u001b[0;32m     32\u001b[0m subprocess\u001b[38;5;241m.\u001b[39mcall(\u001b[38;5;124m\"\u001b[39m\u001b[38;5;124mxfoil.exe < input_file.in\u001b[39m\u001b[38;5;124m\"\u001b[39m, shell\u001b[38;5;241m=\u001b[39m\u001b[38;5;28;01mTrue\u001b[39;00m)\n\u001b[1;32m---> 33\u001b[0m polar_data \u001b[38;5;241m=\u001b[39m \u001b[43mnp\u001b[49m\u001b[38;5;241;43m.\u001b[39;49m\u001b[43mloadtxt\u001b[49m\u001b[43m(\u001b[49m\u001b[38;5;124;43m\"\u001b[39;49m\u001b[38;5;124;43mpolar_file.txt\u001b[39;49m\u001b[38;5;124;43m\"\u001b[39;49m\u001b[43m,\u001b[49m\u001b[43m \u001b[49m\u001b[43mskiprows\u001b[49m\u001b[38;5;241;43m=\u001b[39;49m\u001b[38;5;241;43m12\u001b[39;49m\u001b[43m)\u001b[49m\n\u001b[0;32m     35\u001b[0m data \u001b[38;5;241m=\u001b[39m {\n\u001b[0;32m     36\u001b[0m     \u001b[38;5;124m'\u001b[39m\u001b[38;5;124malpha\u001b[39m\u001b[38;5;124m'\u001b[39m: [],\n\u001b[0;32m     37\u001b[0m     \u001b[38;5;124m'\u001b[39m\u001b[38;5;124mCL\u001b[39m\u001b[38;5;124m'\u001b[39m: [],\n\u001b[1;32m   (...)\u001b[0m\n\u001b[0;32m     42\u001b[0m     \u001b[38;5;124m'\u001b[39m\u001b[38;5;124mBot_Xtr\u001b[39m\u001b[38;5;124m'\u001b[39m: []\n\u001b[0;32m     43\u001b[0m }\n\u001b[0;32m     44\u001b[0m \u001b[38;5;66;03m# Open the file\u001b[39;00m\n",
      "File \u001b[1;32mc:\\Users\\benja\\AppData\\Local\\Programs\\Python\\Python311\\Lib\\site-packages\\numpy\\lib\\npyio.py:1356\u001b[0m, in \u001b[0;36mloadtxt\u001b[1;34m(fname, dtype, comments, delimiter, converters, skiprows, usecols, unpack, ndmin, encoding, max_rows, quotechar, like)\u001b[0m\n\u001b[0;32m   1353\u001b[0m \u001b[38;5;28;01mif\u001b[39;00m \u001b[38;5;28misinstance\u001b[39m(delimiter, \u001b[38;5;28mbytes\u001b[39m):\n\u001b[0;32m   1354\u001b[0m     delimiter \u001b[38;5;241m=\u001b[39m delimiter\u001b[38;5;241m.\u001b[39mdecode(\u001b[38;5;124m'\u001b[39m\u001b[38;5;124mlatin1\u001b[39m\u001b[38;5;124m'\u001b[39m)\n\u001b[1;32m-> 1356\u001b[0m arr \u001b[38;5;241m=\u001b[39m \u001b[43m_read\u001b[49m\u001b[43m(\u001b[49m\u001b[43mfname\u001b[49m\u001b[43m,\u001b[49m\u001b[43m \u001b[49m\u001b[43mdtype\u001b[49m\u001b[38;5;241;43m=\u001b[39;49m\u001b[43mdtype\u001b[49m\u001b[43m,\u001b[49m\u001b[43m \u001b[49m\u001b[43mcomment\u001b[49m\u001b[38;5;241;43m=\u001b[39;49m\u001b[43mcomment\u001b[49m\u001b[43m,\u001b[49m\u001b[43m \u001b[49m\u001b[43mdelimiter\u001b[49m\u001b[38;5;241;43m=\u001b[39;49m\u001b[43mdelimiter\u001b[49m\u001b[43m,\u001b[49m\n\u001b[0;32m   1357\u001b[0m \u001b[43m            \u001b[49m\u001b[43mconverters\u001b[49m\u001b[38;5;241;43m=\u001b[39;49m\u001b[43mconverters\u001b[49m\u001b[43m,\u001b[49m\u001b[43m \u001b[49m\u001b[43mskiplines\u001b[49m\u001b[38;5;241;43m=\u001b[39;49m\u001b[43mskiprows\u001b[49m\u001b[43m,\u001b[49m\u001b[43m \u001b[49m\u001b[43musecols\u001b[49m\u001b[38;5;241;43m=\u001b[39;49m\u001b[43musecols\u001b[49m\u001b[43m,\u001b[49m\n\u001b[0;32m   1358\u001b[0m \u001b[43m            \u001b[49m\u001b[43munpack\u001b[49m\u001b[38;5;241;43m=\u001b[39;49m\u001b[43munpack\u001b[49m\u001b[43m,\u001b[49m\u001b[43m \u001b[49m\u001b[43mndmin\u001b[49m\u001b[38;5;241;43m=\u001b[39;49m\u001b[43mndmin\u001b[49m\u001b[43m,\u001b[49m\u001b[43m \u001b[49m\u001b[43mencoding\u001b[49m\u001b[38;5;241;43m=\u001b[39;49m\u001b[43mencoding\u001b[49m\u001b[43m,\u001b[49m\n\u001b[0;32m   1359\u001b[0m \u001b[43m            \u001b[49m\u001b[43mmax_rows\u001b[49m\u001b[38;5;241;43m=\u001b[39;49m\u001b[43mmax_rows\u001b[49m\u001b[43m,\u001b[49m\u001b[43m \u001b[49m\u001b[43mquote\u001b[49m\u001b[38;5;241;43m=\u001b[39;49m\u001b[43mquotechar\u001b[49m\u001b[43m)\u001b[49m\n\u001b[0;32m   1361\u001b[0m \u001b[38;5;28;01mreturn\u001b[39;00m arr\n",
      "File \u001b[1;32mc:\\Users\\benja\\AppData\\Local\\Programs\\Python\\Python311\\Lib\\site-packages\\numpy\\lib\\npyio.py:975\u001b[0m, in \u001b[0;36m_read\u001b[1;34m(fname, delimiter, comment, quote, imaginary_unit, usecols, skiplines, max_rows, converters, ndmin, unpack, dtype, encoding)\u001b[0m\n\u001b[0;32m    973\u001b[0m     fname \u001b[38;5;241m=\u001b[39m os\u001b[38;5;241m.\u001b[39mfspath(fname)\n\u001b[0;32m    974\u001b[0m \u001b[38;5;28;01mif\u001b[39;00m \u001b[38;5;28misinstance\u001b[39m(fname, \u001b[38;5;28mstr\u001b[39m):\n\u001b[1;32m--> 975\u001b[0m     fh \u001b[38;5;241m=\u001b[39m \u001b[43mnp\u001b[49m\u001b[38;5;241;43m.\u001b[39;49m\u001b[43mlib\u001b[49m\u001b[38;5;241;43m.\u001b[39;49m\u001b[43m_datasource\u001b[49m\u001b[38;5;241;43m.\u001b[39;49m\u001b[43mopen\u001b[49m\u001b[43m(\u001b[49m\u001b[43mfname\u001b[49m\u001b[43m,\u001b[49m\u001b[43m \u001b[49m\u001b[38;5;124;43m'\u001b[39;49m\u001b[38;5;124;43mrt\u001b[39;49m\u001b[38;5;124;43m'\u001b[39;49m\u001b[43m,\u001b[49m\u001b[43m \u001b[49m\u001b[43mencoding\u001b[49m\u001b[38;5;241;43m=\u001b[39;49m\u001b[43mencoding\u001b[49m\u001b[43m)\u001b[49m\n\u001b[0;32m    976\u001b[0m     \u001b[38;5;28;01mif\u001b[39;00m encoding \u001b[38;5;129;01mis\u001b[39;00m \u001b[38;5;28;01mNone\u001b[39;00m:\n\u001b[0;32m    977\u001b[0m         encoding \u001b[38;5;241m=\u001b[39m \u001b[38;5;28mgetattr\u001b[39m(fh, \u001b[38;5;124m'\u001b[39m\u001b[38;5;124mencoding\u001b[39m\u001b[38;5;124m'\u001b[39m, \u001b[38;5;124m'\u001b[39m\u001b[38;5;124mlatin1\u001b[39m\u001b[38;5;124m'\u001b[39m)\n",
      "File \u001b[1;32mc:\\Users\\benja\\AppData\\Local\\Programs\\Python\\Python311\\Lib\\site-packages\\numpy\\lib\\_datasource.py:193\u001b[0m, in \u001b[0;36mopen\u001b[1;34m(path, mode, destpath, encoding, newline)\u001b[0m\n\u001b[0;32m    156\u001b[0m \u001b[38;5;250m\u001b[39m\u001b[38;5;124;03m\"\"\"\u001b[39;00m\n\u001b[0;32m    157\u001b[0m \u001b[38;5;124;03mOpen `path` with `mode` and return the file object.\u001b[39;00m\n\u001b[0;32m    158\u001b[0m \n\u001b[1;32m   (...)\u001b[0m\n\u001b[0;32m    189\u001b[0m \n\u001b[0;32m    190\u001b[0m \u001b[38;5;124;03m\"\"\"\u001b[39;00m\n\u001b[0;32m    192\u001b[0m ds \u001b[38;5;241m=\u001b[39m DataSource(destpath)\n\u001b[1;32m--> 193\u001b[0m \u001b[38;5;28;01mreturn\u001b[39;00m \u001b[43mds\u001b[49m\u001b[38;5;241;43m.\u001b[39;49m\u001b[43mopen\u001b[49m\u001b[43m(\u001b[49m\u001b[43mpath\u001b[49m\u001b[43m,\u001b[49m\u001b[43m \u001b[49m\u001b[43mmode\u001b[49m\u001b[43m,\u001b[49m\u001b[43m \u001b[49m\u001b[43mencoding\u001b[49m\u001b[38;5;241;43m=\u001b[39;49m\u001b[43mencoding\u001b[49m\u001b[43m,\u001b[49m\u001b[43m \u001b[49m\u001b[43mnewline\u001b[49m\u001b[38;5;241;43m=\u001b[39;49m\u001b[43mnewline\u001b[49m\u001b[43m)\u001b[49m\n",
      "File \u001b[1;32mc:\\Users\\benja\\AppData\\Local\\Programs\\Python\\Python311\\Lib\\site-packages\\numpy\\lib\\_datasource.py:533\u001b[0m, in \u001b[0;36mDataSource.open\u001b[1;34m(self, path, mode, encoding, newline)\u001b[0m\n\u001b[0;32m    530\u001b[0m     \u001b[38;5;28;01mreturn\u001b[39;00m _file_openers[ext](found, mode\u001b[38;5;241m=\u001b[39mmode,\n\u001b[0;32m    531\u001b[0m                               encoding\u001b[38;5;241m=\u001b[39mencoding, newline\u001b[38;5;241m=\u001b[39mnewline)\n\u001b[0;32m    532\u001b[0m \u001b[38;5;28;01melse\u001b[39;00m:\n\u001b[1;32m--> 533\u001b[0m     \u001b[38;5;28;01mraise\u001b[39;00m \u001b[38;5;167;01mFileNotFoundError\u001b[39;00m(\u001b[38;5;124mf\u001b[39m\u001b[38;5;124m\"\u001b[39m\u001b[38;5;132;01m{\u001b[39;00mpath\u001b[38;5;132;01m}\u001b[39;00m\u001b[38;5;124m not found.\u001b[39m\u001b[38;5;124m\"\u001b[39m)\n",
      "\u001b[1;31mFileNotFoundError\u001b[0m: polar_file.txt not found."
     ]
    }
   ],
   "source": [
    "ObjectiveFunction([0.13,0.03])"
   ]
  }
 ],
 "metadata": {
  "kernelspec": {
   "display_name": "Python 3",
   "language": "python",
   "name": "python3"
  },
  "language_info": {
   "codemirror_mode": {
    "name": "ipython",
    "version": 3
   },
   "file_extension": ".py",
   "mimetype": "text/x-python",
   "name": "python",
   "nbconvert_exporter": "python",
   "pygments_lexer": "ipython3",
   "version": "3.11.2"
  }
 },
 "nbformat": 4,
 "nbformat_minor": 2
}

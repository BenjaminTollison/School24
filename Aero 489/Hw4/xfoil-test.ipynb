{
 "cells": [
  {
   "cell_type": "code",
   "execution_count": null,
   "metadata": {},
   "outputs": [],
   "source": [
    "from xfoil import XFoil\n",
    "\n",
    "# Create an XFoil object\n",
    "xf = XFoil()\n",
    "\n",
    "# Load initial airfoil coordinates\n",
    "airfoil_filename = 'naca2412.dat'  # Path to airfoil coordinates file\n",
    "xf.airfoil = airfoil_filename\n",
    "\n",
    "# Set initial operating conditions\n",
    "xf.Re = 1e6  # Reynolds number\n",
    "xf.M = 0.0   # Mach number\n",
    "\n",
    "# Set initial chamber and thickness\n",
    "initial_camber = 0.02\n",
    "initial_thickness = 0.12\n",
    "\n",
    "# Set initial geometry\n",
    "xf.execute(f'Camber {initial_camber}')\n",
    "xf.execute(f'Thick {initial_thickness}')\n",
    "\n",
    "# Run XFoil analysis\n",
    "xf.alpha(2, 16, 0.5)  # Sweep alpha from 2 to 16 degrees in 0.5-degree increments\n",
    "\n",
    "# Retrieve results\n",
    "alpha, cl, cd, cm, cp = xf.get_polars()\n",
    "\n",
    "# Print results\n",
    "print(\"Alpha    Cl       Cd       Cm       Cp\")\n",
    "for a, cl_val, cd_val, cm_val, cp_val in zip(alpha, cl, cd, cm, cp):\n",
    "    print(\"{:.2f}    {:.6f}  {:.6f}  {:.6f}  {:.6f}\".format(a, cl_val, cd_val, cm_val, cp_val))\n",
    "\n",
    "# Close XFoil\n",
    "xf.quit()"
   ]
  }
 ],
 "metadata": {
  "language_info": {
   "name": "python"
  }
 },
 "nbformat": 4,
 "nbformat_minor": 2
}

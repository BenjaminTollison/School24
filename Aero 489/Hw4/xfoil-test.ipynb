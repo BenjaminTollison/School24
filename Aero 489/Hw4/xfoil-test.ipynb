{
 "cells": [
  {
   "cell_type": "code",
   "execution_count": 72,
   "metadata": {},
   "outputs": [],
   "source": [
    "\"\"\"Runs an XFOIL analysis for a given airfoil and flow conditions\"\"\"\n",
    "import os\n",
    "import subprocess\n",
    "import numpy as np\n",
    "\n",
    "# %% Inputs\n",
    "\n",
    "airfoil_name = \"NACA0012\"\n",
    "alpha_i = 0\n",
    "alpha_f = 10\n",
    "alpha_step = 0.25\n",
    "Re = 1000000\n",
    "n_iter = 200\n",
    "\n",
    "# %% XFOIL input file writer \n",
    "\n",
    "if os.path.exists(\"polar_file.txt\"):\n",
    "    os.remove(\"polar_file.txt\")\n",
    "\n",
    "input_file = open(\"input_file.in\", 'w')\n",
    "input_file.write(\"LOAD {0}.dat\\n\".format(airfoil_name))\n",
    "input_file.write(airfoil_name + '\\n')\n",
    "input_file.write(\"PANE\\n\")\n",
    "input_file.write(\"OPER\\n\")\n",
    "input_file.write(\"Visc {0}\\n\".format(Re))\n",
    "input_file.write(\"PACC\\n\")\n",
    "input_file.write(\"polar_file.txt\\n\\n\")\n",
    "input_file.write(\"ITER {0}\\n\".format(n_iter))\n",
    "input_file.write(\"ASeq {0} {1} {2}\\n\".format(alpha_i, alpha_f,\n",
    "                                             alpha_step))\n",
    "input_file.write(\"\\n\\n\")\n",
    "input_file.write(\"quit\\n\")\n",
    "input_file.close()\n",
    "\n",
    "subprocess.call(\"xfoil.exe < input_file.in\", shell=True)\n",
    "\n",
    "polar_data = np.loadtxt(\"polar_file.txt\", skiprows=12)"
   ]
  },
  {
   "cell_type": "code",
   "execution_count": 73,
   "metadata": {},
   "outputs": [
    {
     "name": "stdout",
     "output_type": "stream",
     "text": [
      "{'alpha': [0.25, 0.5, 0.75, 1.0, 1.5, 1.75, 2.0, 2.25, 2.5, 2.75, 3.0, 3.25, 3.5, 3.75, 4.0, 4.25, 4.5, 4.75, 5.0, 5.25, 9.0, 9.25, 9.5, 9.75, 10.0], 'CL': [0.0269, 0.0538, 0.0806, 0.1075, 0.1611, 0.1878, 0.2144, 0.2411, 0.2675, 0.2938, 0.3202, 0.3462, 0.373, 0.4005, 0.4277, 0.4588, 0.4903, 0.5214, 0.5571, 0.5925, 0.9948, 1.016, 1.0357, 1.0584, 1.0808], 'CD': [0.0054, 0.00543, 0.00545, 0.00549, 0.00562, 0.0057, 0.00581, 0.00592, 0.00607, 0.00623, 0.0064, 0.00659, 0.00681, 0.00704, 0.00728, 0.00757, 0.00786, 0.00815, 0.00848, 0.00879, 0.01342, 0.01379, 0.01433, 0.01463, 0.01499], 'CDp': [0.00115, 0.00116, 0.00118, 0.00122, 0.00131, 0.00137, 0.00144, 0.00151, 0.0016, 0.0017, 0.0018, 0.00191, 0.00204, 0.00217, 0.00232, 0.00248, 0.00265, 0.00284, 0.00305, 0.00326, 0.00748, 0.00786, 0.00841, 0.00875, 0.00913], 'CM': [0.0003, 0.0007, 0.001, 0.0014, 0.0021, 0.0025, 0.003, 0.0034, 0.0038, 0.0043, 0.0048, 0.0053, 0.0057, 0.0058, 0.0061, 0.0053, 0.0045, 0.0038, 0.0019, 0.0002, 0.001, 0.0021, 0.0035, 0.0044, 0.0053], 'Top_Xtr': [0.6612, 0.6356, 0.6089, 0.5825, 0.5287, 0.5019, 0.4742, 0.4473, 0.4193, 0.3913, 0.3642, 0.3367, 0.3087, 0.2808, 0.2538, 0.2254, 0.1981, 0.1733, 0.1486, 0.1271, 0.0307, 0.0292, 0.0276, 0.0267, 0.0256], 'Bot_Xtr': [0.712, 0.7373, 0.7613, 0.7847, 0.8283, 0.8485, 0.8675, 0.8849, 0.9008, 0.9153, 0.9284, 0.9409, 0.9511, 0.9599, 0.9687, 0.9739, 0.9789, 0.9836, 0.9853, 0.9873, 1.0, 1.0, 1.0, 1.0, 1.0]}\n"
     ]
    }
   ],
   "source": [
    "data = {\n",
    "    'alpha': [],\n",
    "    'CL': [],\n",
    "    'CD': [],\n",
    "    'CDp': [],\n",
    "    'CM': [],\n",
    "    'Top_Xtr': [],\n",
    "    'Bot_Xtr': []\n",
    "}\n",
    "# Open the file\n",
    "with open('polar_file.txt', 'r') as file:\n",
    "  # Read each line in the file\n",
    "  for line in file:\n",
    "    # Split the line into words\n",
    "    words = line.split()\n",
    "    # Check if the line contains numerical data\n",
    "    if len(words) == 7 and all(word.replace('.', '').isdigit() for word in words[1:]):\n",
    "      # Extract the numerical data and convert to float\n",
    "      alpha, CL, CD, CDp, CM, Top_Xtr, Bot_Xtr = map(float, words)\n",
    "      # Append the data to the dictionary\n",
    "      data['alpha'].append(alpha)\n",
    "      data['CL'].append(CL)\n",
    "      data['CD'].append(CD)\n",
    "      data['CDp'].append(CDp)\n",
    "      data['CM'].append(CM)\n",
    "      data['Top_Xtr'].append(Top_Xtr)\n",
    "      data['Bot_Xtr'].append(Bot_Xtr)\n",
    "\n",
    "print(data)"
   ]
  },
  {
   "cell_type": "code",
   "execution_count": 74,
   "metadata": {},
   "outputs": [
    {
     "name": "stdout",
     "output_type": "stream",
     "text": [
      "Modified airfoil coordinates saved to modified_NACA0012.dat\n"
     ]
    }
   ],
   "source": [
    "import numpy as np\n",
    "\n",
    "def modify_naca_airfoil(filename, new_thickness, new_camber):\n",
    "  \"\"\"\n",
    "  Modify NACA airfoil coordinates in a .dat file based on new thickness and camber parameters.\n",
    "    \n",
    "  Parameters:\n",
    "      filename (str): Path to the .dat file containing NACA airfoil coordinates.\n",
    "      new_thickness (float): New maximum thickness as a fraction of chord length (0.01 to 0.99).\n",
    "      new_camber (float): New maximum camber as a fraction of chord length (0.0 to 0.05).\n",
    "    \n",
    "  Returns:\n",
    "      numpy.ndarray: Modified NACA airfoil coordinates (x, y).\n",
    "  \"\"\"\n",
    "  # Read existing airfoil coordinates from the .dat file\n",
    "  airfoil_coords = np.loadtxt(filename)\n",
    "    \n",
    "  # Scale coordinates based on new thickness and camber parameters\n",
    "  x = airfoil_coords[:, 0]\n",
    "  y = airfoil_coords[:, 1]\n",
    "  x_scaled = x\n",
    "  y_scaled = y * (new_thickness / 0.12)  # Scale thickness\n",
    "  y_scaled += (new_camber / 0.02) * 0.12 * (0.2969 * np.sqrt(x) - 0.1260 * x - 0.3516 * x ** 2 + 0.2843 * x ** 3 - 0.1015 * x ** 4)  # Scale camber\n",
    "    \n",
    "  # Combine scaled coordinates into a new array\n",
    "  modified_airfoil_coords = np.column_stack([x_scaled, y_scaled])\n",
    "    \n",
    "  # Save modified airfoil coordinates to a new .dat file\n",
    "  modified_filename = f\"modified_{filename}\"\n",
    "  np.savetxt(modified_filename, modified_airfoil_coords, fmt='%1.6f', delimiter='\\t')#, header=f\"Modified Airfoil: {filename}\", comments='')\n",
    "    \n",
    "  return modified_airfoil_coords\n",
    "\n",
    "# Example usage\n",
    "filename = \"NACA0012.dat\"\n",
    "new_thickness = 0.13  # New maximum thickness as a fraction of chord length\n",
    "new_camber = 0.03     # New maximum camber as a fraction of chord length\n",
    "\n",
    "# Modify NACA airfoil coordinates and save to a new .dat file\n",
    "modified_airfoil_coords = modify_naca_airfoil(filename, new_thickness, new_camber)\n",
    "\n",
    "print(f\"Modified airfoil coordinates saved to modified_{filename}\")\n"
   ]
  },
  {
   "cell_type": "code",
   "execution_count": 75,
   "metadata": {},
   "outputs": [
    {
     "data": {
      "image/png": "[encoded data removed]",
      "text/plain": [
       "<Figure size 800x600 with 1 Axes>"
      ]
     },
     "metadata": {},
     "output_type": "display_data"
    }
   ],
   "source": [
    "# Initialize lists to store x and y coordinates\n",
    "import matplotlib.pyplot as plt\n",
    "# x_coords = []\n",
    "# y_coords = []\n",
    "# filename = 'modified_NACA0012.dat'\n",
    "# # Read the file line by line\n",
    "# with open(filename, 'r') as file:\n",
    "    # # Iterate over each line in the file\n",
    "    # for line in file:\n",
    "        # # Split the line into x and y coordinates\n",
    "        # x, y = map(float, line.split())\n",
    "        # # Append the coordinates to the respective lists\n",
    "        # x_coords.append(x)\n",
    "        # y_coords.append(y)\n",
    "x_coords,y_coords = modified_airfoil_coords[:,0],modified_airfoil_coords[:,1]\n",
    "# Print the extracted coordinates\n",
    "# print(\"X coordinates:\", x_coords)\n",
    "# print(\"Y coordinates:\", y_coords)\n",
    "\n",
    "plt.figure(figsize=(8, 6))\n",
    "plt.plot(x_coords, y_coords)\n",
    "plt.gca().set_aspect('equal', adjustable='box')\n",
    "plt.xlabel('x')\n",
    "plt.ylabel('y')\n",
    "plt.title(f'Airfoil: {filename}')\n",
    "plt.grid(True)\n",
    "plt.show()"
   ]
  },
  {
   "cell_type": "code",
   "execution_count": 76,
   "metadata": {},
   "outputs": [
    {
     "name": "stdout",
     "output_type": "stream",
     "text": [
      "Coefficients: [ 0.69285714 -0.44714286  1.94      ]\n",
      "Value at x = 2.5 : 5.152500000000008\n"
     ]
    }
   ],
   "source": [
    "import numpy as np\n",
    "\n",
    "# Example input data (replace with your actual data)\n",
    "x = [1, 2, 3, 4, 5]\n",
    "y = [2.1, 3.9, 7.1, 10.8, 17.2]\n",
    "\n",
    "# Degree of the polynomial fit\n",
    "degree = 2\n",
    "\n",
    "# Perform polynomial fit\n",
    "coefficients = np.polyfit(x, y, degree)\n",
    "\n",
    "# Print the coefficients\n",
    "print(\"Coefficients:\", coefficients)\n",
    "# Create a polynomial function using the coefficients\n",
    "poly_function = np.poly1d(coefficients)\n",
    "\n",
    "# Evaluate the polynomial function at a specific x value\n",
    "x_value = 2.5\n",
    "y_value = poly_function(x_value)\n",
    "print(\"Value at x =\", x_value, \":\", y_value)\n"
   ]
  },
  {
   "cell_type": "code",
   "execution_count": 77,
   "metadata": {},
   "outputs": [
    {
     "data": {
      "text/plain": [
       "3.5173817966090217"
      ]
     },
     "execution_count": 77,
     "metadata": {},
     "output_type": "execute_result"
    }
   ],
   "source": [
    "def LiftDragRatio(polar_input_dict):\n",
    "  alpha = polar_input_dict['alpha']\n",
    "  cl = polar_input_dict['CL']\n",
    "  cd = polar_input_dict['CD']\n",
    "  lift_over_drag_discrete = []\n",
    "  for index in range(len(cl)):\n",
    "    lift_over_drag_discrete.append(cl[index]/cd[index])\n",
    "  polyfit_coeffiecients = np.polyfit(alpha,lift_over_drag_discrete,5)\n",
    "  return np.poly1d(polyfit_coeffiecients)\n",
    "LiftDragRatio(data)(0.2)"
   ]
  }
 ],
 "metadata": {
  "kernelspec": {
   "display_name": "Python 3",
   "language": "python",
   "name": "python3"
  },
  "language_info": {
   "codemirror_mode": {
    "name": "ipython",
    "version": 3
   },
   "file_extension": ".py",
   "mimetype": "text/x-python",
   "name": "python",
   "nbconvert_exporter": "python",
   "pygments_lexer": "ipython3",
   "version": "3.11.2"
  }
 },
 "nbformat": 4,
 "nbformat_minor": 2
}

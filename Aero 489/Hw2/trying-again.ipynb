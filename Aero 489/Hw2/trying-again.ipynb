{
 "cells": [
  {
   "cell_type": "code",
   "execution_count": 7,
   "metadata": {},
   "outputs": [],
   "source": [
    "import numpy as np\n",
    "import matplotlib.pyplot as plt\n",
    "from scipy.optimize import minimize\n",
    "\n",
    "alpha_x,alpha_y,alpha_theta,alpha_T,alpha_M = np.zeros(5),np.zeros(5),np.zeros(5),np.zeros(5),np.zeros(5)\n",
    "alpha_guess = np.hstack((alpha_x,alpha_y,alpha_theta,alpha_T,alpha_M))\n",
    "initial_conditions = np.array([0.0,0.0,0.0,0.0,0.0]) # x,y,theta,T,M\n",
    "final_conditions = np.array([1.0,1.0,0.0,0.9,0.0]) # x,y,theta,T,M\n",
    "\n",
    "def generate_polynomial_basis(t):\n",
    "  degree = 4\n",
    "  basis_functions = []\n",
    "  for d in range(degree + 1):\n",
    "    basis_functions.append(t**d)\n",
    "  basis_functions = np.array(basis_functions).T\n",
    "  derivative_basis_functions = np.zeros_like(basis_functions)\n",
    "  for d in range(degree):\n",
    "    derivative_basis_functions[:, d] = (d + 1) * basis_functions[:, d + 1]\n",
    "  second_derivative_basis_functions = np.zeros_like(basis_functions)\n",
    "  for d in range(degree - 1):\n",
    "    second_derivative_basis_functions[:, d] = (d + 1) * derivative_basis_functions[:, d + 1]\n",
    "  return basis_functions, derivative_basis_functions, second_derivative_basis_functions\n",
    "t = np.linspace(0, 1, 100)  # normalized Time\n",
    "\n",
    "def x(time):\n",
    "  generate_polynomial_basis(time)@alpha_guess[:5]\n",
    "def y(time):\n",
    "  generate_polynomial_basis(time)@alpha_guess[5:2*5]\n",
    "def theta(time):\n",
    "  generate_polynomial_basis(time)@alpha_guess[2*5:3*5]\n",
    "def T(time):\n",
    "  generate_polynomial_basis(time)@alpha_guess[3*5:4*5]\n",
    "def M(time):\n",
    "  generate_polynomial_basis(time)@alpha_guess[4*5:5*5]"
   ]
  }
 ],
 "metadata": {
  "kernelspec": {
   "display_name": "Python 3",
   "language": "python",
   "name": "python3"
  },
  "language_info": {
   "codemirror_mode": {
    "name": "ipython",
    "version": 3
   },
   "file_extension": ".py",
   "mimetype": "text/x-python",
   "name": "python",
   "nbconvert_exporter": "python",
   "pygments_lexer": "ipython3",
   "version": "3.11.8"
  }
 },
 "nbformat": 4,
 "nbformat_minor": 2
}

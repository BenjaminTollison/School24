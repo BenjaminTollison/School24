{
 "cells": [
  {
   "cell_type": "markdown",
   "metadata": {},
   "source": [
    "# Import libraries"
   ]
  },
  {
   "cell_type": "code",
   "execution_count": 1,
   "metadata": {},
   "outputs": [
    {
     "name": "stderr",
     "output_type": "stream",
     "text": [
      "2024-03-04 10:19:36.560584: I tensorflow/core/util/port.cc:113] oneDNN custom operations are on. You may see slightly different numerical results due to floating-point round-off errors from different computation orders. To turn them off, set the environment variable `TF_ENABLE_ONEDNN_OPTS=0`.\n",
      "2024-03-04 10:19:36.852232: E external/local_xla/xla/stream_executor/cuda/cuda_dnn.cc:9261] Unable to register cuDNN factory: Attempting to register factory for plugin cuDNN when one has already been registered\n",
      "2024-03-04 10:19:36.852277: E external/local_xla/xla/stream_executor/cuda/cuda_fft.cc:607] Unable to register cuFFT factory: Attempting to register factory for plugin cuFFT when one has already been registered\n",
      "2024-03-04 10:19:36.897521: E external/local_xla/xla/stream_executor/cuda/cuda_blas.cc:1515] Unable to register cuBLAS factory: Attempting to register factory for plugin cuBLAS when one has already been registered\n",
      "2024-03-04 10:19:36.985053: I tensorflow/core/platform/cpu_feature_guard.cc:182] This TensorFlow binary is optimized to use available CPU instructions in performance-critical operations.\n",
      "To enable the following instructions: AVX2 AVX512F AVX512_VNNI FMA, in other operations, rebuild TensorFlow with the appropriate compiler flags.\n",
      "2024-03-04 10:19:38.356799: W tensorflow/compiler/tf2tensorrt/utils/py_utils.cc:38] TF-TRT Warning: Could not find TensorRT\n"
     ]
    }
   ],
   "source": [
    "import tensorflow as tf\n",
    "import matplotlib.pyplot as plt\n",
    "from keras.models import Sequential\n",
    "from tqdm.notebook import tqdm\n",
    "from keras.layers import Dense\n",
    "from numpy import pi"
   ]
  },
  {
   "cell_type": "code",
   "execution_count": 2,
   "metadata": {},
   "outputs": [
    {
     "name": "stdout",
     "output_type": "stream",
     "text": [
      "Num GPUs Available:  1\n",
      "[PhysicalDevice(name='/physical_device:GPU:0', device_type='GPU')]\n"
     ]
    },
    {
     "name": "stderr",
     "output_type": "stream",
     "text": [
      "2024-03-04 10:19:40.391053: I external/local_xla/xla/stream_executor/cuda/cuda_executor.cc:887] could not open file to read NUMA node: /sys/bus/pci/devices/0000:f3:00.0/numa_node\n",
      "Your kernel may have been built without NUMA support.\n",
      "2024-03-04 10:19:40.576654: I external/local_xla/xla/stream_executor/cuda/cuda_executor.cc:887] could not open file to read NUMA node: /sys/bus/pci/devices/0000:f3:00.0/numa_node\n",
      "Your kernel may have been built without NUMA support.\n",
      "2024-03-04 10:19:40.576695: I external/local_xla/xla/stream_executor/cuda/cuda_executor.cc:887] could not open file to read NUMA node: /sys/bus/pci/devices/0000:f3:00.0/numa_node\n",
      "Your kernel may have been built without NUMA support.\n"
     ]
    }
   ],
   "source": [
    "print(\"Num GPUs Available: \", len(tf.config.list_physical_devices('GPU')))\n",
    "print(tf.config.list_physical_devices('GPU'))"
   ]
  },
  {
   "cell_type": "markdown",
   "metadata": {},
   "source": [
    "# Trajectories modeled as neural networks"
   ]
  },
  {
   "cell_type": "code",
   "execution_count": 3,
   "metadata": {},
   "outputs": [
    {
     "name": "stderr",
     "output_type": "stream",
     "text": [
      "2024-03-04 10:19:40.594597: I external/local_xla/xla/stream_executor/cuda/cuda_executor.cc:887] could not open file to read NUMA node: /sys/bus/pci/devices/0000:f3:00.0/numa_node\n",
      "Your kernel may have been built without NUMA support.\n",
      "2024-03-04 10:19:40.594685: I external/local_xla/xla/stream_executor/cuda/cuda_executor.cc:887] could not open file to read NUMA node: /sys/bus/pci/devices/0000:f3:00.0/numa_node\n",
      "Your kernel may have been built without NUMA support.\n",
      "2024-03-04 10:19:40.594704: I external/local_xla/xla/stream_executor/cuda/cuda_executor.cc:887] could not open file to read NUMA node: /sys/bus/pci/devices/0000:f3:00.0/numa_node\n",
      "Your kernel may have been built without NUMA support.\n",
      "2024-03-04 10:19:40.879656: I external/local_xla/xla/stream_executor/cuda/cuda_executor.cc:887] could not open file to read NUMA node: /sys/bus/pci/devices/0000:f3:00.0/numa_node\n",
      "Your kernel may have been built without NUMA support.\n",
      "2024-03-04 10:19:40.879831: I external/local_xla/xla/stream_executor/cuda/cuda_executor.cc:887] could not open file to read NUMA node: /sys/bus/pci/devices/0000:f3:00.0/numa_node\n",
      "Your kernel may have been built without NUMA support.\n",
      "2024-03-04 10:19:40.879845: I tensorflow/core/common_runtime/gpu/gpu_device.cc:2022] Could not identify NUMA node of platform GPU id 0, defaulting to 0.  Your kernel may not have been built with NUMA support.\n",
      "2024-03-04 10:19:40.879895: I external/local_xla/xla/stream_executor/cuda/cuda_executor.cc:887] could not open file to read NUMA node: /sys/bus/pci/devices/0000:f3:00.0/numa_node\n",
      "Your kernel may have been built without NUMA support.\n",
      "2024-03-04 10:19:40.879920: I tensorflow/core/common_runtime/gpu/gpu_device.cc:1929] Created device /job:localhost/replica:0/task:0/device:GPU:0 with 1767 MB memory:  -> device: 0, name: NVIDIA GeForce RTX 3050 Ti Laptop GPU, pci bus id: 0000:f3:00.0, compute capability: 8.6\n"
     ]
    }
   ],
   "source": [
    "# Design the neural network\n",
    "def createTraj():\n",
    "    fhat = Sequential()\n",
    "    fhat.add(Dense(50, activation=\"sigmoid\", input_dim=1))\n",
    "    fhat.add(Dense(1))\n",
    "    return fhat\n",
    "\n",
    "x = createTraj()\n",
    "y = createTraj()\n",
    "v = createTraj()\n",
    "th = createTraj()"
   ]
  },
  {
   "cell_type": "markdown",
   "metadata": {},
   "source": [
    "# Compute loss function"
   ]
  },
  {
   "cell_type": "code",
   "execution_count": 4,
   "metadata": {},
   "outputs": [
    {
     "name": "stderr",
     "output_type": "stream",
     "text": [
      "2024-03-04 10:19:41.483863: I external/local_tsl/tsl/platform/default/subprocess.cc:304] Start cannot spawn child process: No such file or directory\n"
     ]
    }
   ],
   "source": [
    "T0 = 0\n",
    "Tf = 1\n",
    "nPts = 20\n",
    "T = tf.cast(tf.linspace(0,Tf,nPts),dtype=tf.float32)\n",
    "\n",
    "def errors(t):\n",
    "    with tf.GradientTape(persistent=True) as tape:\n",
    "        tape.watch(t)\n",
    "        X = x(t)\n",
    "        Y = y(t)\n",
    "    \n",
    "    Xd = tape.gradient(X,t)\n",
    "    Yd = tape.gradient(Y,t)\n",
    "\n",
    "    TH = th(t)\n",
    "    V  = v(t)\n",
    "    \n",
    "    # Error in dynamics\n",
    "    e_xdot = tf.reduce_sum((tf.reshape(Xd,shape=(nPts,1)) - V*tf.cos(TH))**2)\n",
    "    e_ydot = tf.reduce_sum((tf.reshape(Yd,shape=(nPts,1)) - V*tf.sin(TH))**2)\n",
    "\n",
    "    # Error in initial condition\n",
    "    x0 = 0; y0 = 0; th_0 = 0; x_dot_0 = 0; y_dot_0 = 0; th_dot_0 = 0;\n",
    "    eIC = (X[0] - x0)**2  + (Y[0] - y0)**2  + (TH[0])**2 + V[0]**2 # start from (x0,y0) at rest and pointing east\n",
    "\n",
    "    # Error in final condition\n",
    "    xf = 1; yf = 1; th_f = 0; x_dot_f = 0; y_dot_f = 0; th_dot_0 = 0;\n",
    "    eFC = (X[-1] - xf)**2 + (Y[-1] - yf)**2 + (TH[-1]-pi)**2 + V[-1]**2 # end at (xf,yf) at rest and pointing west \n",
    "    \n",
    "    return e_xdot + e_ydot + 10*eIC + 10*eFC "
   ]
  },
  {
   "cell_type": "markdown",
   "metadata": {},
   "source": [
    "# Train the network"
   ]
  },
  {
   "cell_type": "code",
   "execution_count": 5,
   "metadata": {},
   "outputs": [
    {
     "data": {
      "application/vnd.jupyter.widget-view+json": {
       "model_id": "b65d4e17f5df49c58cd2c354b1d9fad6",
       "version_major": 2,
       "version_minor": 0
      },
      "text/plain": [
       "Training run 1:   0%|          | 0/400 [00:00<?, ?it/s]"
      ]
     },
     "metadata": {},
     "output_type": "display_data"
    },
    {
     "name": "stdout",
     "output_type": "stream",
     "text": [
      "Last error: 5.3428\n"
     ]
    },
    {
     "data": {
      "application/vnd.jupyter.widget-view+json": {
       "model_id": "7afc0e5f226f4332ae7ccfca23e1d946",
       "version_major": 2,
       "version_minor": 0
      },
      "text/plain": [
       "Training run 2:   0%|          | 0/400 [00:00<?, ?it/s]"
      ]
     },
     "metadata": {},
     "output_type": "display_data"
    },
    {
     "name": "stdout",
     "output_type": "stream",
     "text": [
      "Last error: 0.1953\n"
     ]
    },
    {
     "data": {
      "application/vnd.jupyter.widget-view+json": {
       "model_id": "e89c8a7e0378407a883da988b14fd276",
       "version_major": 2,
       "version_minor": 0
      },
      "text/plain": [
       "Training run 3:   0%|          | 0/400 [00:00<?, ?it/s]"
      ]
     },
     "metadata": {},
     "output_type": "display_data"
    },
    {
     "name": "stdout",
     "output_type": "stream",
     "text": [
      "Last error: 0.09\n"
     ]
    },
    {
     "data": {
      "application/vnd.jupyter.widget-view+json": {
       "model_id": "ce694cfc87564ce5819f74153cb3acdc",
       "version_major": 2,
       "version_minor": 0
      },
      "text/plain": [
       "Training run 4:   0%|          | 0/400 [00:00<?, ?it/s]"
      ]
     },
     "metadata": {},
     "output_type": "display_data"
    },
    {
     "name": "stdout",
     "output_type": "stream",
     "text": [
      "Last error: 0.0216\n"
     ]
    },
    {
     "data": {
      "application/vnd.jupyter.widget-view+json": {
       "model_id": "08c81953951140c09f1121b76389d3d6",
       "version_major": 2,
       "version_minor": 0
      },
      "text/plain": [
       "Training run 5:   0%|          | 0/400 [00:00<?, ?it/s]"
      ]
     },
     "metadata": {},
     "output_type": "display_data"
    },
    {
     "name": "stdout",
     "output_type": "stream",
     "text": [
      "Last error: 0.0106\n"
     ]
    },
    {
     "data": {
      "application/vnd.jupyter.widget-view+json": {
       "model_id": "456b926a5a924e58a4e1b96233745f06",
       "version_major": 2,
       "version_minor": 0
      },
      "text/plain": [
       "Training run 6:   0%|          | 0/400 [00:00<?, ?it/s]"
      ]
     },
     "metadata": {},
     "output_type": "display_data"
    },
    {
     "name": "stdout",
     "output_type": "stream",
     "text": [
      "Last error: 0.0042\n"
     ]
    },
    {
     "data": {
      "application/vnd.jupyter.widget-view+json": {
       "model_id": "598dbfd58056454fa40df2fb48c267d4",
       "version_major": 2,
       "version_minor": 0
      },
      "text/plain": [
       "Training run 7:   0%|          | 0/400 [00:00<?, ?it/s]"
      ]
     },
     "metadata": {},
     "output_type": "display_data"
    },
    {
     "name": "stdout",
     "output_type": "stream",
     "text": [
      "Last error: 0.051\n"
     ]
    },
    {
     "data": {
      "application/vnd.jupyter.widget-view+json": {
       "model_id": "c8666e23ca1243c4880f775a0b41f0c4",
       "version_major": 2,
       "version_minor": 0
      },
      "text/plain": [
       "Training run 8:   0%|          | 0/400 [00:00<?, ?it/s]"
      ]
     },
     "metadata": {},
     "output_type": "display_data"
    },
    {
     "name": "stdout",
     "output_type": "stream",
     "text": [
      "Last error: 0.0024\n"
     ]
    },
    {
     "data": {
      "application/vnd.jupyter.widget-view+json": {
       "model_id": "228588a4bf7d4954a3b13f943e882138",
       "version_major": 2,
       "version_minor": 0
      },
      "text/plain": [
       "Training run 9:   0%|          | 0/400 [00:00<?, ?it/s]"
      ]
     },
     "metadata": {},
     "output_type": "display_data"
    },
    {
     "name": "stdout",
     "output_type": "stream",
     "text": [
      "Last error: 0.002\n"
     ]
    },
    {
     "data": {
      "application/vnd.jupyter.widget-view+json": {
       "model_id": "5328568e38b54fcfa05393a6001be91a",
       "version_major": 2,
       "version_minor": 0
      },
      "text/plain": [
       "Training run 10:   0%|          | 0/400 [00:00<?, ?it/s]"
      ]
     },
     "metadata": {},
     "output_type": "display_data"
    },
    {
     "name": "stdout",
     "output_type": "stream",
     "text": [
      "Last error: 0.0018\n"
     ]
    },
    {
     "data": {
      "application/vnd.jupyter.widget-view+json": {
       "model_id": "329543078b0c4575bd5271677aaa883e",
       "version_major": 2,
       "version_minor": 0
      },
      "text/plain": [
       "Training run 11:   0%|          | 0/400 [00:00<?, ?it/s]"
      ]
     },
     "metadata": {},
     "output_type": "display_data"
    },
    {
     "name": "stdout",
     "output_type": "stream",
     "text": [
      "Last error: 0.0019\n"
     ]
    },
    {
     "data": {
      "application/vnd.jupyter.widget-view+json": {
       "model_id": "f50b21d6f0464f5ba04c1155a9ac112b",
       "version_major": 2,
       "version_minor": 0
      },
      "text/plain": [
       "Training run 12:   0%|          | 0/400 [00:00<?, ?it/s]"
      ]
     },
     "metadata": {},
     "output_type": "display_data"
    },
    {
     "name": "stdout",
     "output_type": "stream",
     "text": [
      "Last error: 0.0014\n"
     ]
    },
    {
     "data": {
      "application/vnd.jupyter.widget-view+json": {
       "model_id": "d37f413e5f1a41f6a3f053bfb8eee676",
       "version_major": 2,
       "version_minor": 0
      },
      "text/plain": [
       "Training run 13:   0%|          | 0/400 [00:00<?, ?it/s]"
      ]
     },
     "metadata": {},
     "output_type": "display_data"
    },
    {
     "name": "stdout",
     "output_type": "stream",
     "text": [
      "Last error: 0.0013\n"
     ]
    },
    {
     "data": {
      "application/vnd.jupyter.widget-view+json": {
       "model_id": "1b39bcf7fe404554bc8aead4344424df",
       "version_major": 2,
       "version_minor": 0
      },
      "text/plain": [
       "Training run 14:   0%|          | 0/400 [00:00<?, ?it/s]"
      ]
     },
     "metadata": {},
     "output_type": "display_data"
    },
    {
     "name": "stdout",
     "output_type": "stream",
     "text": [
      "Last error: 0.0012\n"
     ]
    },
    {
     "data": {
      "application/vnd.jupyter.widget-view+json": {
       "model_id": "23389e62fbb94ef9b06e11a1b6039b2b",
       "version_major": 2,
       "version_minor": 0
      },
      "text/plain": [
       "Training run 15:   0%|          | 0/400 [00:00<?, ?it/s]"
      ]
     },
     "metadata": {},
     "output_type": "display_data"
    },
    {
     "name": "stdout",
     "output_type": "stream",
     "text": [
      "Last error: 0.0012\n"
     ]
    },
    {
     "data": {
      "application/vnd.jupyter.widget-view+json": {
       "model_id": "251b094c7b3e4c848fde976e370477c5",
       "version_major": 2,
       "version_minor": 0
      },
      "text/plain": [
       "Training run 16:   0%|          | 0/400 [00:00<?, ?it/s]"
      ]
     },
     "metadata": {},
     "output_type": "display_data"
    },
    {
     "name": "stdout",
     "output_type": "stream",
     "text": [
      "Last error: 0.0012\n"
     ]
    },
    {
     "data": {
      "application/vnd.jupyter.widget-view+json": {
       "model_id": "3d8b737fe3ea455e9083099232455ab5",
       "version_major": 2,
       "version_minor": 0
      },
      "text/plain": [
       "Training run 17:   0%|          | 0/400 [00:00<?, ?it/s]"
      ]
     },
     "metadata": {},
     "output_type": "display_data"
    },
    {
     "name": "stdout",
     "output_type": "stream",
     "text": [
      "Last error: 0.0011\n"
     ]
    },
    {
     "data": {
      "application/vnd.jupyter.widget-view+json": {
       "model_id": "adf76c6a267343d08af71332afd49e4f",
       "version_major": 2,
       "version_minor": 0
      },
      "text/plain": [
       "Training run 18:   0%|          | 0/400 [00:00<?, ?it/s]"
      ]
     },
     "metadata": {},
     "output_type": "display_data"
    },
    {
     "name": "stdout",
     "output_type": "stream",
     "text": [
      "Finish Training\n",
      "Last error: 0.001\n"
     ]
    }
   ],
   "source": [
    "run_counter = 0\n",
    "while errors(T) >= 0.001:\n",
    "    nIter = 400\n",
    "    run_counter += 1\n",
    "    if run_counter == 21:\n",
    "        print('Failed to converge')\n",
    "        break\n",
    "    if errors(T) <= 1:\n",
    "        optimizer = tf.keras.optimizers.legacy.Adam(learning_rate=0.01)\n",
    "    elif errors(T) <= 0.5:\n",
    "        optimizer = tf.keras.optimizers.legacy.Adam(learning_rate=0.001)\n",
    "    elif errors(T) <= 0.1:\n",
    "        optimizer = tf.keras.optimizers.legacy.Adam(learning_rate=0.0001)\n",
    "    elif errors(T) <= 0.01:\n",
    "        optimizer = tf.keras.optimizers.legacy.Adam(learning_rate=0.00001)\n",
    "    else:\n",
    "        optimizer = tf.keras.optimizers.legacy.Adam(learning_rate=0.1)\n",
    "    for i in tqdm(range(nIter),desc=f\"Training run {run_counter}\"):\n",
    "        with tf.GradientTape(persistent=True) as tape:\n",
    "            e = errors(T)\n",
    "        if e <= 0.001:\n",
    "            print('Finish Training')\n",
    "            break\n",
    "        # if i%50 == 0:    \n",
    "            # print(f'iter: {i}, error: {e[0]}')\n",
    "    \n",
    "        # Update parameters in x\n",
    "        grads = tape.gradient(e, x.trainable_variables)\n",
    "        optimizer.apply_gradients(zip(grads, x.trainable_variables))\n",
    "\n",
    "        # Update parameters in y\n",
    "        grads = tape.gradient(e, y.trainable_variables)\n",
    "        optimizer.apply_gradients(zip(grads, y.trainable_variables))\n",
    "\n",
    "        # Update parameters in v\n",
    "        grads = tape.gradient(e, v.trainable_variables)\n",
    "        optimizer.apply_gradients(zip(grads, v.trainable_variables))\n",
    "\n",
    "        # Update parameters in th\n",
    "        grads = tape.gradient(e, th.trainable_variables)\n",
    "        optimizer.apply_gradients(zip(grads, th.trainable_variables))\n",
    "    print(f\"Last error: {round(float(errors(T)[0]),4)}\")"
   ]
  },
  {
   "cell_type": "markdown",
   "metadata": {},
   "source": [
    "# Plot the results"
   ]
  },
  {
   "cell_type": "code",
   "execution_count": 6,
   "metadata": {},
   "outputs": [
    {
     "data": {
      "image/png": "[encoded data removed]",
      "text/plain": [
       "<Figure size 640x480 with 4 Axes>"
      ]
     },
     "metadata": {},
     "output_type": "display_data"
    }
   ],
   "source": [
    "\n",
    "nPts1 = 1000\n",
    "TT = tf.cast(tf.linspace(0,Tf,nPts1),dtype=tf.float32)\n",
    "tt = TT.numpy()\n",
    "\n",
    "with tf.GradientTape(persistent=True) as tape:\n",
    "    tape.watch(TT)\n",
    "    X = x(TT)\n",
    "    Y = y(TT)\n",
    "    \n",
    "Xd = tape.gradient(X,TT)\n",
    "Yd = tape.gradient(Y,TT)\n",
    "\n",
    "e_xdot = tf.reshape(Xd,shape=(nPts1,1)) - v(TT)*tf.cos(th(TT))\n",
    "e_ydot = tf.reshape(Yd,shape=(nPts1,1)) - v(TT)*tf.sin(th(TT))\n",
    "\n",
    "\n",
    "r2d = 180/pi\n",
    "\n",
    "plt.subplot(2,2,1); plt.plot(X.numpy(),Y.numpy(),'r'); plt.grid('on'); plt.xlabel('X(t)'); plt.ylabel('Y(t)'); plt.title('Generated Trajectory') \n",
    "plt.subplot(2,2,2); plt.plot(tt,e_xdot,label='e_xdot'); plt.grid('on'); plt.title('Equation Error'); plt.xlabel('T (sec)') \n",
    "plt.subplot(2,2,2); plt.plot(tt,e_ydot,label='e_ydot'); plt.grid('on'); \n",
    "plt.legend()\n",
    "\n",
    "plt.subplot(2,2,3); plt.plot(tt,th(TT).numpy()*r2d,'r'); plt.grid('on');plt.ylabel('th(t) deg'); plt.title('Steering Angle')\n",
    "plt.subplot(2,2,4); plt.plot(tt,v(TT).numpy(),'r'); plt.grid('on');plt.ylabel('v(t)'); plt.title('Velocity')\n",
    "plt.tight_layout()\n"
   ]
  }
 ],
 "metadata": {
  "kernelspec": {
   "display_name": "base",
   "language": "python",
   "name": "python3"
  },
  "language_info": {
   "codemirror_mode": {
    "name": "ipython",
    "version": 3
   },
   "file_extension": ".py",
   "mimetype": "text/x-python",
   "name": "python",
   "nbconvert_exporter": "python",
   "pygments_lexer": "ipython3",
   "version": "3.11.8"
  }
 },
 "nbformat": 4,
 "nbformat_minor": 2
}

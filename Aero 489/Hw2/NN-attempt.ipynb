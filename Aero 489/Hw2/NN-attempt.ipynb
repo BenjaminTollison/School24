{
 "cells": [
  {
   "cell_type": "code",
   "execution_count": 2,
   "metadata": {},
   "outputs": [
    {
     "name": "stdout",
     "output_type": "stream",
     "text": [
      "Num GPUs Available:  0\n",
      "[]\n"
     ]
    }
   ],
   "source": [
    "import tensorflow as tf\n",
    "import matplotlib.pyplot as plt\n",
    "import numpy as np\n",
    "from keras.models import Sequential\n",
    "from tqdm.notebook import tqdm\n",
    "from keras.layers import Dense\n",
    "from numpy import pi\n",
    "\n",
    "print(\"Num GPUs Available: \", len(tf.config.list_physical_devices('GPU')))\n",
    "print(tf.config.list_physical_devices('GPU'))\n",
    "\n",
    "def createTraj():\n",
    "    fhat = Sequential()\n",
    "    fhat.add(Dense(50, activation=\"sigmoid\", input_dim=1))\n",
    "    fhat.add(Dense(1))\n",
    "    return fhat\n",
    "\n",
    "x = createTraj()\n",
    "y = createTraj()\n",
    "velocity = createTraj()\n",
    "theta = createTraj()\n",
    "thrust = createTraj()\n",
    "moment = createTraj()\n",
    "\n",
    "initial_time = 0\n",
    "final_time = 1\n",
    "number_of_points = 20\n",
    "normalize_time = tf.cast(tf.linspace(initial_time,final_time,number_of_points),dtype=tf.float32)"
   ]
  },
  {
   "cell_type": "code",
   "execution_count": 3,
   "metadata": {},
   "outputs": [],
   "source": [
    "def errors(t):\n",
    "  with tf.GradientTape(persistent=True) as tape1:\n",
    "    tape1.watch(t)\n",
    "    with tf.GradientTape(persistent=True) as tape2:\n",
    "        tape2.watch(t)\n",
    "        X = x(t)\n",
    "        Y = y(t)\n",
    "        TH = theta(t)\n",
    "        V = velocity(t)\n",
    "    \n",
    "    Xd = tape2.gradient(X, t)\n",
    "    Yd = tape2.gradient(Y, t)\n",
    "\n",
    "  Xdd = tape1.gradient(Xd, t)\n",
    "  Ydd = tape1.gradient(Yd, t)\n",
    "\n",
    "  # Compute the derivatives\n",
    "  THd = tape1.gradient(TH, t)\n",
    "  Vd = tape1.gradient(V, t)\n",
    "\n",
    "  # Error in dynamics\n",
    "  e_xdot = tf.reduce_sum((tf.reshape(Xdd, shape=(number_of_points, 1)) - Vd * tf.cos(TH)) ** 2)\n",
    "  e_ydot = tf.reduce_sum((tf.reshape(Ydd, shape=(number_of_points, 1)) - Vd * tf.sin(TH)) ** 2)\n",
    "\n",
    "  # Error in initial condition\n",
    "  x0 = 0\n",
    "  y0 = 0\n",
    "  th_0 = 0\n",
    "  x_dot_0 = 0\n",
    "  y_dot_0 = 0\n",
    "  th_dot_0 = 0\n",
    "  eIC = (X[0] - x0) ** 2 + (Y[0] - y0) ** 2 + (TH[0]) ** 2 + V[0] ** 2  # start from (x0,y0) at rest and pointing east\n",
    "\n",
    "  # Error in final condition\n",
    "  xf = 1\n",
    "  yf = 1\n",
    "  th_f = 0\n",
    "  x_dot_f = 0\n",
    "  y_dot_f = 0\n",
    "  th_dot_0 = 0\n",
    "  eFC = (X[-1] - xf) ** 2 + (Y[-1] - yf) ** 2 + (TH[-1] - np.pi) ** 2 + V[-1] ** 2  # end at (xf,yf) at rest and pointing west\n",
    "\n",
    "  return e_xdot + e_ydot + 10 * eIC + 10 * eFC"
   ]
  }
 ],
 "metadata": {
  "kernelspec": {
   "display_name": "Python 3",
   "language": "python",
   "name": "python3"
  },
  "language_info": {
   "codemirror_mode": {
    "name": "ipython",
    "version": 3
   },
   "file_extension": ".py",
   "mimetype": "text/x-python",
   "name": "python",
   "nbconvert_exporter": "python",
   "pygments_lexer": "ipython3",
   "version": "3.11.2"
  }
 },
 "nbformat": 4,
 "nbformat_minor": 2
}

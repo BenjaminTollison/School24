{
 "cells": [
  {
   "cell_type": "code",
   "execution_count": 25,
   "metadata": {},
   "outputs": [],
   "source": [
    "import numpy as np\n",
    "\n",
    "def dsdt(t,s):\n",
    "  mass,I_z = 1,1\n",
    "  alpha,beta = 0,0\n",
    "  x,x_dot,y,y_dot,theta,theta_dot,thrust,thrust_dot,moment,moment_dot = s\n",
    "  return [\n",
    "    x_dot,\n",
    "    thrust*np.cos(theta)/mass,\n",
    "    thrust*np.sin(theta)/mass,\n",
    "    theta_dot,\n",
    "    moment/I_z,\n",
    "    thrust_dot,\n",
    "    alpha,\n",
    "    moment_dot,\n",
    "    beta\n",
    "  ]"
   ]
  },
  {
   "cell_type": "code",
   "execution_count": 26,
   "metadata": {},
   "outputs": [
    {
     "name": "stdout",
     "output_type": "stream",
     "text": [
      "Optimal T: 0.6315360482853106\n",
      "Optimal M: 0.2519834117859906\n",
      "(6, 100)\n"
     ]
    },
    {
     "data": {
      "text/plain": [
       "[<matplotlib.lines.Line2D at 0x28e11681d90>]"
      ]
     },
     "execution_count": 26,
     "metadata": {},
     "output_type": "execute_result"
    },
    {
     "data": {
      "image/png": "[encoded data removed]",
      "text/plain": [
       "<Figure size 640x480 with 1 Axes>"
      ]
     },
     "metadata": {},
     "output_type": "display_data"
    }
   ],
   "source": [
    "import matplotlib.pyplot as plt\n",
    "import numpy as np\n",
    "from scipy.integrate import solve_ivp\n",
    "from scipy.optimize import minimize\n",
    "\n",
    "# Define the system of ODEs\n",
    "def odes(t, y, T, M):\n",
    "  x, y, theta, x_dot, y_dot, theta_dot = y\n",
    "  m = 1  # Mass\n",
    "  Iz = 1  # Moment of inertia\n",
    "\n",
    "  x_ddot = T * np.cos(theta) / m\n",
    "  y_ddot = T * np.sin(theta) / m\n",
    "  theta_ddot = M / Iz\n",
    "\n",
    "  return [x_dot, y_dot, theta_dot, x_ddot, y_ddot, theta_ddot]\n",
    "\n",
    "# Define the objective function to minimize\n",
    "def objective(params):\n",
    "  T, M = params\n",
    "\n",
    "  # Initial and final conditions\n",
    "  y0 = [0, 0, 0, 0, 0, 0]  # [x, y, theta, x_dot, y_dot, theta_dot] at t=0\n",
    "  time = np.linspace(0,10,100)\n",
    "\n",
    "  # Solve the ODEs\n",
    "  sol = solve_ivp(odes, [min(time),max(time)] , y0, args=(T, M), t_eval=time)\n",
    "\n",
    "  # Calculate the final position\n",
    "  xf, yf, thetaf, _, _, _ = sol.y[:, -1]\n",
    "\n",
    "  # Calculate the cost (distance from the final position to the target)\n",
    "  cost = (xf - 10)**2 + (yf - 10)**2\n",
    "\n",
    "  return cost\n",
    "\n",
    "# Bounds for T and M\n",
    "bounds = [(0, 1), (-1, 1)]\n",
    "\n",
    "# Initial guess\n",
    "x0 = [0.5, 0.5]\n",
    "\n",
    "# Minimize the objective function\n",
    "result = minimize(objective, x0, bounds=bounds)\n",
    "\n",
    "# Optimal values for T and M\n",
    "optimal_T, optimal_M = result.x\n",
    "\n",
    "print(\"Optimal T:\", optimal_T)\n",
    "print(\"Optimal M:\", optimal_M)\n",
    "\n",
    "time = np.linspace(0,10,100)\n",
    "intial_conditions = [0, 0, 0, 0, 0, 0]  # [x, y, theta, x_dot, y_dot, theta_dot] at t=0\n",
    "T = optimal_T\n",
    "M = optimal_M\n",
    "optimized_solution = solve_ivp(odes, [0,max(time)],y0=intial_conditions,args=(T,M),t_eval=time)\n",
    "print((optimized_solution.y).shape)\n",
    "plt.plot(optimized_solution.y[0],optimized_solution.y[1])"
   ]
  },
  {
   "cell_type": "code",
   "execution_count": 27,
   "metadata": {},
   "outputs": [
    {
     "name": "stdout",
     "output_type": "stream",
     "text": [
      "Num GPUs Available:  0\n",
      "[]\n"
     ]
    }
   ],
   "source": [
    "import tensorflow as tf\n",
    "from keras.models import Sequential\n",
    "from tqdm.notebook import tqdm\n",
    "from keras.layers import Dense\n",
    "from numpy import pi\n",
    "\n",
    "print(\"Num GPUs Available: \", len(tf.config.list_physical_devices('GPU')))\n",
    "print(tf.config.list_physical_devices('GPU'))\n",
    "\n",
    "def createTraj():\n",
    "  fhat = Sequential()\n",
    "  fhat.add(Dense(50, activation=\"sigmoid\", input_dim=1))\n",
    "  fhat.add(Dense(1))\n",
    "  return fhat\n",
    "\n",
    "x = createTraj()\n",
    "y = createTraj()\n",
    "theta = createTraj()\n",
    "thrust = createTraj()\n",
    "moment = createTraj()"
   ]
  },
  {
   "cell_type": "code",
   "execution_count": 30,
   "metadata": {},
   "outputs": [],
   "source": [
    "initial_time = 0\n",
    "final_time = 1\n",
    "number_of_points = 20\n",
    "normalize_time = tf.cast(tf.linspace(initial_time,final_time,number_of_points),dtype=tf.float32)\n",
    "def errors(t):\n",
    "  with tf.GradientTape(persistent=True) as tape1:\n",
    "    tape1.watch(t)\n",
    "    with tf.GradientTape(persistent=True) as tape2:\n",
    "      tape2.watch(t)\n",
    "      X = x(t)\n",
    "      Y = y(t)\n",
    "      TH = theta(t)\n",
    "      THRUST = thrust(t)\n",
    "      MOMENT = moment(t)\n",
    "    Xd = tape2.gradient(X, t)\n",
    "    Yd = tape2.gradient(Y, t)\n",
    "\n",
    "  # Compute the derivatives\n",
    "  Xdd = tape1.gradient(Xd, t)\n",
    "  Ydd = tape1.gradient(Yd, t)\n",
    "  # THd = tape1.gradient(TH, t)\n",
    "\n",
    "  # Error in dynamics\n",
    "  e_xddot = tf.reduce_sum((tf.reshape(Xdd, shape=(number_of_points, 1)) - Xdd * tf.cos(TH)) ** 2)\n",
    "  e_yddot = tf.reduce_sum((tf.reshape(Ydd, shape=(number_of_points, 1)) - Ydd * tf.sin(TH)) ** 2)\n",
    "\n",
    "  # Error in initial condition\n",
    "  x0 = 0\n",
    "  y0 = 0\n",
    "  th_0 = 0\n",
    "  x_dot_0 = 0\n",
    "  y_dot_0 = 0\n",
    "  th_dot_0 = 0\n",
    "  thrust_0 = 0\n",
    "  moment_0 = 0\n",
    "  eIC = (X[0] - x0) ** 2 + (Y[0] - y0) ** 2 + (TH[0]) ** 2 + (THRUST[0]-thrust_0 )** 2 + (MOMENT[0] - moment_0)**2 # start from (x0,y0) at rest and pointing east\n",
    "\n",
    "  # Error in final condition\n",
    "  xf = 1\n",
    "  yf = 1\n",
    "  th_f = 0\n",
    "  x_dot_f = 0\n",
    "  y_dot_f = 0\n",
    "  th_dot_0 = 0\n",
    "  thrust_f = 0\n",
    "  moment_f = 0\n",
    "  eFC = (X[-1] - xf) ** 2 + (Y[-1] - yf) ** 2 + (TH[-1] - np.pi) ** 2 + (THRUST[-1]- thrust_f)** 2 + (MOMENT[-1]-moment_f)**2\n",
    "\n",
    "  return e_xddot + e_yddot + 10 * eIC + 10 * eFC"
   ]
  },
  {
   "cell_type": "code",
   "execution_count": 31,
   "metadata": {},
   "outputs": [
    {
     "data": {
      "application/vnd.jupyter.widget-view+json": {
       "model_id": "cfd0ec28f2264d3bbf24bc5e594b35cd",
       "version_major": 2,
       "version_minor": 0
      },
      "text/plain": [
       "Training run 1:   0%|          | 0/400 [00:00<?, ?it/s]"
      ]
     },
     "metadata": {},
     "output_type": "display_data"
    },
    {
     "ename": "",
     "evalue": "",
     "output_type": "error",
     "traceback": [
      "\u001b[1;31mThe Kernel crashed while executing code in the current cell or a previous cell. \n",
      "\u001b[1;31mPlease review the code in the cell(s) to identify a possible cause of the failure. \n",
      "\u001b[1;31mClick <a href='https://aka.ms/vscodeJupyterKernelCrash'>here</a> for more info. \n",
      "\u001b[1;31mView Jupyter <a href='command:jupyter.viewOutput'>log</a> for further details."
     ]
    }
   ],
   "source": [
    "run_counter = 0\n",
    "while errors(normalize_time) >= 0.001:\n",
    "    nIter = 400\n",
    "    run_counter += 1\n",
    "    if run_counter == 10:\n",
    "        print('Failed to converge')\n",
    "        break\n",
    "    if errors(normalize_time) <= 1:\n",
    "        optimizer = tf.keras.optimizers.legacy.Adam(learning_rate=0.01)\n",
    "    elif errors(normalize_time) <= 0.5:\n",
    "        optimizer = tf.keras.optimizers.legacy.Adam(learning_rate=0.001)\n",
    "    elif errors(normalize_time) <= 0.1:\n",
    "        optimizer = tf.keras.optimizers.legacy.Adam(learning_rate=0.0001)\n",
    "    elif errors(normalize_time) <= 0.01:\n",
    "        optimizer = tf.keras.optimizers.legacy.Adam(learning_rate=0.00001)\n",
    "    else:\n",
    "        optimizer = tf.keras.optimizers.legacy.Adam(learning_rate=0.1)\n",
    "    for i in tqdm(range(nIter),desc=f\"Training run {run_counter}\"):\n",
    "        with tf.GradientTape(persistent=True) as tape:\n",
    "            e = errors(normalize_time)\n",
    "        if e <= 0.001:\n",
    "            print('Finish Training')\n",
    "            break\n",
    "    \n",
    "        # Update parameters in x\n",
    "        grads = tape.gradient(e, x.trainable_variables)\n",
    "        optimizer.apply_gradients(zip(grads, x.trainable_variables))\n",
    "\n",
    "        # Update parameters in y\n",
    "        grads = tape.gradient(e, y.trainable_variables)\n",
    "        optimizer.apply_gradients(zip(grads, y.trainable_variables))\n",
    "\n",
    "        # Update parameters in th\n",
    "        grads = tape.gradient(e, theta.trainable_variables)\n",
    "        optimizer.apply_gradients(zip(grads, theta.trainable_variables))\n",
    "\n",
    "        # Update parameters in thrust\n",
    "        grads = tape.gradient(e, thrust.trainable_variables)\n",
    "        optimizer.apply_gradients(zip(grads, thrust.trainable_variables))\n",
    "\n",
    "        # Update parameters in moment\n",
    "        grads = tape.gradient(e, moment.trainable_variables)\n",
    "        optimizer.apply_gradients(zip(grads, moment.trainable_variables))\n",
    "\n",
    "    print(f\"Last error: {round(float(errors(normalize_time)[0]),4)}\")"
   ]
  }
 ],
 "metadata": {
  "kernelspec": {
   "display_name": "Python 3",
   "language": "python",
   "name": "python3"
  },
  "language_info": {
   "codemirror_mode": {
    "name": "ipython",
    "version": 3
   },
   "file_extension": ".py",
   "mimetype": "text/x-python",
   "name": "python",
   "nbconvert_exporter": "python",
   "pygments_lexer": "ipython3",
   "version": "3.11.2"
  }
 },
 "nbformat": 4,
 "nbformat_minor": 2
}

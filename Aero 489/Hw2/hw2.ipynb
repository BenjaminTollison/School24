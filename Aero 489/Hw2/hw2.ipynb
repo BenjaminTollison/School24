{
 "cells": [
  {
   "cell_type": "code",
   "execution_count": 4,
   "metadata": {},
   "outputs": [
    {
     "name": "stdout",
     "output_type": "stream",
     "text": [
      "Optimal control variables (T, M): [3.50639775e-12 5.00000000e-01]\n"
     ]
    }
   ],
   "source": [
    "from scipy.optimize import minimize\n",
    "import numpy as np\n",
    "\n",
    "# Define the objective function\n",
    "def objective_function(control_variables):\n",
    "    T, M = control_variables\n",
    "    # Define your objective function here\n",
    "    # For example, you might want to minimize some function of T and M\n",
    "    return T**2 + M**2  # Example objective function\n",
    "\n",
    "# Define the system of second-order ODEs\n",
    "def system_of_ODEs(control_variables):\n",
    "    T, M = control_variables\n",
    "    m = 1.0  # Mass\n",
    "    g = 9.81  # Gravitational acceleration\n",
    "    I_z = 1.0  # Moment of inertia\n",
    "    \n",
    "    # Define initial and final conditions\n",
    "    # Example initial and final conditions\n",
    "    x0, y0, theta0 = 0.0, 0.0, 0.0\n",
    "    x_dot0, y_dot0, theta_dot0 = 0.0, 0.0, 0.0\n",
    "    xf, yf, thetaf = 10.0, 10.0, np.pi/2\n",
    "    \n",
    "    # Solve the system of ODEs\n",
    "    # You may use numerical integration methods such as scipy.integrate.solve_ivp\n",
    "    # to solve the system of ODEs and obtain the final state\n",
    "    # Then, compute the difference between the final state and the desired final state\n",
    "    # You would typically return the square of this difference to be minimized\n",
    "    \n",
    "    # Example: compute the difference between the final state and the desired final state\n",
    "    final_state_difference = (xf - x0)**2 + (yf - y0)**2 + (thetaf - theta0)**2\n",
    "    return final_state_difference\n",
    "\n",
    "# Define initial guess for control variables\n",
    "initial_guess = [0.5, 0.5]  # Example initial guess for T and M\n",
    "\n",
    "# Define constraints on control variables\n",
    "constraints = ({'type': 'ineq', 'fun': lambda x: x[0]},  # T >= 0\n",
    "               {'type': 'ineq', 'fun': lambda x: 1 - x[0]},  # T <= 1\n",
    "               {'type': 'ineq', 'fun': lambda x: -1 - x[1]},  # M >= -1\n",
    "               {'type': 'ineq', 'fun': lambda x: x[1] - 1})  # M <= 1\n",
    "\n",
    "# Solve the optimization problem using scipy.optimize.minimize\n",
    "solution = minimize(objective_function, initial_guess, constraints=constraints)\n",
    "\n",
    "# Print the optimal control variables (thrust and moment)\n",
    "print(\"Optimal control variables (T, M):\", solution.x)\n",
    "\n"
   ]
  },
  {
   "cell_type": "code",
   "execution_count": 5,
   "metadata": {},
   "outputs": [
    {
     "name": "stdout",
     "output_type": "stream",
     "text": [
      "Optimal control variables (T, M): [0.84501116 0.48976485]\n"
     ]
    }
   ],
   "source": [
    "from scipy.optimize import minimize\n",
    "from scipy.integrate import solve_ivp\n",
    "import numpy as np\n",
    "\n",
    "# Define the objective function\n",
    "def objective_function(control_variables):\n",
    "    T, M = control_variables\n",
    "    return T**2 + M**2  # Example objective function\n",
    "\n",
    "# Define the system of second-order ODEs\n",
    "def system_of_ODEs(t, variables, T, M):\n",
    "    x, y, theta, x_dot, y_dot, theta_dot = variables\n",
    "    m = 1.0  # Mass\n",
    "    g = 9.81  # Gravitational acceleration\n",
    "    I_z = 1.0  # Moment of inertia\n",
    "    \n",
    "    x_ddot = T * np.cos(theta) / m\n",
    "    y_ddot = T * np.sin(theta) / m \n",
    "    theta_ddot = M / I_z\n",
    "    \n",
    "    return [x_dot, y_dot, theta_dot, x_ddot, y_ddot, theta_ddot]\n",
    "\n",
    "# Define initial and final conditions\n",
    "initial_conditions = [0.0, 0.0, 0.0, 0.0, 0.0, 0.0]  # x, y, theta, x_dot, y_dot, theta_dot\n",
    "final_conditions = [10.0, 10.0, np.pi/2, 0.0, 0.0, 0.0]  # xf, yf, thetaf, x_dotf, y_dotf, theta_dotf\n",
    "\n",
    "# Define the constraints on control variables\n",
    "constraints = ({'type': 'ineq', 'fun': lambda x: x[0]},  # T >= 0\n",
    "               {'type': 'ineq', 'fun': lambda x: 1 - x[0]},  # T <= 1\n",
    "               {'type': 'ineq', 'fun': lambda x: -1 - x[1]},  # M >= -1\n",
    "               {'type': 'ineq', 'fun': lambda x: x[1] - 1})  # M <= 1\n",
    "\n",
    "# Define the objective function for optimization\n",
    "def objective_function_for_optimization(control_variables):\n",
    "    final_time = 10\n",
    "    T, M = control_variables\n",
    "    solution = solve_ivp(system_of_ODEs, [0, final_time], initial_conditions, args=(T, M), method='RK45', t_eval=[final_time])\n",
    "    final_state_difference = np.sum((solution.y[:, -1] - final_conditions)**2)\n",
    "    return final_state_difference\n",
    "\n",
    "# Define initial guess for control variables\n",
    "initial_guess = [0.5, 0.5]  # Example initial guess for T and M\n",
    "\n",
    "# Solve the optimization problem using scipy.optimize.minimize\n",
    "solution = minimize(objective_function_for_optimization, initial_guess, constraints=constraints)\n",
    "\n",
    "# Print the optimal control variables (thrust and moment)\n",
    "print(\"Optimal control variables (T, M):\", solution.x)\n"
   ]
  }
 ],
 "metadata": {
  "kernelspec": {
   "display_name": "base",
   "language": "python",
   "name": "python3"
  },
  "language_info": {
   "codemirror_mode": {
    "name": "ipython",
    "version": 3
   },
   "file_extension": ".py",
   "mimetype": "text/x-python",
   "name": "python",
   "nbconvert_exporter": "python",
   "pygments_lexer": "ipython3",
   "version": "3.11.8"
  }
 },
 "nbformat": 4,
 "nbformat_minor": 2
}

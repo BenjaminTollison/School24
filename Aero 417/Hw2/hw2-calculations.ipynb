{
 "cells": [
  {
   "cell_type": "code",
   "execution_count": 1,
   "metadata": {},
   "outputs": [],
   "source": [
    "### Benjamin Tollison ###\n",
    "import matplotlib.pyplot as plt\n",
    "import numpy as np\n",
    "import pandas as pd\n",
    "import scipy\n",
    "import sympy as sp\n",
    "from IPython.display import Latex, Math, display\n",
    "from sympy import (\n",
    "    Eq,\n",
    "    Function,\n",
    "    Matrix,\n",
    "    cos,\n",
    "    cosh,\n",
    "    exp,\n",
    "    integrate,\n",
    "    lambdify,\n",
    "    pi,\n",
    "    sin,\n",
    "    sinh,\n",
    "    symbols,\n",
    ")\n",
    "from decimal import Decimal\n",
    "from sympy.solvers.pde import pdsolve\n",
    "from sympy.solvers.solveset import linsolve\n",
    "def displayEquations(LHS,RHS):\n",
    "    left = sp.latex(LHS)\n",
    "    right = sp.latex(RHS)\n",
    "    display(Math(left + '=' + right))\n",
    "    np.set_printoptions(suppress=True)\n",
    "def displayVariable(variable:str,RHS):\n",
    "    left = sp.latex(symbols(variable))\n",
    "    right = sp.latex(RHS)\n",
    "    display(Math(left + '=' + right))\n",
    "def displayVariableWithUnits(variable:str,RHS,units):\n",
    "    left = sp.latex(symbols(variable))\n",
    "    right = sp.latex(RHS)\n",
    "    latexUnit = sp.latex(symbols(units))\n",
    "    display(Math(left + '=' + right + '\\\\;' +'\\\\left['+ latexUnit + '\\\\right]'))\n",
    "def format_scientific(number:float):\n",
    "    a = '%E' % number\n",
    "    return a.split('E')[0].rstrip('0').rstrip('.') + 'E' + a.split('E')[1]\n",
    "deg2rad = np.pi/180\n",
    "rad2deg = 180/np.pi"
   ]
  },
  {
   "cell_type": "code",
   "execution_count": 2,
   "metadata": {},
   "outputs": [
    {
     "data": {
      "text/latex": [
       "$\\displaystyle T=245000\\;\\left[N\\right]$"
      ],
      "text/plain": [
       "<IPython.core.display.Math object>"
      ]
     },
     "metadata": {},
     "output_type": "display_data"
    }
   ],
   "source": [
    "thrust = 10*(800-300) + 4*(80-20)*1000\n",
    "displayVariableWithUnits('T',thrust,'N')"
   ]
  },
  {
   "cell_type": "markdown",
   "metadata": {},
   "source": [
    "### 3)"
   ]
  },
  {
   "cell_type": "code",
   "execution_count": 3,
   "metadata": {},
   "outputs": [
    {
     "data": {
      "text/html": [
       "<div>\n",
       "<style scoped>\n",
       "    .dataframe tbody tr th:only-of-type {\n",
       "        vertical-align: middle;\n",
       "    }\n",
       "\n",
       "    .dataframe tbody tr th {\n",
       "        vertical-align: top;\n",
       "    }\n",
       "\n",
       "    .dataframe thead th {\n",
       "        text-align: right;\n",
       "    }\n",
       "</style>\n",
       "<table border=\"1\" class=\"dataframe\">\n",
       "  <thead>\n",
       "    <tr style=\"text-align: right;\">\n",
       "      <th></th>\n",
       "      <th>1</th>\n",
       "    </tr>\n",
       "  </thead>\n",
       "  <tbody>\n",
       "    <tr>\n",
       "      <th>T0</th>\n",
       "      <td>288</td>\n",
       "    </tr>\n",
       "    <tr>\n",
       "      <th>P0</th>\n",
       "      <td>101325</td>\n",
       "    </tr>\n",
       "  </tbody>\n",
       "</table>\n",
       "</div>"
      ],
      "text/plain": [
       "         1\n",
       "T0     288\n",
       "P0  101325"
      ]
     },
     "metadata": {},
     "output_type": "display_data"
    }
   ],
   "source": [
    "T01 = 288 # K\n",
    "P01 = 101325 # Pa\n",
    "compressor_ratio = 10.3\n",
    "compressor_isentropic_efficiency = 0.87\n",
    "mechanical_efficiency = 0.99\n",
    "combustion_pressure_loss = 0.05\n",
    "LHV_kerosene = 41 # J/kg\n",
    "combustion_efficiency = 0.99\n",
    "T03 = 1190 # K\n",
    "turbine_efficiency = 0.88\n",
    "T4 = 873 # K\n",
    "massflow_rate = 108 # kg/s\n",
    "cp_air = 1005 # J/kg-K\n",
    "cp_gas = 1150 # J/kg-K\n",
    "cycle_dict = {\n",
    "  '1':{'T0': T01,'P0':P01}\n",
    "}\n",
    "gamma_air = 1.4\n",
    "gamma_gas = 1.33\n",
    "display(pd.DataFrame(cycle_dict))"
   ]
  },
  {
   "cell_type": "code",
   "execution_count": 4,
   "metadata": {},
   "outputs": [
    {
     "data": {
      "text/latex": [
       "$\\displaystyle P_{02}=1043647.5\\;\\left[Pa\\right]$"
      ],
      "text/plain": [
       "<IPython.core.display.Math object>"
      ]
     },
     "metadata": {},
     "output_type": "display_data"
    },
    {
     "data": {
      "text/latex": [
       "$\\displaystyle T_{02}=601.513567990099\\;\\left[K\\right]$"
      ],
      "text/plain": [
       "<IPython.core.display.Math object>"
      ]
     },
     "metadata": {},
     "output_type": "display_data"
    },
    {
     "data": {
      "text/latex": [
       "$\\displaystyle W_{c}=315081.135830049\\;\\left[J\\right]$"
      ],
      "text/plain": [
       "<IPython.core.display.Math object>"
      ]
     },
     "metadata": {},
     "output_type": "display_data"
    }
   ],
   "source": [
    "P02 = compressor_ratio*P01\n",
    "T02 = T01 * (1 + (1/compressor_isentropic_efficiency)*(compressor_ratio**((gamma_air-1)/gamma_air) - 1))\n",
    "displayVariableWithUnits('P_{02}',P02,'Pa')\n",
    "displayVariableWithUnits('T_{02}',T02,'K')\n",
    "compressor_work = cp_air*(T02-T01)\n",
    "displayVariableWithUnits('W_c',compressor_work,'J')"
   ]
  },
  {
   "cell_type": "code",
   "execution_count": 5,
   "metadata": {},
   "outputs": [
    {
     "data": {
      "text/latex": [
       "$\\displaystyle W_{T}=368232.323232323\\;\\left[J\\right]$"
      ],
      "text/plain": [
       "<IPython.core.display.Math object>"
      ]
     },
     "metadata": {},
     "output_type": "display_data"
    }
   ],
   "source": [
    "turbine_work = cp_gas*(T03-T4)/mechanical_efficiency\n",
    "displayVariableWithUnits('W_T',turbine_work,'J')"
   ]
  },
  {
   "cell_type": "code",
   "execution_count": 6,
   "metadata": {},
   "outputs": [
    {
     "data": {
      "text/latex": [
       "$\\displaystyle P_{shaft}=5740328.23944558\\;\\left[W\\right]$"
      ],
      "text/plain": [
       "<IPython.core.display.Math object>"
      ]
     },
     "metadata": {},
     "output_type": "display_data"
    }
   ],
   "source": [
    "shaft_power = massflow_rate*(turbine_work-compressor_work)\n",
    "displayVariableWithUnits('P_{shaft}',shaft_power,'W')"
   ]
  },
  {
   "cell_type": "code",
   "execution_count": 7,
   "metadata": {},
   "outputs": [
    {
     "data": {
      "text/latex": [
       "$\\displaystyle s_{02}=6.7316\\;\\left[\\frac{kJ}{kgK}\\right]$"
      ],
      "text/plain": [
       "<IPython.core.display.Math object>"
      ]
     },
     "metadata": {},
     "output_type": "display_data"
    },
    {
     "data": {
      "text/latex": [
       "$\\displaystyle s_{03}=8.5032\\;\\left[\\frac{kJ}{kgK}\\right]$"
      ],
      "text/plain": [
       "<IPython.core.display.Math object>"
      ]
     },
     "metadata": {},
     "output_type": "display_data"
    },
    {
     "data": {
      "text/latex": [
       "$\\displaystyle s_{04}=8.8016\\;\\left[\\frac{kJ}{kgK}\\right]$"
      ],
      "text/plain": [
       "<IPython.core.display.Math object>"
      ]
     },
     "metadata": {},
     "output_type": "display_data"
    }
   ],
   "source": [
    "S01 = 6.6608\n",
    "S02 = cp_air*np.log(T02/T01)/1000 - .287*np.log(compressor_ratio) + S01\n",
    "displayVariableWithUnits('s_{02}',round(S02,4),'\\\\frac{kJ}{kgK}')\n",
    "S03 = ((8.5067-8.4956)/(1193.16-1183.16))*(1190-1183.16) + 8.4956\n",
    "displayVariableWithUnits('s_{03}',round(S03,4),'\\\\frac{kJ}{kgK}')\n",
    "S04 = cp_gas*np.log(T4/T03)/1000 - .287*np.log(P01/(P02*0.95)) + S03\n",
    "displayVariableWithUnits('s_{04}',round(S04,4),'\\\\frac{kJ}{kgK}')"
   ]
  },
  {
   "cell_type": "code",
   "execution_count": 8,
   "metadata": {},
   "outputs": [
    {
     "data": {
      "image/png": "[encoded data removed]",
      "text/plain": [
       "<Figure size 640x480 with 1 Axes>"
      ]
     },
     "metadata": {},
     "output_type": "display_data"
    }
   ],
   "source": [
    "temperature_values = [T01,T02,T03,T4,T01]\n",
    "entropy_values = [S01,S02,S03,S04,S01]\n",
    "for i in range(len(temperature_values)-1):\n",
    "  plt.scatter(entropy_values[i],temperature_values[i],label=f'{i+1}')\n",
    "plt.plot(entropy_values,temperature_values,label=None,color='purple',linestyle='--')\n",
    "plt.xlabel('s [kJ/kg-K]')\n",
    "plt.ylabel('T [K]')\n",
    "plt.legend()\n",
    "plt.title(\"T-s diagram\")\n",
    "plt.show()"
   ]
  },
  {
   "cell_type": "code",
   "execution_count": 9,
   "metadata": {},
   "outputs": [
    {
     "data": {
      "text/latex": [
       "$\\displaystyle \\Delta{t_{c}}=588.4864\\;\\left[K\\right]$"
      ],
      "text/plain": [
       "<IPython.core.display.Math object>"
      ]
     },
     "metadata": {},
     "output_type": "display_data"
    },
    {
     "data": {
      "text/latex": [
       "$\\displaystyle f^{-1}=71.4285714285714$"
      ],
      "text/plain": [
       "<IPython.core.display.Math object>"
      ]
     },
     "metadata": {},
     "output_type": "display_data"
    }
   ],
   "source": [
    "displayVariableWithUnits('\\\\Delta{t_{c}}',round(T03-T02,4),'K')\n",
    "fuel_ratio_ideal = 0.014\n",
    "air_to_fuel = fuel_ratio_ideal**-1\n",
    "displayVariable('f^{-1}',air_to_fuel)"
   ]
  }
 ],
 "metadata": {
  "kernelspec": {
   "display_name": "Python 3",
   "language": "python",
   "name": "python3"
  },
  "language_info": {
   "codemirror_mode": {
    "name": "ipython",
    "version": 3
   },
   "file_extension": ".py",
   "mimetype": "text/x-python",
   "name": "python",
   "nbconvert_exporter": "python",
   "pygments_lexer": "ipython3",
   "version": "3.12.5"
  }
 },
 "nbformat": 4,
 "nbformat_minor": 2
}

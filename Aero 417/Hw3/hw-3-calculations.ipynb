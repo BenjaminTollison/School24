{
 "cells": [
  {
   "cell_type": "code",
   "execution_count": 2,
   "metadata": {},
   "outputs": [],
   "source": [
    "### Benjamin Tollison ###\n",
    "import matplotlib.pyplot as plt\n",
    "import numpy as np\n",
    "import pandas as pd\n",
    "import scipy\n",
    "import sympy as sp\n",
    "from IPython.display import Latex, Math, display\n",
    "from sympy import (\n",
    "    Eq,\n",
    "    Function,\n",
    "    Matrix,\n",
    "    cos,\n",
    "    cosh,\n",
    "    exp,\n",
    "    integrate,\n",
    "    lambdify,\n",
    "    pi,\n",
    "    sin,\n",
    "    sinh,\n",
    "    symbols,\n",
    ")\n",
    "from decimal import Decimal\n",
    "from sympy.solvers.pde import pdsolve\n",
    "from sympy.solvers.solveset import linsolve\n",
    "def displayEquations(LHS,RHS):\n",
    "    left = sp.latex(LHS)\n",
    "    right = sp.latex(RHS)\n",
    "    display(Math(left + '=' + right))\n",
    "    np.set_printoptions(suppress=True)\n",
    "def displayVariable(variable:str,RHS):\n",
    "    left = sp.latex(symbols(variable))\n",
    "    right = sp.latex(RHS)\n",
    "    display(Math(left + '=' + right))\n",
    "def displayVariableWithUnits(variable:str,RHS,units):\n",
    "    left = sp.latex(symbols(variable))\n",
    "    right = sp.latex(RHS)\n",
    "    latexUnit = sp.latex(symbols(units))\n",
    "    display(Math(left + '=' + right + '\\\\;' +'\\\\left['+ latexUnit + '\\\\right]'))\n",
    "def format_scientific(number:float):\n",
    "    a = '%E' % number\n",
    "    return a.split('E')[0].rstrip('0').rstrip('.') + 'E' + a.split('E')[1]\n",
    "deg2rad = np.pi/180\n",
    "rad2deg = 180/np.pi"
   ]
  },
  {
   "cell_type": "code",
   "execution_count": 33,
   "metadata": {},
   "outputs": [
    {
     "data": {
      "text/latex": [
       "$\\displaystyle \\sigma=0.164933614313464\\;\\left[m^{2}\\right]$"
      ],
      "text/plain": [
       "<IPython.core.display.Math object>"
      ]
     },
     "metadata": {},
     "output_type": "display_data"
    },
    {
     "data": {
      "text/latex": [
       "$\\displaystyle u_{1}=753.98223686155\\;\\left[\\frac{m}{s}\\right]$"
      ],
      "text/plain": [
       "<IPython.core.display.Math object>"
      ]
     },
     "metadata": {},
     "output_type": "display_data"
    },
    {
     "data": {
      "text/latex": [
       "$\\displaystyle M_{i}=3.59709624357504$"
      ],
      "text/plain": [
       "<IPython.core.display.Math object>"
      ]
     },
     "metadata": {},
     "output_type": "display_data"
    },
    {
     "data": {
      "text/latex": [
       "$\\displaystyle e_{r}=\\mathtt{\\text{5.800749E-09}}$"
      ],
      "text/plain": [
       "<IPython.core.display.Math object>"
      ]
     },
     "metadata": {},
     "output_type": "display_data"
    },
    {
     "data": {
      "text/latex": [
       "$\\displaystyle i=5$"
      ],
      "text/plain": [
       "<IPython.core.display.Math object>"
      ]
     },
     "metadata": {},
     "output_type": "display_data"
    }
   ],
   "source": [
    "inlet_area = np.pi*(.25**2-.1**2)\n",
    "rotation_speed = 7200*(2*np.pi/60)\n",
    "displayVariableWithUnits('\\\\sigma',inlet_area,'m^2')\n",
    "displayVariableWithUnits('u_1',rotation_speed,'\\\\frac{m}{s}')\n",
    "inlet_total_pressure = 1.02e5 # Pa\n",
    "inlet_total_temperature = 335 # K\n",
    "mass_flow_rate = 5 # kg/s\n",
    "demensionaless_mass_flow = (mass_flow_rate*(287*inlet_total_temperature)**0.5)/(inlet_total_pressure*inlet_area)\n",
    "def MachFlow(machnumber):\n",
    "  kappa = demensionaless_mass_flow\n",
    "  gamma = 1.4\n",
    "  M = machnumber\n",
    "  return (gamma)**0.5 * M * (1 + ((gamma-1)*M**2)/2 )**((-gamma-1)/(2*gamma-2)) - kappa\n",
    "def MachFlowPrime(machnumber):\n",
    "  gamma = 1.4\n",
    "  M = machnumber\n",
    "  first_part = (gamma)**0.5*(1 + ((gamma-1)*M**2)/2 )**((-gamma-1)/(2*gamma-2))\n",
    "  second_part = (gamma)**0.5 *M*((-gamma-1)/(2*gamma-2))*(1 + ((gamma-1)*M**2)/2 )**((-gamma-1)/(2*gamma-2)-1)*((gamma-1)*M)\n",
    "  return first_part + second_part\n",
    "intial_mach_guess = 1.2\n",
    "increment_cutoff = 100\n",
    "increment_count = 0\n",
    "while abs(MachFlow(intial_mach_guess))>1e-8:\n",
    "  increment_count += 1\n",
    "  if increment_count == increment_cutoff:\n",
    "    print('scheme didn\\'t converge')\n",
    "    displayVariable('e_r',format_scientific(abs(MachFlow(intial_mach_guess))))\n",
    "    break\n",
    "  intial_mach_guess = intial_mach_guess - MachFlow(intial_mach_guess)/MachFlowPrime(intial_mach_guess)\n",
    "final_mach = intial_mach_guess\n",
    "displayVariable('M_i',final_mach)\n",
    "displayVariable('e_r',format_scientific(abs(MachFlow(intial_mach_guess))))\n",
    "displayVariable('i',increment_count)"
   ]
  },
  {
   "cell_type": "code",
   "execution_count": 32,
   "metadata": {},
   "outputs": [
    {
     "data": {
      "text/latex": [
       "$\\displaystyle w_{1}=1319.71279595148\\;\\left[\\frac{m}{s}\\right]$"
      ],
      "text/plain": [
       "<IPython.core.display.Math object>"
      ]
     },
     "metadata": {},
     "output_type": "display_data"
    },
    {
     "data": {
      "text/latex": [
       "$\\displaystyle \\beta_{1}=0.962679419542757\\;\\left[rad\\right]$"
      ],
      "text/plain": [
       "<IPython.core.display.Math object>"
      ]
     },
     "metadata": {},
     "output_type": "display_data"
    },
    {
     "data": {
      "text/latex": [
       "$\\displaystyle \\beta_{1}=55.1574677639039\\;\\left[deg\\right]$"
      ],
      "text/plain": [
       "<IPython.core.display.Math object>"
      ]
     },
     "metadata": {},
     "output_type": "display_data"
    }
   ],
   "source": [
    "virtual_speed = final_mach*(1.4*287*inlet_total_temperature)**0.5\n",
    "displayVariableWithUnits('w_1',virtual_speed,'\\\\frac{m}{s}')\n",
    "inducer_angle = np.arccos(rotation_speed/virtual_speed)\n",
    "displayVariableWithUnits('\\\\beta_1',inducer_angle,'rad')\n",
    "displayVariableWithUnits('\\\\beta_1',inducer_angle*rad2deg,'deg')"
   ]
  }
 ],
 "metadata": {
  "kernelspec": {
   "display_name": "Python 3",
   "language": "python",
   "name": "python3"
  },
  "language_info": {
   "codemirror_mode": {
    "name": "ipython",
    "version": 3
   },
   "file_extension": ".py",
   "mimetype": "text/x-python",
   "name": "python",
   "nbconvert_exporter": "python",
   "pygments_lexer": "ipython3",
   "version": "3.12.5"
  },
  "orig_nbformat": 4
 },
 "nbformat": 4,
 "nbformat_minor": 2
}

{
 "cells": [
  {
   "cell_type": "code",
   "execution_count": 1,
   "metadata": {},
   "outputs": [],
   "source": [
    "### Benjamin Tollison ###\n",
    "import matplotlib.pyplot as plt\n",
    "import numpy as np\n",
    "import pandas as pd\n",
    "import scipy\n",
    "import sympy as sp\n",
    "from IPython.display import Latex, Math, display\n",
    "from sympy import (\n",
    "    Eq,\n",
    "    Function,\n",
    "    Matrix,\n",
    "    cos,\n",
    "    cosh,\n",
    "    exp,\n",
    "    integrate,\n",
    "    lambdify,\n",
    "    pi,\n",
    "    sin,\n",
    "    sinh,\n",
    "    symbols,\n",
    ")\n",
    "from decimal import Decimal\n",
    "from sympy.solvers.pde import pdsolve\n",
    "from sympy.solvers.solveset import linsolve\n",
    "def displayEquations(LHS,RHS):\n",
    "    left = sp.latex(LHS)\n",
    "    right = sp.latex(RHS)\n",
    "    display(Math(left + '=' + right))\n",
    "    np.set_printoptions(suppress=True)\n",
    "def displayVariable(variable:str,RHS):\n",
    "    left = sp.latex(symbols(variable))\n",
    "    right = sp.latex(RHS)\n",
    "    display(Math(left + '=' + right))\n",
    "def displayVariableWithUnits(variable:str,RHS,units):\n",
    "    left = sp.latex(symbols(variable))\n",
    "    right = sp.latex(RHS)\n",
    "    latexUnit = sp.latex(symbols(units))\n",
    "    display(Math(left + '=' + right + '\\\\;' +'\\\\left['+ latexUnit + '\\\\right]'))\n",
    "def format_scientific(number:float):\n",
    "    a = '%E' % number\n",
    "    return a.split('E')[0].rstrip('0').rstrip('.') + 'E' + a.split('E')[1]\n",
    "deg2rad = np.pi/180\n",
    "rad2deg = 180/np.pi"
   ]
  },
  {
   "cell_type": "code",
   "execution_count": 2,
   "metadata": {},
   "outputs": [
    {
     "data": {
      "text/latex": [
       "$\\displaystyle T_{t1}=291.9867\\;\\left[K\\right]$"
      ],
      "text/plain": [
       "<IPython.core.display.Math object>"
      ]
     },
     "metadata": {},
     "output_type": "display_data"
    },
    {
     "data": {
      "text/latex": [
       "$\\displaystyle P_{t1}=86002.0781\\;\\left[Pa\\right]$"
      ],
      "text/plain": [
       "<IPython.core.display.Math object>"
      ]
     },
     "metadata": {},
     "output_type": "display_data"
    }
   ],
   "source": [
    "gamma_air = 1.4\n",
    "R_air = 287 # [J/kg-K]\n",
    "cp_air = (gamma_air*R_air)/(gamma_air-1)\n",
    "P_stagnation_air = 54050 # Pa\n",
    "T_stagnation_air = 255.7 # K\n",
    "flight_velocity = 270 # m/s\n",
    "T_t1 = T_stagnation_air + flight_velocity**2 / (2*cp_air)\n",
    "Mach_air = flight_velocity / (gamma_air*R_air*T_stagnation_air)**0.5\n",
    "P_t1 = P_stagnation_air*(1 + ((gamma_air-1)/2)*Mach_air**2)**(gamma_air/(gamma_air-1))\n",
    "displayVariableWithUnits('T_{t1}',round(T_t1,4),'K')\n",
    "displayVariableWithUnits('P_{t1}',round(P_t1,4),'Pa')"
   ]
  },
  {
   "cell_type": "code",
   "execution_count": 3,
   "metadata": {},
   "outputs": [
    {
     "data": {
      "text/latex": [
       "$\\displaystyle T_{t2}=291.9867\\;\\left[K\\right]$"
      ],
      "text/plain": [
       "<IPython.core.display.Math object>"
      ]
     },
     "metadata": {},
     "output_type": "display_data"
    },
    {
     "data": {
      "text/latex": [
       "$\\displaystyle P_{t2}=83411.8867\\;\\left[Pa\\right]$"
      ],
      "text/plain": [
       "<IPython.core.display.Math object>"
      ]
     },
     "metadata": {},
     "output_type": "display_data"
    }
   ],
   "source": [
    "T_t2 = T_t1\n",
    "compressor_duct_efficiency = 0.93\n",
    "P_t2 = P_stagnation_air*(1 + compressor_duct_efficiency*((gamma_air-1)/2)*Mach_air**2)**(gamma_air/(gamma_air-1))\n",
    "displayVariableWithUnits('T_{t2}',round(T_t2,4),'K')\n",
    "displayVariableWithUnits('P_{t2}',round(P_t2,4),'Pa')"
   ]
  },
  {
   "cell_type": "code",
   "execution_count": 4,
   "metadata": {},
   "outputs": [
    {
     "data": {
      "text/latex": [
       "$\\displaystyle T_{t3}=564.3222\\;\\left[K\\right]$"
      ],
      "text/plain": [
       "<IPython.core.display.Math object>"
      ]
     },
     "metadata": {},
     "output_type": "display_data"
    },
    {
     "data": {
      "text/latex": [
       "$\\displaystyle P_{t3}=667295.0934\\;\\left[Pa\\right]$"
      ],
      "text/plain": [
       "<IPython.core.display.Math object>"
      ]
     },
     "metadata": {},
     "output_type": "display_data"
    }
   ],
   "source": [
    "compressor_pressure_ratio = 8\n",
    "P_t3 = compressor_pressure_ratio*P_t2\n",
    "compressor_isentropic_efficiency = 0.87\n",
    "T_t3 = T_t2*(1 + (1/compressor_isentropic_efficiency)*(compressor_pressure_ratio**((gamma_air-1)/gamma_air) - 1))\n",
    "displayVariableWithUnits('T_{t3}',round(T_t3,4),'K')\n",
    "displayVariableWithUnits('P_{t3}',round(P_t3,4),'Pa')"
   ]
  },
  {
   "cell_type": "code",
   "execution_count": 5,
   "metadata": {},
   "outputs": [
    {
     "data": {
      "text/latex": [
       "$\\displaystyle W_{T}=276324.194703322\\;\\left[J\\right]$"
      ],
      "text/plain": [
       "<IPython.core.display.Math object>"
      ]
     },
     "metadata": {},
     "output_type": "display_data"
    },
    {
     "data": {
      "text/latex": [
       "$\\displaystyle T_{t5i}=959.7181\\;\\left[K\\right]$"
      ],
      "text/plain": [
       "<IPython.core.display.Math object>"
      ]
     },
     "metadata": {},
     "output_type": "display_data"
    },
    {
     "data": {
      "text/latex": [
       "$\\displaystyle P_{t4}=640603.2897\\;\\left[Pa\\right]$"
      ],
      "text/plain": [
       "<IPython.core.display.Math object>"
      ]
     },
     "metadata": {},
     "output_type": "display_data"
    },
    {
     "data": {
      "text/latex": [
       "$\\displaystyle T_{t5}=933.0201\\;\\left[K\\right]$"
      ],
      "text/plain": [
       "<IPython.core.display.Math object>"
      ]
     },
     "metadata": {},
     "output_type": "display_data"
    },
    {
     "data": {
      "text/latex": [
       "$\\displaystyle P_{t5}=232335.9193\\;\\left[Pa\\right]$"
      ],
      "text/plain": [
       "<IPython.core.display.Math object>"
      ]
     },
     "metadata": {},
     "output_type": "display_data"
    }
   ],
   "source": [
    "mechanical_efficiency = 0.99\n",
    "work_turbine = cp_air*(T_t3-T_t2)/mechanical_efficiency\n",
    "displayVariableWithUnits('W_T',work_turbine,'J')\n",
    "gamma_gas = 1.33\n",
    "cp_gas = 1150 # J/kg-K\n",
    "T_t4 = 1200 # K\n",
    "T_t5i = T_t4 - work_turbine/cp_gas\n",
    "displayVariableWithUnits('T_{t5i}',round(T_t5i,4),'K')\n",
    "P_t4 = P_t3*0.96\n",
    "displayVariableWithUnits('P_{t4}',round(P_t4,4),'Pa')\n",
    "turbine_isentropic_efficiency = 0.9\n",
    "T_t5 = T_t4 - ((1/turbine_isentropic_efficiency)*(T_t4-T_t5i))\n",
    "displayVariableWithUnits('T_{t5}',round(T_t5,4),'K')\n",
    "P_t5 = P_t4*(T_t5/T_t4)**(gamma_gas/(gamma_gas-1))\n",
    "displayVariableWithUnits('P_{t5}',round(P_t5,4),'Pa')"
   ]
  },
  {
   "cell_type": "code",
   "execution_count": 9,
   "metadata": {},
   "outputs": [
    {
     "data": {
      "text/latex": [
       "$\\displaystyle r_{crit}=2.04648882319101$"
      ],
      "text/plain": [
       "<IPython.core.display.Math object>"
      ]
     },
     "metadata": {},
     "output_type": "display_data"
    },
    {
     "data": {
      "text/latex": [
       "$\\displaystyle \\frac{P_9}{P_{0}}=4.29853689799841$"
      ],
      "text/plain": [
       "<IPython.core.display.Math object>"
      ]
     },
     "metadata": {},
     "output_type": "display_data"
    },
    {
     "data": {
      "text/latex": [
       "$\\displaystyle T_{9}=800.875623807657\\;\\left[K\\right]$"
      ],
      "text/plain": [
       "<IPython.core.display.Math object>"
      ]
     },
     "metadata": {},
     "output_type": "display_data"
    },
    {
     "data": {
      "text/latex": [
       "$\\displaystyle P_{9}=113529.043845224\\;\\left[Pa\\right]$"
      ],
      "text/plain": [
       "<IPython.core.display.Math object>"
      ]
     },
     "metadata": {},
     "output_type": "display_data"
    }
   ],
   "source": [
    "pressure_ratio_overall = P_t5/P_stagnation_air\n",
    "pressure_ratio_critical = (1-(1/compressor_isentropic_efficiency)*((gamma_gas-1)/(gamma_gas+1)))**(-gamma_gas/(gamma_gas-1))\n",
    "displayVariable('r_{crit}',pressure_ratio_critical)\n",
    "displayVariable('\\\\frac{P_9}{P_{0}}',pressure_ratio_overall)\n",
    "T_9 = T_t5*(2/(gamma_gas+1))\n",
    "P_9 = P_t5/pressure_ratio_critical\n",
    "displayVariableWithUnits('T_9', T_9,'K')\n",
    "displayVariableWithUnits('P_{9}',P_9,'Pa')"
   ]
  }
 ],
 "metadata": {
  "kernelspec": {
   "display_name": "Python 3",
   "language": "python",
   "name": "python3"
  },
  "language_info": {
   "codemirror_mode": {
    "name": "ipython",
    "version": 3
   },
   "file_extension": ".py",
   "mimetype": "text/x-python",
   "name": "python",
   "nbconvert_exporter": "python",
   "pygments_lexer": "ipython3",
   "version": "3.12.5"
  }
 },
 "nbformat": 4,
 "nbformat_minor": 2
}

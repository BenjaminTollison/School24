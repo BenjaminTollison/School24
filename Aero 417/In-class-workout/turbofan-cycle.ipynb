{
 "cells": [
  {
   "cell_type": "code",
   "execution_count": 1,
   "metadata": {},
   "outputs": [],
   "source": [
    "### Benjamin Tollison ###\n",
    "import matplotlib.pyplot as plt\n",
    "import numpy as np\n",
    "import pandas as pd\n",
    "import scipy\n",
    "import sympy as sp\n",
    "from IPython.display import Latex, Math, display\n",
    "from sympy import (\n",
    "    Eq,\n",
    "    Function,\n",
    "    Matrix,\n",
    "    cos,\n",
    "    cosh,\n",
    "    exp,\n",
    "    integrate,\n",
    "    lambdify,\n",
    "    pi,\n",
    "    sin,\n",
    "    sinh,\n",
    "    symbols,\n",
    ")\n",
    "from decimal import Decimal\n",
    "from sympy.solvers.pde import pdsolve\n",
    "from sympy.solvers.solveset import linsolve\n",
    "def displayEquations(LHS,RHS):\n",
    "    left = sp.latex(LHS)\n",
    "    right = sp.latex(RHS)\n",
    "    display(Math(left + '=' + right))\n",
    "    np.set_printoptions(suppress=True)\n",
    "def displayVariable(variable:str,RHS):\n",
    "    left = sp.latex(symbols(variable))\n",
    "    right = sp.latex(RHS)\n",
    "    display(Math(left + '=' + right))\n",
    "def displayVariableWithUnits(variable:str,RHS,units):\n",
    "    left = sp.latex(symbols(variable))\n",
    "    right = sp.latex(RHS)\n",
    "    latexUnit = sp.latex(symbols(units))\n",
    "    display(Math(left + '=' + right + '\\\\;' +'\\\\left['+ latexUnit + '\\\\right]'))\n",
    "def format_scientific(number:float):\n",
    "    a = '%E' % number\n",
    "    return a.split('E')[0].rstrip('0').rstrip('.') + 'E' + a.split('E')[1]\n",
    "deg2rad = np.pi/180\n",
    "rad2deg = 180/np.pi"
   ]
  },
  {
   "cell_type": "code",
   "execution_count": 2,
   "metadata": {},
   "outputs": [
    {
     "data": {
      "text/latex": [
       "$\\displaystyle n_{compression}=0.317460317460317$"
      ],
      "text/plain": [
       "<IPython.core.display.Math object>"
      ]
     },
     "metadata": {},
     "output_type": "display_data"
    },
    {
     "data": {
      "text/latex": [
       "$\\displaystyle n_{expansion}=0.223308270676692$"
      ],
      "text/plain": [
       "<IPython.core.display.Math object>"
      ]
     },
     "metadata": {},
     "output_type": "display_data"
    }
   ],
   "source": [
    "cp_air = 1.005 # J/kg-K\n",
    "cp_gas = 1.148 # J/kg-K\n",
    "gamma_air = 1.4\n",
    "gamma_gas = 1.33\n",
    "# displayVariable('n', (1/(1-0.3175)))\n",
    "pressure_ratio_overall = 25\n",
    "pressure_ratio_fan = 1.65\n",
    "bypass_ratio = 5\n",
    "turbine_inlet_temperature = 1550 # K\n",
    "polytropic_efficiency = 0.9\n",
    "nozzle_isentropic_efficiency = 0.95\n",
    "spool_efficiency= 0.99\n",
    "pressure_loss_combustion = 1.5 # bar\n",
    "mass_flow_total = 215 # kg/s\n",
    "polytropic_compression = (1/polytropic_efficiency)*((gamma_air-1)/gamma_air)\n",
    "polytropic_expansion = (polytropic_efficiency)*((gamma_gas-1)/gamma_gas)\n",
    "displayVariable('n_{compression}',polytropic_compression)\n",
    "displayVariable('n_{expansion}',polytropic_expansion)\n",
    "P01 = 1 # bar\n",
    "T01 = 288 # K"
   ]
  },
  {
   "cell_type": "code",
   "execution_count": 4,
   "metadata": {},
   "outputs": [
    {
     "data": {
      "text/latex": [
       "$\\displaystyle \\frac{T_{02}}{T_{01}}=1.17231014135482$"
      ],
      "text/plain": [
       "<IPython.core.display.Math object>"
      ]
     },
     "metadata": {},
     "output_type": "display_data"
    },
    {
     "data": {
      "text/latex": [
       "$\\displaystyle T_{02f}=337.625320710189\\;\\left[K\\right]$"
      ],
      "text/plain": [
       "<IPython.core.display.Math object>"
      ]
     },
     "metadata": {},
     "output_type": "display_data"
    }
   ],
   "source": [
    "Fan_temp_ratio = pressure_ratio_fan**polytropic_compression\n",
    "displayVariable('\\\\frac{T_{02}}{T_{01}}',Fan_temp_ratio)\n",
    "T02f = Fan_temp_ratio*T01\n",
    "displayVariableWithUnits('T_{02f}',T02f,'K')"
   ]
  },
  {
   "cell_type": "code",
   "execution_count": 5,
   "metadata": {},
   "outputs": [
    {
     "data": {
      "text/latex": [
       "$\\displaystyle T_{03}=800.171293292568\\;\\left[K\\right]$"
      ],
      "text/plain": [
       "<IPython.core.display.Math object>"
      ]
     },
     "metadata": {},
     "output_type": "display_data"
    }
   ],
   "source": [
    "T03 = T02f*(pressure_ratio_overall/pressure_ratio_fan)**polytropic_compression\n",
    "displayVariableWithUnits('T_{03}',T03,'K')"
   ]
  },
  {
   "cell_type": "code",
   "execution_count": 6,
   "metadata": {},
   "outputs": [
    {
     "data": {
      "text/latex": [
       "$\\displaystyle \\frac{P_{02}}{P_c}=1.00199348014291$"
      ],
      "text/plain": [
       "<IPython.core.display.Math object>"
      ]
     },
     "metadata": {},
     "output_type": "display_data"
    }
   ],
   "source": [
    "pressure_ratio_critical = 1/(1-(1/nozzle_isentropic_efficiency)*((gamma_air-1)/(gamma_air+1))**(gamma_air/(gamma_air-1)))\n",
    "displayVariable('\\\\frac{P_{02}}{P_c}',pressure_ratio_critical)"
   ]
  },
  {
   "cell_type": "code",
   "execution_count": 11,
   "metadata": {},
   "outputs": [
    {
     "data": {
      "text/latex": [
       "$\\displaystyle C_{8}=293.167201759329$"
      ],
      "text/plain": [
       "<IPython.core.display.Math object>"
      ]
     },
     "metadata": {},
     "output_type": "display_data"
    },
    {
     "data": {
      "text/latex": [
       "$\\displaystyle F_{c}=52525.7903152131$"
      ],
      "text/plain": [
       "<IPython.core.display.Math object>"
      ]
     },
     "metadata": {},
     "output_type": "display_data"
    }
   ],
   "source": [
    "delta_T_cold = nozzle_isentropic_efficiency*T02f*(1-pressure_ratio_fan**((1-gamma_air)/gamma_air))\n",
    "C8 = (2*cp_air*delta_T_cold*1000)**0.5\n",
    "displayVariable('C_8',C8)\n",
    "mass_flow_cold = mass_flow_total*bypass_ratio/(bypass_ratio+1)\n",
    "cold_thrust = mass_flow_cold*C8\n",
    "displayVariable('F_c',cold_thrust)"
   ]
  }
 ],
 "metadata": {
  "kernelspec": {
   "display_name": "Python 3",
   "language": "python",
   "name": "python3"
  },
  "language_info": {
   "codemirror_mode": {
    "name": "ipython",
    "version": 3
   },
   "file_extension": ".py",
   "mimetype": "text/x-python",
   "name": "python",
   "nbconvert_exporter": "python",
   "pygments_lexer": "ipython3",
   "version": "3.12.5"
  }
 },
 "nbformat": 4,
 "nbformat_minor": 2
}

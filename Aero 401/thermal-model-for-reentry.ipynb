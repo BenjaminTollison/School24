{
 "cells": [
  {
   "cell_type": "markdown",
   "metadata": {},
   "source": [
    "$$ \\ddot{r}_{drag} +\\frac{\\rho}{2 c_b} v^2_{rel} \\hat{v}_{rel} = 0$$\n",
    "$$ \\ddot{r}_{gravity} + \\frac{\\mu}{r^3}\\hat{r} = 0$$\n",
    "where:\n",
    "$$v_{rel} = v - \\omega_{earth}\\times r$$\n",
    "$$v = \\dot{r}$$\n",
    "starting from a circular orbit with:\n",
    "$$ r_{intial} \\in [200,500] + r_{earth}$$\n",
    "$$ \\dot{r}_{intial} = \\sqrt{\\frac{\\mu}{r_{circular}}}$$"
   ]
  },
  {
   "cell_type": "code",
   "execution_count": 1,
   "metadata": {},
   "outputs": [],
   "source": [
    "import matplotlib.pyplot as plt\n",
    "import numpy as np\n",
    "import scipy as sp\n",
    "import seaborn as sns\n",
    "import torch\n",
    "import torch.nn as nn\n",
    "from collections import OrderedDict\n",
    "from tqdm import tqdm\n",
    "\n",
    "class BasicNeuralNetwork(nn.Module):\n",
    "  def __init__(\n",
    "      self,\n",
    "      input_size,\n",
    "      output_size,\n",
    "      hidden_layer_size,\n",
    "      depth,\n",
    "      activation_layer = nn.Tanh\n",
    "  ):\n",
    "    super(BasicNeuralNetwork,self).__init__()\n",
    "    layers = [('input',nn.Linear(input_size,hidden_layer_size))]\n",
    "    layers.append(('input_activation',activation_layer()))\n",
    "    for index in range(depth):\n",
    "      layers.append(\n",
    "        ('hidden%d' % index, nn.Linear(hidden_layer_size,hidden_layer_size))\n",
    "      )\n",
    "      layers.append(('activation_%d' % index, activation_layer()))\n",
    "    layers.append(('output',nn.Linear(hidden_layer_size,output_size)))\n",
    "    layersDict = OrderedDict(layers)\n",
    "    self.layers = nn.Sequential(layersDict)\n",
    "  def forward(self,x):\n",
    "    output = self.layers(x)\n",
    "    return output"
   ]
  },
  {
   "cell_type": "markdown",
   "metadata": {},
   "source": [
    "### Starting from 100km\n",
    "$$ \\gamma \\in [1^\\circ,10^\\circ]$$"
   ]
  },
  {
   "cell_type": "code",
   "execution_count": null,
   "metadata": {},
   "outputs": [],
   "source": [
    "class ReentryPinns:\n",
    "  def __init__(self):\n",
    "    device = torch.device('cuda') if torch.cuda.is_available() else torch.device('cpu')\n",
    "    self.model = BasicNeuralNetwork(3,1,10,10,nn.Tanh).to(device)\n",
    "    fligh_path_angle\n",
    "    time\n",
    "    starting_alt"
   ]
  }
 ],
 "metadata": {
  "kernelspec": {
   "display_name": "Python 3",
   "language": "python",
   "name": "python3"
  },
  "language_info": {
   "codemirror_mode": {
    "name": "ipython",
    "version": 3
   },
   "file_extension": ".py",
   "mimetype": "text/x-python",
   "name": "python",
   "nbconvert_exporter": "python",
   "pygments_lexer": "ipython3",
   "version": "3.11.8"
  }
 },
 "nbformat": 4,
 "nbformat_minor": 2
}

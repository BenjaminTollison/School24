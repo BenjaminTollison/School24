{
 "cells": [
  {
   "cell_type": "code",
   "execution_count": 3,
   "metadata": {},
   "outputs": [
    {
     "data": {
      "text/html": [
       "<div>\n",
       "<style scoped>\n",
       "    .dataframe tbody tr th:only-of-type {\n",
       "        vertical-align: middle;\n",
       "    }\n",
       "\n",
       "    .dataframe tbody tr th {\n",
       "        vertical-align: top;\n",
       "    }\n",
       "\n",
       "    .dataframe thead th {\n",
       "        text-align: right;\n",
       "    }\n",
       "</style>\n",
       "<table border=\"1\" class=\"dataframe\">\n",
       "  <thead>\n",
       "    <tr style=\"text-align: right;\">\n",
       "      <th></th>\n",
       "      <th>0</th>\n",
       "      <th>1</th>\n",
       "    </tr>\n",
       "  </thead>\n",
       "  <tbody>\n",
       "    <tr>\n",
       "      <th>0</th>\n",
       "      <td>1.225000e+00</td>\n",
       "      <td>7.2490</td>\n",
       "    </tr>\n",
       "    <tr>\n",
       "      <th>25</th>\n",
       "      <td>3.899000e-02</td>\n",
       "      <td>6.3490</td>\n",
       "    </tr>\n",
       "    <tr>\n",
       "      <th>30</th>\n",
       "      <td>1.774000e-02</td>\n",
       "      <td>6.6882</td>\n",
       "    </tr>\n",
       "    <tr>\n",
       "      <th>40</th>\n",
       "      <td>3.972000e-03</td>\n",
       "      <td>7.5540</td>\n",
       "    </tr>\n",
       "    <tr>\n",
       "      <th>50</th>\n",
       "      <td>1.057000e-03</td>\n",
       "      <td>8.3820</td>\n",
       "    </tr>\n",
       "    <tr>\n",
       "      <th>1000</th>\n",
       "      <td>3.019000e-15</td>\n",
       "      <td>268.0000</td>\n",
       "    </tr>\n",
       "  </tbody>\n",
       "</table>\n",
       "</div>"
      ],
      "text/plain": [
       "                 0         1\n",
       "0     1.225000e+00    7.2490\n",
       "25    3.899000e-02    6.3490\n",
       "30    1.774000e-02    6.6882\n",
       "40    3.972000e-03    7.5540\n",
       "50    1.057000e-03    8.3820\n",
       "1000  3.019000e-15  268.0000"
      ]
     },
     "metadata": {},
     "output_type": "display_data"
    }
   ],
   "source": [
    "import pandas as pd\n",
    "\n",
    "atmospheric_table = {'0':[1.225,7.249],\n",
    "                     '25':[3.899*10**-2,6.349],\n",
    "                     '30':[1.774*10**-2,6.6882],\n",
    "                     '40':[3.972*10**-3,7.554],\n",
    "                     '50':[1.057*10**-3,8.382],\n",
    "                     '60':[3.206*10**-4,7.714],\n",
    "                     '70':[8.770*10**-5,6.549],\n",
    "                     '80':[1.905*10**-5,5.799],\n",
    "                     '90':[3.396*10**-6,5.382],\n",
    "                     '100':[3.396*10**-6,5.382],\n",
    "                     '1000':[3.019*10**-15,268]\n",
    "                     }\n",
    "display(pd.DataFrame(atmospheric_table).T)"
   ]
  }
 ],
 "metadata": {
  "kernelspec": {
   "display_name": "Python 3",
   "language": "python",
   "name": "python3"
  },
  "language_info": {
   "codemirror_mode": {
    "name": "ipython",
    "version": 3
   },
   "file_extension": ".py",
   "mimetype": "text/x-python",
   "name": "python",
   "nbconvert_exporter": "python",
   "pygments_lexer": "ipython3",
   "version": "3.11.2"
  }
 },
 "nbformat": 4,
 "nbformat_minor": 2
}
